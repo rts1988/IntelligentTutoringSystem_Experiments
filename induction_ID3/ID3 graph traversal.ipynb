{
 "cells": [
  {
   "cell_type": "code",
   "execution_count": 31,
   "metadata": {},
   "outputs": [],
   "source": [
    "import networkx as nx\n",
    "G = nx.DiGraph()\n",
    "G.add_node('START')\n",
    "G.add_edges_from([('START',(1,0,'a')),('START',(2,0,'b'))])\n",
    "G.add_edges_from([((1,0,'a'),(4,1,'v'))])\n",
    "G.add_edges_from([((4,1,'v'),'END')])\n"
   ]
  },
  {
   "cell_type": "code",
   "execution_count": 32,
   "metadata": {},
   "outputs": [
    {
     "name": "stdout",
     "output_type": "stream",
     "text": [
      "['START', (1, 0, 'a'), (4, 1, 'v'), 'END']\n"
     ]
    }
   ],
   "source": [
    "# get path from source to target\n",
    "for path in nx.all_simple_paths(G,'START','END'):\n",
    "    print(path)"
   ]
  },
  {
   "cell_type": "code",
   "execution_count": 34,
   "metadata": {},
   "outputs": [
    {
     "data": {
      "text/plain": [
       "False"
      ]
     },
     "execution_count": 34,
     "metadata": {},
     "output_type": "execute_result"
    }
   ],
   "source": [
    "# check if path exists to end from a node. errors out if a node doesn't exist\n",
    "nx.has_path(G,(2,0,'b'),'END')"
   ]
  },
  {
   "cell_type": "code",
   "execution_count": 25,
   "metadata": {},
   "outputs": [],
   "source": [
    "# each node is a 3 tuple (unique node id, attribute name (int), attribute value). maintain a counter for unique node id"
   ]
  },
  {
   "cell_type": "code",
   "execution_count": 30,
   "metadata": {},
   "outputs": [],
   "source": [
    "G.clear()"
   ]
  },
  {
   "cell_type": "code",
   "execution_count": 42,
   "metadata": {},
   "outputs": [
    {
     "name": "stdout",
     "output_type": "stream",
     "text": [
      "[]\n"
     ]
    }
   ],
   "source": [
    "#traverse back from end\n",
    "current_node = (4,1,'v')\n",
    "prev_node_successors = list(G.successors(list(G.predecessors(current_node))[0]))\n",
    "#for each successor, check if the node has a path to 'END'. if not, select it and return as next path to go down - go deep to end of path\n",
    "#prev_node_successors.remove(current_node)\n",
    "if len(prev_node_successors)==0:\n",
    "    # go up one more level. so this part of the function itself has to be recursive.\n",
    "\n",
    "    \n",
    "    \n"
   ]
  },
  {
   "cell_type": "code",
   "execution_count": null,
   "metadata": {},
   "outputs": [],
   "source": [
    "# for indexing and subsetting the data frame\n",
    "# get path to current node from START\n",
    "# loop across the nodes and index by the attribute values, remove those attributes from columns. "
   ]
  }
 ],
 "metadata": {
  "kernelspec": {
   "display_name": "Python 3",
   "language": "python",
   "name": "python3"
  },
  "language_info": {
   "codemirror_mode": {
    "name": "ipython",
    "version": 3
   },
   "file_extension": ".py",
   "mimetype": "text/x-python",
   "name": "python",
   "nbconvert_exporter": "python",
   "pygments_lexer": "ipython3",
   "version": "3.7.1"
  }
 },
 "nbformat": 4,
 "nbformat_minor": 2
}
