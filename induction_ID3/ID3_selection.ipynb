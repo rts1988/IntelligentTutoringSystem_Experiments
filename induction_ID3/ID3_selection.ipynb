{
 "cells": [
  {
   "cell_type": "markdown",
   "metadata": {},
   "source": [
    "# ID3 algorithm\n",
    "### Defining data"
   ]
  },
  {
   "cell_type": "code",
   "execution_count": 1,
   "metadata": {},
   "outputs": [
    {
     "name": "stdout",
     "output_type": "stream",
     "text": [
      "[['e', 'l', 's'], ['p', 'c', 'm'], ['i', 'y', 'c'], ['x', 'z', 'q']]\n",
      "[('e', 'p'), ('e', 'c'), ('e', 'm'), ('l', 'p'), ('l', 'c'), ('l', 'm'), ('s', 'p'), ('s', 'c'), ('s', 'm')]\n",
      "[(('e', 'p'), 'i'), (('e', 'p'), 'y'), (('e', 'p'), 'c'), (('e', 'c'), 'i'), (('e', 'c'), 'y'), (('e', 'c'), 'c'), (('e', 'm'), 'i'), (('e', 'm'), 'y'), (('e', 'm'), 'c'), (('l', 'p'), 'i'), (('l', 'p'), 'y'), (('l', 'p'), 'c'), (('l', 'c'), 'i'), (('l', 'c'), 'y'), (('l', 'c'), 'c'), (('l', 'm'), 'i'), (('l', 'm'), 'y'), (('l', 'm'), 'c'), (('s', 'p'), 'i'), (('s', 'p'), 'y'), (('s', 'p'), 'c'), (('s', 'c'), 'i'), (('s', 'c'), 'y'), (('s', 'c'), 'c'), (('s', 'm'), 'i'), (('s', 'm'), 'y'), (('s', 'm'), 'c')]\n",
      "[((('e', 'p'), 'i'), 'x'), ((('e', 'p'), 'i'), 'z'), ((('e', 'p'), 'i'), 'q'), ((('e', 'p'), 'y'), 'x'), ((('e', 'p'), 'y'), 'z'), ((('e', 'p'), 'y'), 'q'), ((('e', 'p'), 'c'), 'x'), ((('e', 'p'), 'c'), 'z'), ((('e', 'p'), 'c'), 'q'), ((('e', 'c'), 'i'), 'x'), ((('e', 'c'), 'i'), 'z'), ((('e', 'c'), 'i'), 'q'), ((('e', 'c'), 'y'), 'x'), ((('e', 'c'), 'y'), 'z'), ((('e', 'c'), 'y'), 'q'), ((('e', 'c'), 'c'), 'x'), ((('e', 'c'), 'c'), 'z'), ((('e', 'c'), 'c'), 'q'), ((('e', 'm'), 'i'), 'x'), ((('e', 'm'), 'i'), 'z'), ((('e', 'm'), 'i'), 'q'), ((('e', 'm'), 'y'), 'x'), ((('e', 'm'), 'y'), 'z'), ((('e', 'm'), 'y'), 'q'), ((('e', 'm'), 'c'), 'x'), ((('e', 'm'), 'c'), 'z'), ((('e', 'm'), 'c'), 'q'), ((('l', 'p'), 'i'), 'x'), ((('l', 'p'), 'i'), 'z'), ((('l', 'p'), 'i'), 'q'), ((('l', 'p'), 'y'), 'x'), ((('l', 'p'), 'y'), 'z'), ((('l', 'p'), 'y'), 'q'), ((('l', 'p'), 'c'), 'x'), ((('l', 'p'), 'c'), 'z'), ((('l', 'p'), 'c'), 'q'), ((('l', 'c'), 'i'), 'x'), ((('l', 'c'), 'i'), 'z'), ((('l', 'c'), 'i'), 'q'), ((('l', 'c'), 'y'), 'x'), ((('l', 'c'), 'y'), 'z'), ((('l', 'c'), 'y'), 'q'), ((('l', 'c'), 'c'), 'x'), ((('l', 'c'), 'c'), 'z'), ((('l', 'c'), 'c'), 'q'), ((('l', 'm'), 'i'), 'x'), ((('l', 'm'), 'i'), 'z'), ((('l', 'm'), 'i'), 'q'), ((('l', 'm'), 'y'), 'x'), ((('l', 'm'), 'y'), 'z'), ((('l', 'm'), 'y'), 'q'), ((('l', 'm'), 'c'), 'x'), ((('l', 'm'), 'c'), 'z'), ((('l', 'm'), 'c'), 'q'), ((('s', 'p'), 'i'), 'x'), ((('s', 'p'), 'i'), 'z'), ((('s', 'p'), 'i'), 'q'), ((('s', 'p'), 'y'), 'x'), ((('s', 'p'), 'y'), 'z'), ((('s', 'p'), 'y'), 'q'), ((('s', 'p'), 'c'), 'x'), ((('s', 'p'), 'c'), 'z'), ((('s', 'p'), 'c'), 'q'), ((('s', 'c'), 'i'), 'x'), ((('s', 'c'), 'i'), 'z'), ((('s', 'c'), 'i'), 'q'), ((('s', 'c'), 'y'), 'x'), ((('s', 'c'), 'y'), 'z'), ((('s', 'c'), 'y'), 'q'), ((('s', 'c'), 'c'), 'x'), ((('s', 'c'), 'c'), 'z'), ((('s', 'c'), 'c'), 'q'), ((('s', 'm'), 'i'), 'x'), ((('s', 'm'), 'i'), 'z'), ((('s', 'm'), 'i'), 'q'), ((('s', 'm'), 'y'), 'x'), ((('s', 'm'), 'y'), 'z'), ((('s', 'm'), 'y'), 'q'), ((('s', 'm'), 'c'), 'x'), ((('s', 'm'), 'c'), 'z'), ((('s', 'm'), 'c'), 'q')]\n"
     ]
    },
    {
     "data": {
      "text/plain": [
       "81"
      ]
     },
     "execution_count": 1,
     "metadata": {},
     "output_type": "execute_result"
    }
   ],
   "source": [
    "import itertools # for cartesian product, powerset and others\n",
    "import numpy as num\n",
    "import random\n",
    "import matplotlib.pyplot as plt\n",
    "import networkx as nx\n",
    "import math\n",
    "#plt.figure(figsize=(20,10))\n",
    "# Setting number of attributes in observations and number of values for each attribute in a list.\n",
    "numattributes = 4\n",
    "valuenumlist = [3]*numattributes\n",
    "#valuenumlist = [3,3,2]\n",
    "\n",
    "# set fraction of original observations that are in original observed list\n",
    "proportion_original = 0.7\n",
    "\n",
    "# make a list of sets with 'values', one set for each attribute\n",
    "values = 'abcdefghijklmnopqrstuvwxyz'\n",
    "attlists = [random.sample(values,i) for i in valuenumlist]\n",
    "print(attlists)\n",
    "# sample output\n",
    "# [{0, 1}, {0, 1}, {0, 1}, {0, 1}]\n",
    "\n",
    "# compute the number of combinations with a successive cartesian product of sets\n",
    "observations = attlists[0]\n",
    "for i in attlists[1:len(attlists)]:\n",
    "    observations = list(itertools.product(observations,i))\n",
    "    print(observations)\n",
    "    #observations = [list(i) for i in observations]\n",
    "len(observations)"
   ]
  },
  {
   "cell_type": "code",
   "execution_count": 2,
   "metadata": {},
   "outputs": [
    {
     "name": "stdout",
     "output_type": "stream",
     "text": [
      "12 1554 2401\n"
     ]
    }
   ],
   "source": [
    "# set the number of positive instances in the rule (has to be less than  or equal to number of observations)\n",
    "#numpositiveinstance = int(len(observations)*1/2)\n",
    "\n",
    "# flatten the nested tuples nature of observations to a list of lists\n",
    "\n",
    "def flattentup(tup):\n",
    "    flatlist = []\n",
    "    for elt in tup:\n",
    "        #print(elt,type(elt))\n",
    "        if type(elt) is not tuple:\n",
    "            #print('elt appended')\n",
    "            flatlist.append(elt)\n",
    "        else:\n",
    "            #print('calling recursive')\n",
    "            flatlist = flatlist + flattentup(elt)\n",
    "    return flatlist\n",
    "\n",
    "observationslist = [flattentup(elt) for elt in observations]\n",
    "#print(observationslist)\n",
    "\n",
    "# now make a powerset of possible combinations of observations that satisfy the 'rule' - each combination is a hypothesis\n",
    "# taking powerset recipe from itertools library documentation https://docs.python.org/3/library/itertools.html\n",
    "def powerset(iterable):\n",
    "    \"powerset([1,2,3]) --> () (1,) (2,) (3,) (1,2) (1,3) (2,3) (1,2,3)\"\n",
    "    s = list(iterable)\n",
    "    return itertools.chain.from_iterable(combinations(s, r) for r in range(len(s)+1))\n",
    "\n",
    "# the total number of hypotheses, including one that none of the observations are positive for category X \n",
    "# is 2^n where n is the total number of possible observations\n",
    "\n",
    "numhypotheses = 2**len(observations)\n",
    "# 65536!!! As you can see this is an expensive computation. we need ways to specify constraints on possible hypotheses\n",
    "# some hypotheses will allow only one set of values in the condition for one attribute,\n",
    "# so every attribute looks like attribute1 in {0,1} and attribute2 in {1} and attribute3 in {0,1} and attribute4 in {0,1}\n",
    "# there is no giant OR that includes a different set of attributes.\n",
    "# we'll call these simple hypotheses.\n",
    "# the above is an example of a simple conjunction hypothesis.\n",
    "# we can also have a simple disjunction hypothesis: attribute1 in {0} or attribute2 in {1}\n",
    "# or we can have simple single value hypotheses such as: attribute3 in {0}\n",
    "# if we are able to eliminate in the order of Occam's razor, then we can move onto more complex hypotheses in order of\n",
    "# the number of positive instances for the rule. \n",
    "\n",
    "# how to compute number of all possible simple single value hypotheses:\n",
    "# it is the product of number of values of each attribute. \n",
    "num_simple_singlevalue_hypotheses = sum(valuenumlist)\n",
    "# 8 for above example\n",
    "\n",
    "num_simple_conjunction = num.prod([(2**i)-1 for i in valuenumlist]) # only an and in condition involving the attributes. \n",
    "# this will include one hypothesis with every single possible value as a positive instance. \n",
    "# 81\n",
    "\n",
    "#num_simple_disjunction\n",
    "# only one or in condition\n",
    "# need to look at only two, to all. \n",
    "# total number of combinations for one attribute value (cannot include all or none) = (2**numvaluelist[i]) - 2\n",
    "powerterm = (2**valuenumlist[0]) - 2\n",
    "num_simple_disjunction = powerterm\n",
    "for i in range(1,len(valuenumlist)):\n",
    "    powerterm =powerterm*((2**valuenumlist[i])-2)\n",
    "    num_simple_disjunction = num_simple_disjunction + powerterm\n",
    "# 30\n",
    "\n",
    "print(num_simple_singlevalue_hypotheses,num_simple_disjunction, num_simple_conjunction)\n",
    "\n",
    "# make a random 16C8 selection."
   ]
  },
  {
   "cell_type": "code",
   "execution_count": 3,
   "metadata": {},
   "outputs": [],
   "source": [
    "# function to get a dictionary of attribtues in a dataset (excepting the classification data column) as keys mapped to  \n",
    "# their possible values\n",
    "def get_attsets(data,Y='Y'):\n",
    "    attsetskey = list(data.columns)\n",
    "    #print(attsetskey)\n",
    "    if Y in attsetskey:\n",
    "        attsetskey.remove(Y)\n",
    "    #print(attsetskey)\n",
    "    attsetsvalue = [list(data[i].unique()) for i in attsetskey]\n",
    "    attsets = dict(zip(attsetskey,attsetsvalue))\n",
    "    attsetscopy = dict()\n",
    "    for (key,values) in attsets.items():\n",
    "        if len(values)>1:\n",
    "            attsetscopy[key] = values\n",
    "    return attsetscopy\n"
   ]
  },
  {
   "cell_type": "code",
   "execution_count": 4,
   "metadata": {},
   "outputs": [
    {
     "data": {
      "text/plain": [
       "{'0': ['e', 'l', 's'],\n",
       " '1': ['p', 'c', 'm'],\n",
       " '2': ['i', 'y', 'c'],\n",
       " '3': ['x', 'z', 'q']}"
      ]
     },
     "execution_count": 4,
     "metadata": {},
     "output_type": "execute_result"
    }
   ],
   "source": [
    "import pandas as pd\n",
    "datafull = pd.DataFrame.from_records(observationslist)\n",
    "datafull.columns = [str(i) for i in datafull.columns]\n",
    "attsets = get_attsets(datafull)\n",
    "attsets"
   ]
  },
  {
   "cell_type": "code",
   "execution_count": 5,
   "metadata": {},
   "outputs": [],
   "source": [
    "# Random rule generation \n",
    "#selection = random.sample(range(len(observationslist)),numpositiveinstance)\n",
    "#selection.sort()\n",
    "#Y = [1 if i in selection else 0 for i in range(len(observations))]\n",
    "#print(selection)\n",
    "#print(observationslist)\n",
    "#print(Y)"
   ]
  },
  {
   "cell_type": "code",
   "execution_count": 6,
   "metadata": {},
   "outputs": [],
   "source": [
    "# setting a single value hypotheses such as att '2' == 'x'\n",
    "# hypothesis_attribute = random.sample(list(attsets.keys()),1)[0]\n",
    "# print(hypothesis_attribute)\n",
    "# hypothesis_value = random.sample(attsets[hypothesis_attribute],1)[0]\n",
    "# print(hypothesis_value)\n",
    "# Y = [1 if datafull.iloc[i,hypothesis_attribute]==hypothesis_value else 0 for i in range(len(datafull)) ]"
   ]
  },
  {
   "cell_type": "code",
   "execution_count": 7,
   "metadata": {},
   "outputs": [],
   "source": [
    "# # setting a simple 'and' hypothesis such as (att '2' == 'x') and (att '1' == 'e') with max 2 attributes.\n",
    "# hypothesis_attribute = random.samplelist(attsets.keys()),2)\n",
    "# print(hypothesis_attribute)\n",
    "# hypothesis_value = [random.sample(attsets[hypothesis_attribute[i]],1)[0] for i in range(len(hypothesis_attribute))]\n",
    "# print(hypothesis_value)\n",
    "# Y = [1 if (datafull.iloc[i,hypothesis_attribute[0]]==hypothesis_value[0]) and (datafull.iloc[i,hypothesis_attribute[1]]==hypothesis_value[1]) else 0 for i in range(len(datafull)) ]"
   ]
  },
  {
   "cell_type": "code",
   "execution_count": 8,
   "metadata": {},
   "outputs": [],
   "source": [
    "#setting a simple 'and' hypothesis such as (att '2' == 'x') and (att '1' == 'e') with spec no of rule attributes.\n",
    "# hypothesis_attribute = random.sample(list(attsets.keys()),4)\n",
    "# print(hypothesis_attribute)\n",
    "# hypothesis_value = [random.sample(attsets[hypothesis_attribute[i]],1)[0] for i in range(len(hypothesis_attribute))]\n",
    "# print(hypothesis_value)\n",
    "# ind = set(datafull.index)\n",
    "# for i in range(len(hypothesis_attribute)):\n",
    "#     ind = ind.intersection(datafull[datafull[hypothesis_attribute[i]]==hypothesis_value[i]].index)\n",
    "#     print(ind)\n",
    "\n",
    "# Y = [1 if i in ind else 0 for i in list(datafull.index) ]"
   ]
  },
  {
   "cell_type": "code",
   "execution_count": 9,
   "metadata": {},
   "outputs": [],
   "source": [
    "# setting a simple 'or' hypothesis (one value per attribute only for now)\n",
    "# hypothesis_attribute = random.sample(list(attsets.keys()),3)\n",
    "# print(hypothesis_attribute)\n",
    "# hypothesis_value = [random.sample(attsets[hypothesis_attribute[i]],1)[0] for i in range(len(hypothesis_attribute))]\n",
    "# print(hypothesis_value)\n",
    "\n",
    "# ind = set()\n",
    "# for i in range(len(hypothesis_attribute)):\n",
    "#     ind = ind.union(datafull[datafull[hypothesis_attribute[i]]==hypothesis_value[i]].index)\n",
    "#     print(len(ind))\n",
    "\n",
    "# Y = [1 if i in ind else 0 for i in list(datafull.index) ]"
   ]
  },
  {
   "cell_type": "code",
   "execution_count": 10,
   "metadata": {},
   "outputs": [
    {
     "name": "stdout",
     "output_type": "stream",
     "text": [
      "0\n",
      "['e', 'l']\n",
      "27\n",
      "54\n"
     ]
    }
   ],
   "source": [
    "# setting a simple 'or' hypothesis (two or more values for one attribute only)\n",
    "hypothesis_attribute = random.sample(list(attsets.keys()),1)[0]\n",
    "print(hypothesis_attribute)\n",
    "hypothesis_value = random.sample(attsets[hypothesis_attribute],2) \n",
    "print(hypothesis_value)\n",
    "ind = set()\n",
    "for i in range(len(hypothesis_value)):\n",
    "    ind = ind.union(datafull[datafull[hypothesis_attribute]==hypothesis_value[i]].index)\n",
    "    print(len(ind))\n",
    "\n",
    "Y = [1 if i in ind else 0 for i in list(datafull.index) ]"
   ]
  },
  {
   "cell_type": "code",
   "execution_count": 11,
   "metadata": {},
   "outputs": [
    {
     "data": {
      "text/plain": [
       "one     54\n",
       "zero    27\n",
       "Name: Y, dtype: int64"
      ]
     },
     "execution_count": 11,
     "metadata": {},
     "output_type": "execute_result"
    }
   ],
   "source": [
    "datafull['Y'] = Y\n",
    "#datafull = pd.read_csv('ID3sampledata.csv',index_col=0)\n",
    "#data.to_csv('ID3sampledata.csv')\n",
    "datafull.columns = [str(i) for i in datafull.columns]\n",
    "datafull['Y'] = datafull['Y'].replace(to_replace = [0,1],value = ['zero','one'])\n",
    "datafull['Y'].value_counts()"
   ]
  },
  {
   "cell_type": "code",
   "execution_count": 12,
   "metadata": {},
   "outputs": [
    {
     "name": "stdout",
     "output_type": "stream",
     "text": [
      "No. of observations so far 16\n",
      "Index([], dtype='object')\n"
     ]
    }
   ],
   "source": [
    "proportion_original = 0.2\n",
    "selection = random.sample(list(datafull.index),int(proportion_original*len(datafull)))\n",
    "selection.sort()\n",
    "not_selection = list(set(datafull.index)-set(selection))\n",
    "data = datafull.iloc[selection,:]\n",
    "data_rem = datafull.iloc[not_selection,:]\n",
    "#print(data)\n",
    "#print(data_rem)\n",
    "attsets = get_attsets(data,Y='Y')\n",
    "attsets\n",
    "print(\"No. of observations so far\",len(data))\n",
    "# \n",
    "#print(attsets)\n",
    "# for each attribute, what are the number of positive and negative instances\n",
    "#display_one = pd.Series()\n",
    "#display_zero = pd.Series()\n",
    "display = pd.DataFrame()\n",
    "print(data.loc[data['0']=='a','Y'].value_counts().index)"
   ]
  },
  {
   "cell_type": "code",
   "execution_count": 13,
   "metadata": {},
   "outputs": [
    {
     "data": {
      "text/html": [
       "<div>\n",
       "<style scoped>\n",
       "    .dataframe tbody tr th:only-of-type {\n",
       "        vertical-align: middle;\n",
       "    }\n",
       "\n",
       "    .dataframe tbody tr th {\n",
       "        vertical-align: top;\n",
       "    }\n",
       "\n",
       "    .dataframe thead th {\n",
       "        text-align: right;\n",
       "    }\n",
       "</style>\n",
       "<table border=\"1\" class=\"dataframe\">\n",
       "  <thead>\n",
       "    <tr style=\"text-align: right;\">\n",
       "      <th></th>\n",
       "      <th>one</th>\n",
       "      <th>zero</th>\n",
       "    </tr>\n",
       "  </thead>\n",
       "  <tbody>\n",
       "    <tr>\n",
       "      <th>0_e</th>\n",
       "      <td>5.0</td>\n",
       "      <td>0.0</td>\n",
       "    </tr>\n",
       "    <tr>\n",
       "      <th>0_l</th>\n",
       "      <td>4.0</td>\n",
       "      <td>0.0</td>\n",
       "    </tr>\n",
       "    <tr>\n",
       "      <th>0_s</th>\n",
       "      <td>0.0</td>\n",
       "      <td>7.0</td>\n",
       "    </tr>\n",
       "    <tr>\n",
       "      <th>1_p</th>\n",
       "      <td>5.0</td>\n",
       "      <td>4.0</td>\n",
       "    </tr>\n",
       "    <tr>\n",
       "      <th>1_c</th>\n",
       "      <td>3.0</td>\n",
       "      <td>2.0</td>\n",
       "    </tr>\n",
       "    <tr>\n",
       "      <th>1_m</th>\n",
       "      <td>1.0</td>\n",
       "      <td>1.0</td>\n",
       "    </tr>\n",
       "    <tr>\n",
       "      <th>2_i</th>\n",
       "      <td>3.0</td>\n",
       "      <td>3.0</td>\n",
       "    </tr>\n",
       "    <tr>\n",
       "      <th>2_c</th>\n",
       "      <td>4.0</td>\n",
       "      <td>1.0</td>\n",
       "    </tr>\n",
       "    <tr>\n",
       "      <th>2_y</th>\n",
       "      <td>2.0</td>\n",
       "      <td>3.0</td>\n",
       "    </tr>\n",
       "    <tr>\n",
       "      <th>3_z</th>\n",
       "      <td>4.0</td>\n",
       "      <td>3.0</td>\n",
       "    </tr>\n",
       "    <tr>\n",
       "      <th>3_q</th>\n",
       "      <td>4.0</td>\n",
       "      <td>2.0</td>\n",
       "    </tr>\n",
       "    <tr>\n",
       "      <th>3_x</th>\n",
       "      <td>1.0</td>\n",
       "      <td>2.0</td>\n",
       "    </tr>\n",
       "  </tbody>\n",
       "</table>\n",
       "</div>"
      ],
      "text/plain": [
       "     one  zero\n",
       "0_e  5.0   0.0\n",
       "0_l  4.0   0.0\n",
       "0_s  0.0   7.0\n",
       "1_p  5.0   4.0\n",
       "1_c  3.0   2.0\n",
       "1_m  1.0   1.0\n",
       "2_i  3.0   3.0\n",
       "2_c  4.0   1.0\n",
       "2_y  2.0   3.0\n",
       "3_z  4.0   3.0\n",
       "3_q  4.0   2.0\n",
       "3_x  1.0   2.0"
      ]
     },
     "execution_count": 13,
     "metadata": {},
     "output_type": "execute_result"
    }
   ],
   "source": [
    "for att in attsets:\n",
    "    #print(data[att].value_counts())\n",
    "    for v in attsets[att]:\n",
    "        #print(att,v)\n",
    "        #print(data.loc[data[att]==v,'Y'].value_counts())\n",
    "        if 'one' in data.loc[data[att]==v,'Y'].value_counts().index:\n",
    "            display.loc[str(att)+'_'+str(v),'one'] = data.loc[data[att]==v,'Y'].value_counts().loc['one']\n",
    "        else:\n",
    "            display.loc[str(att)+'_'+str(v),'one'] = 0\n",
    "        if 'zero' in data.loc[data[att]==v,'Y'].value_counts().index:\n",
    "            display.loc[str(att)+'_'+str(v),'zero'] = data.loc[data[att]==v,'Y'].value_counts().loc['zero']\n",
    "        else:\n",
    "            display.loc[str(att)+'_'+str(v),'zero'] = 0\n",
    "display"
   ]
  },
  {
   "cell_type": "code",
   "execution_count": 14,
   "metadata": {},
   "outputs": [],
   "source": [
    "# data = pd.DataFrame()\n",
    "# #data['Day'] = pd.Series(range(1,15,1))\n",
    "# data['Outlook'] = pd.Series(['Sunny','Sunny','Overcast','Rain','Rain','Rain','Overcast','Sunny','Sunny','Rain','Sunny','Overcast','Overcast','Rain'])\n",
    "# data['Temp'] = pd.Series(['Hot','Hot','Hot','Mild','Cool','Cool','Cool','Mild','Cool','Mild','Mild','Mild','Hot','Mild'])\n",
    "# data['Humidity'] = pd.Series(['High','High','High','High','Normal','Normal','Normal','High','Normal','Normal','Normal','High','Normal','High'])\n",
    "# data['Wind'] = pd.Series(['Weak','Strong','Weak','Weak','Weak','Strong','Strong','Weak','Weak','Weak','Strong','Strong','Weak','Strong'])\n",
    "# data['Decision'] = pd.Series(['No','No','Yes','Yes','Yes','No','Yes','No','Yes','Yes','Yes','Yes','Yes','No'])\n",
    "# data"
   ]
  },
  {
   "cell_type": "code",
   "execution_count": 15,
   "metadata": {},
   "outputs": [],
   "source": [
    "# Function to calculate entropy of a dataset\n",
    "def calc_H(subdata,Y = 'Y'):\n",
    "    p = subdata[Y].value_counts()/len(subdata[Y])\n",
    "    plogp = pd.Series(-i*math.log(i,2) for i in p)\n",
    "    H = plogp.sum()\n",
    "    return H\n",
    "\n",
    "def calc_H_p(subdata,Y = 'Y'):\n",
    "    p = subdata[Y].value_counts()/len(subdata[Y])\n",
    "    plogp = pd.Series(-i*math.log(i,2) for i in p)\n",
    "    H = plogp.sum()\n",
    "    return (H,p)"
   ]
  },
  {
   "cell_type": "code",
   "execution_count": 16,
   "metadata": {},
   "outputs": [],
   "source": [
    "# functions to calculate Information gain, and to get the max information gain attribute from a dataset\n",
    "import math\n",
    "def IG(subdata,att,values,HS, Y = 'Y'):\n",
    "    m = subdata[str(att)].value_counts()/len(subdata[str(att)]) \n",
    "    #print('Proportion in each value of attribute ',att)\n",
    "    #print(m)\n",
    "    Hatt = dict()\n",
    "    matt = dict()\n",
    "    mHatt = dict()\n",
    "    for k in values:\n",
    "        subdata1 = subdata[subdata[str(att)]==k]\n",
    "        #print('Attribute: ',att,'   Value: ',k)\n",
    "        Hatt[k] = calc_H(subdata1,Y)\n",
    "        #print('Entropy of ',k,Hatt[k])\n",
    "        #print(m[k])\n",
    "        mHatt[k] = m[k]*Hatt[k]\n",
    "        #print(mHatt[k])\n",
    "    return (HS - sum([v for (k,v) in mHatt.items()]))"
   ]
  },
  {
   "cell_type": "code",
   "execution_count": 17,
   "metadata": {},
   "outputs": [],
   "source": [
    "def IG_matt_Hatt(subdata,att,values,HS,Y = 'Y'):\n",
    "    m = subdata[str(att)].value_counts()/len(subdata[str(att)]) \n",
    "    print('Proportion in each value of attribute ',att)\n",
    "    print(m)\n",
    "    Hatt = dict()\n",
    "    matt = dict()\n",
    "    mHatt = dict()\n",
    "    for k in values:\n",
    "        subdata1 = subdata[subdata[str(att)]==k]\n",
    "        print('Attribute: ',att,'   Value: ',k)\n",
    "        Hatt[k] = calc_H(subdata1,Y)\n",
    "        print('Entropy of ',k,Hatt[k])\n",
    "        mHatt[k] = m[k]*Hatt[k]\n",
    "        print('mhatt',mHatt[k])\n",
    "        IG = (HS - sum([v for (k,v) in mHatt.items()]))\n",
    "    return (IG,m,Hatt)\n",
    "\n",
    "def get_maxIG_att(subdata,HS,Y='Y'):\n",
    "    maxIG = 0\n",
    "    maxIGatt = ''\n",
    "    #print('HS = ',HS)\n",
    "    attIGdict = dict()\n",
    "    attsets = get_attsets(subdata,Y)\n",
    "    for att in attsets:\n",
    "        currentIG = IG(subdata,att,attsets[att],HS,Y)\n",
    "        if currentIG>maxIG:\n",
    "            maxIG = currentIG\n",
    "            maxIGatt= att\n",
    "    return (maxIGatt,maxIG)    "
   ]
  },
  {
   "cell_type": "code",
   "execution_count": 18,
   "metadata": {},
   "outputs": [],
   "source": [
    "# getting IG for each attribute: (changed print options in IG_matt_Hatt function temporarily)\n",
    "#for att in attsets.keys():\n",
    "#    print(IG_matt_Hatt(data,att,attsets[att],HS,Y = 'Y'),'\\n')"
   ]
  },
  {
   "cell_type": "code",
   "execution_count": 19,
   "metadata": {},
   "outputs": [
    {
     "ename": "KeyError",
     "evalue": "'the label [zero] is not in the [index]'",
     "output_type": "error",
     "traceback": [
      "\u001b[1;31m---------------------------------------------------------------------------\u001b[0m",
      "\u001b[1;31mKeyError\u001b[0m                                  Traceback (most recent call last)",
      "\u001b[1;32m~\\Anaconda3\\lib\\site-packages\\pandas\\core\\indexing.py\u001b[0m in \u001b[0;36m_validate_key\u001b[1;34m(self, key, axis)\u001b[0m\n\u001b[0;32m   1789\u001b[0m                 \u001b[1;32mif\u001b[0m \u001b[1;32mnot\u001b[0m \u001b[0max\u001b[0m\u001b[1;33m.\u001b[0m\u001b[0mcontains\u001b[0m\u001b[1;33m(\u001b[0m\u001b[0mkey\u001b[0m\u001b[1;33m)\u001b[0m\u001b[1;33m:\u001b[0m\u001b[1;33m\u001b[0m\u001b[1;33m\u001b[0m\u001b[0m\n\u001b[1;32m-> 1790\u001b[1;33m                     \u001b[0merror\u001b[0m\u001b[1;33m(\u001b[0m\u001b[1;33m)\u001b[0m\u001b[1;33m\u001b[0m\u001b[1;33m\u001b[0m\u001b[0m\n\u001b[0m\u001b[0;32m   1791\u001b[0m             \u001b[1;32mexcept\u001b[0m \u001b[0mTypeError\u001b[0m \u001b[1;32mas\u001b[0m \u001b[0me\u001b[0m\u001b[1;33m:\u001b[0m\u001b[1;33m\u001b[0m\u001b[1;33m\u001b[0m\u001b[0m\n",
      "\u001b[1;32m~\\Anaconda3\\lib\\site-packages\\pandas\\core\\indexing.py\u001b[0m in \u001b[0;36merror\u001b[1;34m()\u001b[0m\n\u001b[0;32m   1784\u001b[0m                                .format(key=key,\n\u001b[1;32m-> 1785\u001b[1;33m                                        axis=self.obj._get_axis_name(axis)))\n\u001b[0m\u001b[0;32m   1786\u001b[0m \u001b[1;33m\u001b[0m\u001b[0m\n",
      "\u001b[1;31mKeyError\u001b[0m: 'the label [zero] is not in the [index]'",
      "\nDuring handling of the above exception, another exception occurred:\n",
      "\u001b[1;31mKeyError\u001b[0m                                  Traceback (most recent call last)",
      "\u001b[1;32m<ipython-input-19-dfb718388d52>\u001b[0m in \u001b[0;36m<module>\u001b[1;34m\u001b[0m\n\u001b[0;32m      8\u001b[0m         \u001b[1;31m#print(data.loc[data[att]==v,'Y'].value_counts())\u001b[0m\u001b[1;33m\u001b[0m\u001b[1;33m\u001b[0m\u001b[1;33m\u001b[0m\u001b[0m\n\u001b[0;32m      9\u001b[0m         \u001b[0mdisplay_new\u001b[0m\u001b[1;33m.\u001b[0m\u001b[0mloc\u001b[0m\u001b[1;33m[\u001b[0m\u001b[0mstr\u001b[0m\u001b[1;33m(\u001b[0m\u001b[0matt\u001b[0m\u001b[1;33m)\u001b[0m\u001b[1;33m+\u001b[0m\u001b[1;34m'_'\u001b[0m\u001b[1;33m+\u001b[0m\u001b[0mstr\u001b[0m\u001b[1;33m(\u001b[0m\u001b[0mv\u001b[0m\u001b[1;33m)\u001b[0m\u001b[1;33m,\u001b[0m\u001b[1;34m'one'\u001b[0m\u001b[1;33m]\u001b[0m \u001b[1;33m=\u001b[0m \u001b[0mnewdata\u001b[0m\u001b[1;33m.\u001b[0m\u001b[0mloc\u001b[0m\u001b[1;33m[\u001b[0m\u001b[0mnewdata\u001b[0m\u001b[1;33m[\u001b[0m\u001b[0matt\u001b[0m\u001b[1;33m]\u001b[0m\u001b[1;33m==\u001b[0m\u001b[0mv\u001b[0m\u001b[1;33m,\u001b[0m\u001b[1;34m'Y'\u001b[0m\u001b[1;33m]\u001b[0m\u001b[1;33m.\u001b[0m\u001b[0mvalue_counts\u001b[0m\u001b[1;33m(\u001b[0m\u001b[1;33m)\u001b[0m\u001b[1;33m.\u001b[0m\u001b[0mloc\u001b[0m\u001b[1;33m[\u001b[0m\u001b[1;34m'one'\u001b[0m\u001b[1;33m]\u001b[0m\u001b[1;33m\u001b[0m\u001b[1;33m\u001b[0m\u001b[0m\n\u001b[1;32m---> 10\u001b[1;33m         \u001b[0mdisplay_new\u001b[0m\u001b[1;33m.\u001b[0m\u001b[0mloc\u001b[0m\u001b[1;33m[\u001b[0m\u001b[0mstr\u001b[0m\u001b[1;33m(\u001b[0m\u001b[0matt\u001b[0m\u001b[1;33m)\u001b[0m\u001b[1;33m+\u001b[0m\u001b[1;34m'_'\u001b[0m\u001b[1;33m+\u001b[0m\u001b[0mstr\u001b[0m\u001b[1;33m(\u001b[0m\u001b[0mv\u001b[0m\u001b[1;33m)\u001b[0m\u001b[1;33m,\u001b[0m\u001b[1;34m'zero'\u001b[0m\u001b[1;33m]\u001b[0m \u001b[1;33m=\u001b[0m \u001b[0mnewdata\u001b[0m\u001b[1;33m.\u001b[0m\u001b[0mloc\u001b[0m\u001b[1;33m[\u001b[0m\u001b[0mnewdata\u001b[0m\u001b[1;33m[\u001b[0m\u001b[0matt\u001b[0m\u001b[1;33m]\u001b[0m\u001b[1;33m==\u001b[0m\u001b[0mv\u001b[0m\u001b[1;33m,\u001b[0m\u001b[1;34m'Y'\u001b[0m\u001b[1;33m]\u001b[0m\u001b[1;33m.\u001b[0m\u001b[0mvalue_counts\u001b[0m\u001b[1;33m(\u001b[0m\u001b[1;33m)\u001b[0m\u001b[1;33m.\u001b[0m\u001b[0mloc\u001b[0m\u001b[1;33m[\u001b[0m\u001b[1;34m'zero'\u001b[0m\u001b[1;33m]\u001b[0m\u001b[1;33m\u001b[0m\u001b[1;33m\u001b[0m\u001b[0m\n\u001b[0m\u001b[0;32m     11\u001b[0m \u001b[0mdisplay_new\u001b[0m\u001b[1;33m\u001b[0m\u001b[1;33m\u001b[0m\u001b[0m\n\u001b[0;32m     12\u001b[0m \u001b[1;31m# for obs in data_rem.transpose():\u001b[0m\u001b[1;33m\u001b[0m\u001b[1;33m\u001b[0m\u001b[1;33m\u001b[0m\u001b[0m\n",
      "\u001b[1;32m~\\Anaconda3\\lib\\site-packages\\pandas\\core\\indexing.py\u001b[0m in \u001b[0;36m__getitem__\u001b[1;34m(self, key)\u001b[0m\n\u001b[0;32m   1476\u001b[0m \u001b[1;33m\u001b[0m\u001b[0m\n\u001b[0;32m   1477\u001b[0m             \u001b[0mmaybe_callable\u001b[0m \u001b[1;33m=\u001b[0m \u001b[0mcom\u001b[0m\u001b[1;33m.\u001b[0m\u001b[0m_apply_if_callable\u001b[0m\u001b[1;33m(\u001b[0m\u001b[0mkey\u001b[0m\u001b[1;33m,\u001b[0m \u001b[0mself\u001b[0m\u001b[1;33m.\u001b[0m\u001b[0mobj\u001b[0m\u001b[1;33m)\u001b[0m\u001b[1;33m\u001b[0m\u001b[1;33m\u001b[0m\u001b[0m\n\u001b[1;32m-> 1478\u001b[1;33m             \u001b[1;32mreturn\u001b[0m \u001b[0mself\u001b[0m\u001b[1;33m.\u001b[0m\u001b[0m_getitem_axis\u001b[0m\u001b[1;33m(\u001b[0m\u001b[0mmaybe_callable\u001b[0m\u001b[1;33m,\u001b[0m \u001b[0maxis\u001b[0m\u001b[1;33m=\u001b[0m\u001b[0maxis\u001b[0m\u001b[1;33m)\u001b[0m\u001b[1;33m\u001b[0m\u001b[1;33m\u001b[0m\u001b[0m\n\u001b[0m\u001b[0;32m   1479\u001b[0m \u001b[1;33m\u001b[0m\u001b[0m\n\u001b[0;32m   1480\u001b[0m     \u001b[1;32mdef\u001b[0m \u001b[0m_is_scalar_access\u001b[0m\u001b[1;33m(\u001b[0m\u001b[0mself\u001b[0m\u001b[1;33m,\u001b[0m \u001b[0mkey\u001b[0m\u001b[1;33m)\u001b[0m\u001b[1;33m:\u001b[0m\u001b[1;33m\u001b[0m\u001b[1;33m\u001b[0m\u001b[0m\n",
      "\u001b[1;32m~\\Anaconda3\\lib\\site-packages\\pandas\\core\\indexing.py\u001b[0m in \u001b[0;36m_getitem_axis\u001b[1;34m(self, key, axis)\u001b[0m\n\u001b[0;32m   1909\u001b[0m \u001b[1;33m\u001b[0m\u001b[0m\n\u001b[0;32m   1910\u001b[0m         \u001b[1;31m# fall thru to straight lookup\u001b[0m\u001b[1;33m\u001b[0m\u001b[1;33m\u001b[0m\u001b[1;33m\u001b[0m\u001b[0m\n\u001b[1;32m-> 1911\u001b[1;33m         \u001b[0mself\u001b[0m\u001b[1;33m.\u001b[0m\u001b[0m_validate_key\u001b[0m\u001b[1;33m(\u001b[0m\u001b[0mkey\u001b[0m\u001b[1;33m,\u001b[0m \u001b[0maxis\u001b[0m\u001b[1;33m)\u001b[0m\u001b[1;33m\u001b[0m\u001b[1;33m\u001b[0m\u001b[0m\n\u001b[0m\u001b[0;32m   1912\u001b[0m         \u001b[1;32mreturn\u001b[0m \u001b[0mself\u001b[0m\u001b[1;33m.\u001b[0m\u001b[0m_get_label\u001b[0m\u001b[1;33m(\u001b[0m\u001b[0mkey\u001b[0m\u001b[1;33m,\u001b[0m \u001b[0maxis\u001b[0m\u001b[1;33m=\u001b[0m\u001b[0maxis\u001b[0m\u001b[1;33m)\u001b[0m\u001b[1;33m\u001b[0m\u001b[1;33m\u001b[0m\u001b[0m\n\u001b[0;32m   1913\u001b[0m \u001b[1;33m\u001b[0m\u001b[0m\n",
      "\u001b[1;32m~\\Anaconda3\\lib\\site-packages\\pandas\\core\\indexing.py\u001b[0m in \u001b[0;36m_validate_key\u001b[1;34m(self, key, axis)\u001b[0m\n\u001b[0;32m   1796\u001b[0m                 \u001b[1;32mraise\u001b[0m\u001b[1;33m\u001b[0m\u001b[1;33m\u001b[0m\u001b[0m\n\u001b[0;32m   1797\u001b[0m             \u001b[1;32mexcept\u001b[0m\u001b[1;33m:\u001b[0m\u001b[1;33m\u001b[0m\u001b[1;33m\u001b[0m\u001b[0m\n\u001b[1;32m-> 1798\u001b[1;33m                 \u001b[0merror\u001b[0m\u001b[1;33m(\u001b[0m\u001b[1;33m)\u001b[0m\u001b[1;33m\u001b[0m\u001b[1;33m\u001b[0m\u001b[0m\n\u001b[0m\u001b[0;32m   1799\u001b[0m \u001b[1;33m\u001b[0m\u001b[0m\n\u001b[0;32m   1800\u001b[0m     \u001b[1;32mdef\u001b[0m \u001b[0m_is_scalar_access\u001b[0m\u001b[1;33m(\u001b[0m\u001b[0mself\u001b[0m\u001b[1;33m,\u001b[0m \u001b[0mkey\u001b[0m\u001b[1;33m)\u001b[0m\u001b[1;33m:\u001b[0m\u001b[1;33m\u001b[0m\u001b[1;33m\u001b[0m\u001b[0m\n",
      "\u001b[1;32m~\\Anaconda3\\lib\\site-packages\\pandas\\core\\indexing.py\u001b[0m in \u001b[0;36merror\u001b[1;34m()\u001b[0m\n\u001b[0;32m   1783\u001b[0m                 raise KeyError(u\"the label [{key}] is not in the [{axis}]\"\n\u001b[0;32m   1784\u001b[0m                                .format(key=key,\n\u001b[1;32m-> 1785\u001b[1;33m                                        axis=self.obj._get_axis_name(axis)))\n\u001b[0m\u001b[0;32m   1786\u001b[0m \u001b[1;33m\u001b[0m\u001b[0m\n\u001b[0;32m   1787\u001b[0m             \u001b[1;32mtry\u001b[0m\u001b[1;33m:\u001b[0m\u001b[1;33m\u001b[0m\u001b[1;33m\u001b[0m\u001b[0m\n",
      "\u001b[1;31mKeyError\u001b[0m: 'the label [zero] is not in the [index]'"
     ]
    }
   ],
   "source": [
    "newdata = data.copy().append(data_rem.iloc[0])\n",
    "#newdata\n",
    "display_new = pd.DataFrame()\n",
    "for att in attsets:\n",
    "    #print(data[att].value_counts())\n",
    "    for v in attsets[att]:\n",
    "        #print(att,v)\n",
    "        #print(data.loc[data[att]==v,'Y'].value_counts())\n",
    "        display_new.loc[str(att)+'_'+str(v),'one'] = newdata.loc[newdata[att]==v,'Y'].value_counts().loc['one']\n",
    "        display_new.loc[str(att)+'_'+str(v),'zero'] = newdata.loc[newdata[att]==v,'Y'].value_counts().loc['zero']\n",
    "display_new\n",
    "# for obs in data_rem.transpose():\n",
    "#     print(obs)"
   ]
  },
  {
   "cell_type": "code",
   "execution_count": 20,
   "metadata": {},
   "outputs": [
    {
     "data": {
      "text/plain": [
       "0.9886994082884974"
      ]
     },
     "execution_count": 20,
     "metadata": {},
     "output_type": "execute_result"
    }
   ],
   "source": [
    "#IG(data,'Humidity',get_attsets(data,'Decision')['Humidity'],calc_H(data,Y='Decision'),'Decision')\n",
    "HS = calc_H(data,'Y')\n",
    "IG(data,'0',attsets['0'],HS, Y = 'Y')\n",
    "#get_maxIG_att(data,HS,'Y')"
   ]
  },
  {
   "cell_type": "code",
   "execution_count": 21,
   "metadata": {},
   "outputs": [],
   "source": [
    "# function to subset data\n",
    "def get_subdata(data1,att,value):\n",
    "    return data1[data[att]==value]"
   ]
  },
  {
   "cell_type": "code",
   "execution_count": 22,
   "metadata": {},
   "outputs": [],
   "source": [
    "import networkx as nx\n",
    "G = nx.DiGraph()\n",
    "open_branches = []\n",
    "Y = 'Y'\n",
    "currentnode = 0\n",
    "nodenum = 1\n",
    "currentdata = data\n",
    "G.add_node(currentnode)\n",
    "open_branches.append(currentnode)\n",
    "uniquevals = list(data[Y].unique())\n",
    "for i in uniquevals:\n",
    "    G.add_node(i)\n"
   ]
  },
  {
   "cell_type": "code",
   "execution_count": 23,
   "metadata": {},
   "outputs": [
    {
     "name": "stdout",
     "output_type": "stream",
     "text": [
      "Currentnode:  0\n",
      "Entropy:  0.9886994082884974\n",
      "Getting max IG attribute\n",
      "Max IG attribute is:  0 0.9886994082884974\n",
      "Added nodes:  [1, 2, 3]\n",
      "Next current node =  1\n",
      "Path to current node 1 [1]\n",
      "    0  1  2  3    Y\n",
      "1   e  p  i  z  one\n",
      "8   e  p  c  q  one\n",
      "14  e  c  y  q  one\n",
      "16  e  c  c  z  one\n",
      "26  e  m  c  q  one\n",
      "Currentnode:  1\n",
      "Entropy:  0.0\n",
      "Reached entropy = 0 on one branch\n",
      "Next current node =  2\n",
      "Path to current node 2 [2]\n",
      "    0  1  2  3    Y\n",
      "28  l  p  i  z  one\n",
      "31  l  p  y  z  one\n",
      "35  l  p  c  q  one\n",
      "36  l  c  i  x  one\n",
      "Currentnode:  2\n",
      "Entropy:  0.0\n",
      "Reached entropy = 0 on one branch\n",
      "Next current node =  3\n",
      "Path to current node 3 [3]\n",
      "    0  1  2  3     Y\n",
      "55  s  p  i  z  zero\n",
      "56  s  p  i  q  zero\n",
      "58  s  p  y  z  zero\n",
      "59  s  p  y  q  zero\n",
      "63  s  c  i  x  zero\n",
      "66  s  c  y  x  zero\n",
      "79  s  m  c  z  zero\n",
      "Currentnode:  3\n",
      "Entropy:  0.0\n",
      "Reached entropy = 0 on one branch\n"
     ]
    }
   ],
   "source": [
    "all_branches_done = 0\n",
    "while all_branches_done==0:\n",
    "    print('Currentnode: ',currentnode)\n",
    "    HS = calc_H(currentdata,Y)\n",
    "    print('Entropy: ',HS)\n",
    "    maxIGatt = []\n",
    "    maxIG = []\n",
    "    if HS>0:\n",
    "        print('Getting max IG attribute')\n",
    "        IGatttup = get_maxIG_att(currentdata,HS,Y)\n",
    "        maxIGatt = IGatttup[0]\n",
    "        maxIG = IGatttup[1]\n",
    "        print('Max IG attribute is: ',maxIGatt,maxIG)\n",
    "        # calculating values present in current subset of dataset for max IG att\n",
    "        values = get_attsets(currentdata,Y)[maxIGatt]\n",
    "        for v in values:\n",
    "            # adding branches for each value of max IG attribute\n",
    "            G.add_edge(currentnode,nodenum)\n",
    "            open_branches.append(nodenum)\n",
    "            G.nodes[nodenum]['att'] = maxIGatt\n",
    "            G.nodes[nodenum]['value'] = v\n",
    "            nodenum = nodenum+1\n",
    "        open_branches.remove(currentnode)\n",
    "        print('Added nodes: ',list(G.successors(currentnode)))\n",
    "    else:\n",
    "        print('Reached entropy = 0 on one branch')\n",
    "        uniquevalue = list(currentdata[Y].unique())[0]\n",
    "        G.add_edge(currentnode,uniquevalue)\n",
    "        open_branches.remove(currentnode)\n",
    "#         pred = list(G.predecessors(currentnode))[0]\n",
    "#         currentnode = pred\n",
    "#         print('Going up one node to ',currentnode)\n",
    "#         while (len(open_branches)==0):\n",
    "#         open_branches = [i for i in list(G.successors(currentnode)) if not(any([nx.has_path(G,currentnode,v) for v in uniquevals]))]\n",
    "#         print('Successors are: ',list(G.successors(currentnode)))\n",
    "#         print('Open branches are: ',open_branches)\n",
    "#     open_branches = [i for i in list(G.successors(currentnode)) if not(any([nx.has_path(G,currentnode,v) for v in uniquevals]))]\n",
    "#     currentnode = open_branches[0]\n",
    "    # travesing to an open branch\n",
    "    if len(open_branches)>0:\n",
    "        currentnode = open_branches[0]\n",
    "        print('Next current node = ',currentnode)\n",
    "        path = list(nx.all_simple_paths(G,0,currentnode))[0][1:]\n",
    "        print('Path to current node',currentnode,path)\n",
    "        currentdata = data\n",
    "        for p in path:\n",
    "            currentdata = get_subdata(currentdata,G.nodes[p]['att'],G.nodes[p]['value']).copy()\n",
    "        print(currentdata)\n",
    "    else:\n",
    "        all_branches_done = 1"
   ]
  },
  {
   "cell_type": "code",
   "execution_count": 24,
   "metadata": {},
   "outputs": [
    {
     "data": {
      "image/png": "[encoded data removed]",
      "text/plain": [
       "<Figure size 432x288 with 1 Axes>"
      ]
     },
     "metadata": {},
     "output_type": "display_data"
    }
   ],
   "source": [
    "nx.draw_spectral(G,with_labels=True, font_size=18,node_size=1200)"
   ]
  },
  {
   "cell_type": "code",
   "execution_count": 25,
   "metadata": {},
   "outputs": [
    {
     "ename": "NodeNotFound",
     "evalue": "target node No not in graph",
     "output_type": "error",
     "traceback": [
      "\u001b[1;31m---------------------------------------------------------------------------\u001b[0m",
      "\u001b[1;31mNodeNotFound\u001b[0m                              Traceback (most recent call last)",
      "\u001b[1;32m<ipython-input-25-ce5652fe1428>\u001b[0m in \u001b[0;36m<module>\u001b[1;34m\u001b[0m\n\u001b[1;32m----> 1\u001b[1;33m \u001b[0mallpaths\u001b[0m \u001b[1;33m=\u001b[0m \u001b[0mlist\u001b[0m\u001b[1;33m(\u001b[0m\u001b[0mnx\u001b[0m\u001b[1;33m.\u001b[0m\u001b[0mall_simple_paths\u001b[0m\u001b[1;33m(\u001b[0m\u001b[0mG\u001b[0m\u001b[1;33m,\u001b[0m\u001b[1;36m0\u001b[0m\u001b[1;33m,\u001b[0m\u001b[1;34m'No'\u001b[0m\u001b[1;33m)\u001b[0m\u001b[1;33m)\u001b[0m\u001b[1;33m\u001b[0m\u001b[1;33m\u001b[0m\u001b[0m\n\u001b[0m\u001b[0;32m      2\u001b[0m \u001b[0mprint\u001b[0m\u001b[1;33m(\u001b[0m\u001b[1;34m'Rule for '\u001b[0m\u001b[1;33m,\u001b[0m\u001b[1;34m'No'\u001b[0m\u001b[1;33m,\u001b[0m\u001b[1;34m':'\u001b[0m\u001b[1;33m)\u001b[0m\u001b[1;33m\u001b[0m\u001b[1;33m\u001b[0m\u001b[0m\n\u001b[0;32m      3\u001b[0m \u001b[0mprint\u001b[0m\u001b[1;33m(\u001b[0m\u001b[1;34m'If'\u001b[0m\u001b[1;33m)\u001b[0m\u001b[1;33m\u001b[0m\u001b[1;33m\u001b[0m\u001b[0m\n\u001b[0;32m      4\u001b[0m \u001b[1;32mfor\u001b[0m \u001b[0mpath\u001b[0m \u001b[1;32min\u001b[0m \u001b[0mallpaths\u001b[0m\u001b[1;33m:\u001b[0m\u001b[1;33m\u001b[0m\u001b[1;33m\u001b[0m\u001b[0m\n\u001b[0;32m      5\u001b[0m     \u001b[1;32mfor\u001b[0m \u001b[0mp\u001b[0m \u001b[1;32min\u001b[0m \u001b[0mpath\u001b[0m\u001b[1;33m[\u001b[0m\u001b[1;36m1\u001b[0m\u001b[1;33m:\u001b[0m\u001b[0mlen\u001b[0m\u001b[1;33m(\u001b[0m\u001b[0mpath\u001b[0m\u001b[1;33m)\u001b[0m\u001b[1;33m-\u001b[0m\u001b[1;36m2\u001b[0m\u001b[1;33m]\u001b[0m\u001b[1;33m:\u001b[0m\u001b[1;33m\u001b[0m\u001b[1;33m\u001b[0m\u001b[0m\n",
      "\u001b[1;32m~\\Anaconda3\\lib\\site-packages\\networkx\\algorithms\\simple_paths.py\u001b[0m in \u001b[0;36mall_simple_paths\u001b[1;34m(G, source, target, cutoff)\u001b[0m\n\u001b[0;32m    200\u001b[0m         \u001b[1;32mraise\u001b[0m \u001b[0mnx\u001b[0m\u001b[1;33m.\u001b[0m\u001b[0mNodeNotFound\u001b[0m\u001b[1;33m(\u001b[0m\u001b[1;34m'source node %s not in graph'\u001b[0m \u001b[1;33m%\u001b[0m \u001b[0msource\u001b[0m\u001b[1;33m)\u001b[0m\u001b[1;33m\u001b[0m\u001b[1;33m\u001b[0m\u001b[0m\n\u001b[0;32m    201\u001b[0m     \u001b[1;32mif\u001b[0m \u001b[0mtarget\u001b[0m \u001b[1;32mnot\u001b[0m \u001b[1;32min\u001b[0m \u001b[0mG\u001b[0m\u001b[1;33m:\u001b[0m\u001b[1;33m\u001b[0m\u001b[1;33m\u001b[0m\u001b[0m\n\u001b[1;32m--> 202\u001b[1;33m         \u001b[1;32mraise\u001b[0m \u001b[0mnx\u001b[0m\u001b[1;33m.\u001b[0m\u001b[0mNodeNotFound\u001b[0m\u001b[1;33m(\u001b[0m\u001b[1;34m'target node %s not in graph'\u001b[0m \u001b[1;33m%\u001b[0m \u001b[0mtarget\u001b[0m\u001b[1;33m)\u001b[0m\u001b[1;33m\u001b[0m\u001b[1;33m\u001b[0m\u001b[0m\n\u001b[0m\u001b[0;32m    203\u001b[0m     \u001b[1;32mif\u001b[0m \u001b[0msource\u001b[0m \u001b[1;33m==\u001b[0m \u001b[0mtarget\u001b[0m\u001b[1;33m:\u001b[0m\u001b[1;33m\u001b[0m\u001b[1;33m\u001b[0m\u001b[0m\n\u001b[0;32m    204\u001b[0m         \u001b[1;32mreturn\u001b[0m \u001b[1;33m[\u001b[0m\u001b[1;33m]\u001b[0m\u001b[1;33m\u001b[0m\u001b[1;33m\u001b[0m\u001b[0m\n",
      "\u001b[1;31mNodeNotFound\u001b[0m: target node No not in graph"
     ]
    }
   ],
   "source": [
    "allpaths = list(nx.all_simple_paths(G,0,'No'))\n",
    "print('Rule for ','No',':')\n",
    "print('If')\n",
    "for path in allpaths:\n",
    "    for p in path[1:len(path)-2]:\n",
    "        print('( ',G.nodes[p]['att'],'=',G.nodes[p]['value'], ' ) and ',end=\"\")\n",
    "    print('( ',G.nodes[path[len(path)-2]]['att'],'=',G.nodes[path[len(path)-2]]['value'], ' )',end=\"\")\n",
    "    if path==allpaths[len(allpaths)-1]:\n",
    "        break\n",
    "    else:\n",
    "        print('\\n','Or')    \n",
    "    \n"
   ]
  },
  {
   "cell_type": "code",
   "execution_count": 26,
   "metadata": {},
   "outputs": [],
   "source": [
    "def print_rule_string(G,decisionval):\n",
    "    allpaths = list(nx.all_simple_paths(G,0,decisionval))\n",
    "    print('Rule for ',decisionval,':')\n",
    "    print('If')\n",
    "    for path in allpaths:\n",
    "        for p in path[1:len(path)-2]:\n",
    "            print('( ',G.nodes[p]['att'],'=',G.nodes[p]['value'], ' ) And ',end=\"\")\n",
    "        print('( ',G.nodes[path[len(path)-2]]['att'],'=',G.nodes[path[len(path)-2]]['value'], ' )',end=\"\")\n",
    "        if path==allpaths[len(allpaths)-1]:\n",
    "            print('\\n')\n",
    "            break\n",
    "        else:\n",
    "            print('\\n','Or')    "
   ]
  },
  {
   "cell_type": "code",
   "execution_count": 27,
   "metadata": {},
   "outputs": [
    {
     "name": "stdout",
     "output_type": "stream",
     "text": [
      "Rule for  one :\n",
      "If\n",
      "(  0 = e  )\n",
      " Or\n",
      "(  0 = l  )\n",
      "\n"
     ]
    }
   ],
   "source": [
    "#print_rule_string(G,'zero')\n",
    "print_rule_string(G,'one')"
   ]
  },
  {
   "cell_type": "code",
   "execution_count": 28,
   "metadata": {},
   "outputs": [],
   "source": [
    "def ID3(data,Y='Y'):\n",
    "    G = nx.DiGraph()\n",
    "    open_branches = []\n",
    "    currentnode = 0\n",
    "    nodenum = 1\n",
    "    currentdata = data\n",
    "    G.add_node(currentnode)\n",
    "    open_branches.append(currentnode)\n",
    "    uniquevals = list(data[Y].unique())\n",
    "    for i in uniquevals:\n",
    "        G.add_node(i)\n",
    "    all_branches_done = 0\n",
    "    while all_branches_done==0:\n",
    "        #print('Currentnode: ',currentnode)\n",
    "        HS = calc_H(currentdata,Y)\n",
    "        #print('Entropy: ',HS)\n",
    "        maxIGatt = []\n",
    "        maxIG = []\n",
    "        if HS>0:\n",
    "            #print('Getting max IG attribute')\n",
    "            IGatttup = get_maxIG_att(currentdata,HS,Y)\n",
    "            maxIGatt = IGatttup[0]\n",
    "            maxIG = IGatttup[1]\n",
    "            #print('Max IG attribute is: ',maxIGatt,maxIG)\n",
    "            # calculating values present in current subset of dataset for max IG att\n",
    "            values = get_attsets(currentdata,Y)[maxIGatt]\n",
    "            for v in values:\n",
    "                # adding branches for each value of max IG attribute\n",
    "                G.add_edge(currentnode,nodenum)\n",
    "                open_branches.append(nodenum)\n",
    "                G.nodes[nodenum]['att'] = maxIGatt\n",
    "                G.nodes[nodenum]['value'] = v\n",
    "                nodenum = nodenum+1\n",
    "            open_branches.remove(currentnode)\n",
    "            #print('Added nodes: ',list(G.successors(currentnode)))\n",
    "        else:\n",
    "            #print('Reached entropy = 0 on one branch')\n",
    "            uniquevalue = list(currentdata[Y].unique())[0]\n",
    "            G.add_edge(currentnode,uniquevalue)\n",
    "            open_branches.remove(currentnode)\n",
    "        if len(open_branches)>0:\n",
    "            currentnode = open_branches[0]\n",
    "            #print('Next current node = ',currentnode)\n",
    "            path = list(nx.all_simple_paths(G,0,currentnode))[0][1:]\n",
    "            print('Path to current node',currentnode,path)\n",
    "            currentdata = data\n",
    "            for p in path:\n",
    "                currentdata = get_subdata(currentdata,G.nodes[p]['att'],G.nodes[p]['value']).copy()\n",
    "            print(currentdata)\n",
    "        else:\n",
    "            all_branches_done = 1    \n",
    "    for uv in uniquevals:\n",
    "        print_rule_string(G,uv)"
   ]
  },
  {
   "cell_type": "code",
   "execution_count": 29,
   "metadata": {},
   "outputs": [
    {
     "name": "stdout",
     "output_type": "stream",
     "text": [
      "Path to current node 1 [1]\n",
      "    0  1  2  3    Y\n",
      "1   e  p  i  z  one\n",
      "8   e  p  c  q  one\n",
      "14  e  c  y  q  one\n",
      "16  e  c  c  z  one\n",
      "26  e  m  c  q  one\n",
      "Path to current node 2 [2]\n",
      "    0  1  2  3    Y\n",
      "28  l  p  i  z  one\n",
      "31  l  p  y  z  one\n",
      "35  l  p  c  q  one\n",
      "36  l  c  i  x  one\n",
      "Path to current node 3 [3]\n",
      "    0  1  2  3     Y\n",
      "55  s  p  i  z  zero\n",
      "56  s  p  i  q  zero\n",
      "58  s  p  y  z  zero\n",
      "59  s  p  y  q  zero\n",
      "63  s  c  i  x  zero\n",
      "66  s  c  y  x  zero\n",
      "79  s  m  c  z  zero\n",
      "Rule for  one :\n",
      "If\n",
      "(  0 = e  )\n",
      " Or\n",
      "(  0 = l  )\n",
      "\n",
      "Rule for  zero :\n",
      "If\n",
      "(  0 = s  )\n",
      "\n"
     ]
    }
   ],
   "source": [
    "ID3(data,'Y')"
   ]
  },
  {
   "cell_type": "code",
   "execution_count": null,
   "metadata": {},
   "outputs": [],
   "source": [
    "df = pd.DataFrame()\n",
    "# unchanged ones and zeroes, take one obs each from data_rem and add to IG\n",
    "\n",
    "# calculating original values\n",
    "H_p_orig= calc_H_p(data,'Y')\n",
    "orig_H = H_p_orig[0]\n",
    "orig_p_zero = H_p_orig[1][0]\n",
    "orig_p_one = H_p_orig[1][1]\n",
    "orig_IG = dict()\n",
    "orig_matt = dict()\n",
    "orig_Hatt = dict()\n",
    "attlist = list(attsets.keys())\n",
    "for att in attlist:\n",
    "    values = attsets[att]\n",
    "    orig_IG_matt_Hatt_tup = IG_matt_Hatt(data,att,values,orig_H,Y = 'Y')\n",
    "    orig_IG[att] = orig_IG_matt_Hatt_tup[0]\n",
    "    #orig_matt[att] = orig_IG_matt_Hatt_tup[1].to_dict()\n",
    "    for key in orig_IG_matt_Hatt_tup[1].to_dict():\n",
    "        orig_matt[str(att)+'_'+str(key)] = orig_IG_matt_Hatt_tup[1].to_dict()[key]\n",
    "    #print(orig_matt)\n",
    "    orig_Hatt = orig_IG_matt_Hatt_tup[2]\n",
    "    #print(orig_IG[att],orig_matt[],orig_Hatt)\n",
    "orig_IGmaxtup = get_maxIG_att(data,orig_H,Y='Y')\n",
    "orig_IGmaxatt = orig_IGmaxtup[0]\n",
    "orig_IGmax = orig_IGmaxtup[1]\n",
    "\n",
    "# including obs from data_rem one by one and checking parameters like IG gain, entropy loss etc. \n",
    "for obs in data_rem.transpose():\n",
    "    print('For observation: ',data_rem.loc[obs].to_dict())\n",
    "    newdata = data.copy().append(data_rem.loc[obs])\n",
    "    #print(newdata)\n",
    "    H_p_tup = calc_H_p(newdata,'Y')\n",
    "    new_H = H_p_tup[0]\n",
    "    H_change = new_H - orig_H\n",
    "    new_p_zero = H_p_tup[1][0]\n",
    "    new_p_one = H_p_tup[1][1]\n",
    "#    print(new_H,p_zero,p_one,H_change)\n",
    "    new_IG = dict()\n",
    "    new_matt = dict()\n",
    "    new_Hatt = dict()\n",
    "    for att in attlist:\n",
    "        values = attsets[att]  # may contain additional values, or may not. \n",
    "        new_IG_matt_Hatt_tup = IG_matt_Hatt(newdata,att,values,new_H,Y='Y')\n",
    "        new_IG[att] = orig_IG_matt_Hatt_tup[0]\n",
    "        for key in new_IG_matt_Hatt_tup[1].to_dict():\n",
    "            new_matt[str(att)+'_'+str(key)] = new_IG_matt_Hatt_tup[1].to_dict()[key]\n",
    "        #print(new_matt)\n",
    "        new_Hatt = new_IG_matt_Hatt_tup[2]\n",
    "        #print(new_IG[att],new_matt[att],new_Hatt)\n",
    "        newIGmaxtup = get_maxIG_att(newdata,new_H,Y='Y')\n",
    "        new_IGmaxatt = newIGmaxtup[0]\n",
    "        new_IGmax = newIGmaxtup[1]\n",
    "    \n",
    "    \n",
    "    "
   ]
  },
  {
   "cell_type": "code",
   "execution_count": null,
   "metadata": {},
   "outputs": [],
   "source": [
    "# When to focus on information gathering, and when to start on confirmation of hypotheses?\n",
    "print(hypothesis_attribute)"
   ]
  },
  {
   "cell_type": "code",
   "execution_count": null,
   "metadata": {},
   "outputs": [],
   "source": [
    "datafull[datafull['Y']=='one']"
   ]
  },
  {
   "cell_type": "code",
   "execution_count": 30,
   "metadata": {},
   "outputs": [
    {
     "name": "stdout",
     "output_type": "stream",
     "text": [
      "{0, 1, 2, 3, 4, 5, 6, 7, 8, 9, 10, 11, 12, 13, 14, 15, 16, 17, 18, 19, 20, 21, 22, 23, 24, 25, 26, 27, 28, 29, 30, 31, 32, 33, 34, 35, 36, 37, 38, 39, 40, 41, 42, 43, 44, 45, 46, 47, 48, 49, 50, 51, 52, 53, 54, 55, 56, 57, 58, 59, 60, 61, 62, 63, 64, 65, 66, 67, 68, 69, 70, 71, 72, 73, 74, 75, 76, 77, 78, 79, 80}\n"
     ]
    }
   ],
   "source": [
    "print(set(datafull.index))"
   ]
  },
  {
   "cell_type": "code",
   "execution_count": 117,
   "metadata": {},
   "outputs": [
    {
     "data": {
      "text/plain": [
       "{'0': ['s', 'q', 'f'],\n",
       " '1': ['y', 'x', 'r'],\n",
       " '2': ['r', 'u', 'y'],\n",
       " '3': ['v', 'u', 'h']}"
      ]
     },
     "execution_count": 117,
     "metadata": {},
     "output_type": "execute_result"
    }
   ],
   "source": [
    "attsets"
   ]
  },
  {
   "cell_type": "code",
   "execution_count": null,
   "metadata": {},
   "outputs": [],
   "source": []
  }
 ],
 "metadata": {
  "kernelspec": {
   "display_name": "Python 3",
   "language": "python",
   "name": "python3"
  },
  "language_info": {
   "codemirror_mode": {
    "name": "ipython",
    "version": 3
   },
   "file_extension": ".py",
   "mimetype": "text/x-python",
   "name": "python",
   "nbconvert_exporter": "python",
   "pygments_lexer": "ipython3",
   "version": "3.7.1"
  }
 },
 "nbformat": 4,
 "nbformat_minor": 2
}
