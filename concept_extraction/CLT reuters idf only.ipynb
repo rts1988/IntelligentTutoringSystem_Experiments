{
 "cells": [
  {
   "cell_type": "code",
   "execution_count": 10,
   "metadata": {},
   "outputs": [],
   "source": [
    "def plot_clt():\n",
    "    filename = 'starwikit'\n",
    "    \n",
    "    from nltk import word_tokenize, sent_tokenize\n",
    "    from nltk.corpus import stopwords \n",
    "    stop_words = set(stopwords.words('english'))\n",
    "    import nltk\n",
    "    wnl = nltk.WordNetLemmatizer()\n",
    "    import pickle\n",
    "    import math\n",
    "    import json\n",
    "\n",
    "    with open('idf_dict.txt', 'r',encoding=\"utf-8\") as f:\n",
    "           common_words_documents = json.load(f)\n",
    "    f.close()\n",
    "\n",
    "    path_name = \"C:/Users/Arati/Documents/personal docs/python_introduction_course/textdata/\"\n",
    "    with open (path_name +'orcaswiki.txt', \"r\",encoding=\"utf-8\") as myfile:\n",
    "        rawtxt=myfile.read()\n",
    "    myfile.close()\n",
    "\n",
    "\n",
    "    def reuters_idf(token):\n",
    "        ## assuming np1list contains the np1 words for the sentence under consideration.\n",
    "        if wnl.lemmatize(token) in common_words_documents:\n",
    "               idf = math.log(10788) - math.log((1+common_words_documents[wnl.lemmatize(token)]))\n",
    "        else:\n",
    "               idf = math.log(10788)\n",
    "        return idf\n",
    "\n",
    "    # sentence tokenize\n",
    "    sents = sent_tokenize(rawtxt)\n",
    "\n",
    "    def calc_cl_per_sentence(sents,maxidf=9.1):\n",
    "        sent_to_clt = []\n",
    "        for i in range(len(sents)):\n",
    "            tokens = word_tokenize(sents[i])\n",
    "            clt= 0\n",
    "            for t in tokens:\n",
    "                idf = reuters_idf(t)\n",
    "                if (idf>=maxidf):\n",
    "                    clt = clt + 1\n",
    "            sent_to_clt.append(clt)\n",
    "        return sent_to_clt\n",
    "    \n",
    "    from matplotlib import pyplot as plt\n",
    "    plt.plot(list(range(1,len(sents)+1)),calc_cl_per_sentence(sents),drawstyle='steps')\n",
    "    plt.savefig('cltfig1.png')\n",
    "    return None"
   ]
  },
  {
   "cell_type": "code",
   "execution_count": 11,
   "metadata": {},
   "outputs": [
    {
     "data": {
      "image/png": "[encoded data removed]",
      "text/plain": [
       "<Figure size 432x288 with 1 Axes>"
      ]
     },
     "metadata": {
      "needs_background": "light"
     },
     "output_type": "display_data"
    }
   ],
   "source": [
    "plot_clt()\n"
   ]
  },
  {
   "cell_type": "code",
   "execution_count": null,
   "metadata": {},
   "outputs": [],
   "source": [
    "type(common_words_documents)"
   ]
  },
  {
   "cell_type": "code",
   "execution_count": 3,
   "metadata": {},
   "outputs": [
    {
     "ename": "NameError",
     "evalue": "name 'json' is not defined",
     "output_type": "error",
     "traceback": [
      "\u001b[1;31m---------------------------------------------------------------------------\u001b[0m",
      "\u001b[1;31mNameError\u001b[0m                                 Traceback (most recent call last)",
      "\u001b[1;32m<ipython-input-3-6207720aab5a>\u001b[0m in \u001b[0;36m<module>\u001b[1;34m\u001b[0m\n\u001b[0;32m      1\u001b[0m \u001b[1;33m\u001b[0m\u001b[0m\n\u001b[0;32m      2\u001b[0m \u001b[1;32mwith\u001b[0m \u001b[0mopen\u001b[0m\u001b[1;33m(\u001b[0m\u001b[1;34m\"idf_dict.txt\"\u001b[0m\u001b[1;33m,\u001b[0m\u001b[1;34m\"a\"\u001b[0m\u001b[1;33m,\u001b[0m\u001b[0mencoding\u001b[0m\u001b[1;33m=\u001b[0m\u001b[1;34m\"utf-8\"\u001b[0m\u001b[1;33m)\u001b[0m \u001b[1;32mas\u001b[0m \u001b[0mmy_file\u001b[0m\u001b[1;33m:\u001b[0m\u001b[1;33m\u001b[0m\u001b[1;33m\u001b[0m\u001b[0m\n\u001b[1;32m----> 3\u001b[1;33m     \u001b[0mmy_file\u001b[0m\u001b[1;33m.\u001b[0m\u001b[0mwrite\u001b[0m\u001b[1;33m(\u001b[0m\u001b[0mjson\u001b[0m\u001b[1;33m.\u001b[0m\u001b[0mdumps\u001b[0m\u001b[1;33m(\u001b[0m\u001b[0mcommon_words_documents\u001b[0m\u001b[1;33m)\u001b[0m\u001b[1;33m)\u001b[0m\u001b[1;33m\u001b[0m\u001b[1;33m\u001b[0m\u001b[0m\n\u001b[0m\u001b[0;32m      4\u001b[0m \u001b[0mmy_file\u001b[0m\u001b[1;33m.\u001b[0m\u001b[0mclose\u001b[0m\u001b[1;33m(\u001b[0m\u001b[1;33m)\u001b[0m\u001b[1;33m\u001b[0m\u001b[1;33m\u001b[0m\u001b[0m\n",
      "\u001b[1;31mNameError\u001b[0m: name 'json' is not defined"
     ]
    }
   ],
   "source": []
  },
  {
   "cell_type": "code",
   "execution_count": null,
   "metadata": {},
   "outputs": [],
   "source": []
  },
  {
   "cell_type": "code",
   "execution_count": null,
   "metadata": {},
   "outputs": [],
   "source": []
  }
 ],
 "metadata": {
  "kernelspec": {
   "display_name": "Python 3",
   "language": "python",
   "name": "python3"
  },
  "language_info": {
   "codemirror_mode": {
    "name": "ipython",
    "version": 3
   },
   "file_extension": ".py",
   "mimetype": "text/x-python",
   "name": "python",
   "nbconvert_exporter": "python",
   "pygments_lexer": "ipython3",
   "version": "3.7.1"
  }
 },
 "nbformat": 4,
 "nbformat_minor": 2
}
