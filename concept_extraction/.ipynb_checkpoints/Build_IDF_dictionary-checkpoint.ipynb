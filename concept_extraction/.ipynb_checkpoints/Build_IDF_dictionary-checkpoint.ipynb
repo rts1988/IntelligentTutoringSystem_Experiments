{
 "cells": [
  {
   "cell_type": "markdown",
   "metadata": {},
   "source": [
    "# Build IDF look up dictionary from a corpus\n",
    "\n",
    "Reuters corpus used below. "
   ]
  },
  {
   "cell_type": "code",
   "execution_count": null,
   "metadata": {},
   "outputs": [],
   "source": [
    "import nltk\n",
    "import math\n",
    "from nltk.corpus import reuters,brown\n",
    "cfileids = reuters.fileids() # list of filenames in reuters corpus\n",
    "wnl = nltk.WordNetLemmatizer()"
   ]
  },
  {
   "cell_type": "markdown",
   "metadata": {},
   "source": [
    "Making a dictionary of words and their document frequency"
   ]
  },
  {
   "cell_type": "code",
   "execution_count": null,
   "metadata": {},
   "outputs": [],
   "source": [
    "%%time \n",
    "\n",
    "document_freq = {} # Dictionary: key: word,  value:# of documents word occurs in \n",
    "\n",
    "for fname in cfileids:\n",
    "    corptext = [wrd.lower() for wrd in reuters.words(fname) if wrd.isalpha()]\n",
    "    corptextlemma = [wnl.lemmatize(wrd.lower()) for wrd in corptext]\n",
    "    corptextlemmaset = set(corptextlemma)\n",
    "    for wrd in corptextlemmaset:\n",
    "        document_freq[wrd] = document_freq.get(wrd,0) + 1 \n",
    "\n",
    "print('Total number of unique lemmatized words found: ',len(document_freq),' in a total of ',len(cfileids),' documents')\n",
    "\n",
    "totaldocs = len(cfileids)"
   ]
  },
  {
   "cell_type": "code",
   "execution_count": null,
   "metadata": {},
   "outputs": [],
   "source": [
    "idf_dict = {} # dictionary: key: word, value: idf value in corpus\n",
    "for wrd in document_freq.keys():\n",
    "    idf_dict[wrd] = math.log(totaldocs) - math.log(1+document_freq[wrd])"
   ]
  },
  {
   "cell_type": "code",
   "execution_count": null,
   "metadata": {},
   "outputs": [],
   "source": [
    "def get_idf(wrd):\n",
    "    wrd = wrd.lower()\n",
    "    return idf_dict.get(wrd,math.log(totaldocs))"
   ]
  },
  {
   "cell_type": "code",
   "execution_count": null,
   "metadata": {},
   "outputs": [],
   "source": [
    "print(get_idf('long'))\n",
    "print(get_idf('memory'))\n",
    "print(get_idf('fun'))"
   ]
  },
  {
   "cell_type": "markdown",
   "metadata": {},
   "source": [
    "Definitely need a bigger corpus for this, in a closer domain. (Reuters is news articles)\n",
    "Plan to make idf dictionary based on wikidump"
   ]
  },
  {
   "cell_type": "code",
   "execution_count": null,
   "metadata": {},
   "outputs": [],
   "source": [
    "import pickle \n",
    "with open('idf_dict.pickle', 'wb') as f:\n",
    "    pickle.dump(idf_dict, f)\n",
    "f.close()"
   ]
  },
  {
   "cell_type": "markdown",
   "metadata": {},
   "source": []
  }
 ],
 "metadata": {
  "kernelspec": {
   "display_name": "Python 3",
   "language": "python",
   "name": "python3"
  },
  "language_info": {
   "codemirror_mode": {
    "name": "ipython",
    "version": 3
   },
   "file_extension": ".py",
   "mimetype": "text/x-python",
   "name": "python",
   "nbconvert_exporter": "python",
   "pygments_lexer": "ipython3",
   "version": "3.7.1"
  }
 },
 "nbformat": 4,
 "nbformat_minor": 2
}
