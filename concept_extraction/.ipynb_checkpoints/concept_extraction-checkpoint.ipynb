{
 "cells": [
  {
   "cell_type": "markdown",
   "metadata": {},
   "source": [
    "# Concept extraction from text\n",
    "  \n",
    "    "
   ]
  },
  {
   "cell_type": "markdown",
   "metadata": {},
   "source": [
    "## 1. Loading text file into string \n",
    "\n",
    "### Option 1. Downloading a wikipedia article's text"
   ]
  },
  {
   "cell_type": "code",
   "execution_count": 25,
   "metadata": {},
   "outputs": [
    {
     "name": "stdout",
     "output_type": "stream",
     "text": [
      "length of material\n",
      "59186\n",
      "Sample of text\n",
      "\n",
      "\n",
      "A star is an astronomical object consisting of a luminous spheroid of plasma held together by its own gravity. The nearest star to Earth is the Sun. Many other stars are visible to the naked eye from Earth during the night, appearing as a multitude of fixed luminous points in the sky due to their immense distance from Earth. Historically, the most prominent stars were grouped into constellations and asterisms, the brightest of which gained proper names. Astronomers have assembled star catalogu\n"
     ]
    }
   ],
   "source": [
    "from bs4 import BeautifulSoup\n",
    "import requests\n",
    "url = 'https://en.wikipedia.org/wiki/Star'\n",
    "\n",
    "source = requests.get(url).text\n",
    "soup = BeautifulSoup(source,'lxml')\n",
    "\n",
    "\n",
    "text_set = soup.find_all(['p']) ## This will skip headings ('h2','h3') and lists that are made as links( 'li')\n",
    "text_list = [p1.get_text() for p1 in text_set]\n",
    "tags_list = [p1.name for p1 in text_set ]\n",
    "\n",
    "rawtxt = ''.join(text_list)\n",
    "\n",
    "print(\"length of material\")\n",
    "print(len(rawtxt))\n",
    "\n",
    "print(\"Sample of text\")\n",
    "print(rawtxt[0:500])"
   ]
  },
  {
   "cell_type": "markdown",
   "metadata": {},
   "source": [
    "#### Save rawtxt as is for later:"
   ]
  },
  {
   "cell_type": "code",
   "execution_count": 26,
   "metadata": {},
   "outputs": [],
   "source": [
    "filename = 'starwiki.txt'\n",
    "path_name = \"C:/Users/Arati/Documents/personal docs/python_introduction_course/textdata/\"\n",
    "with open(path_name + filename,\"a\",encoding=\"utf-8\") as myfile:\n",
    "    myfile.write(rawtxt)\n",
    "myfile.close()"
   ]
  },
  {
   "cell_type": "markdown",
   "metadata": {},
   "source": [
    "### Option 2. Getting file from disk:"
   ]
  },
  {
   "cell_type": "code",
   "execution_count": 13,
   "metadata": {},
   "outputs": [],
   "source": [
    "filename = 'Cognitive_Load_Theory.txt'\n",
    "path_name = \"C:/Users/Arati/Documents/personal docs/python_introduction_course/textdata/\"\n",
    "with open (path_name +filename, \"r\",encoding=\"utf-8\") as myfile:\n",
    "    rawtxt=myfile.read()\n",
    "myfile.close()\n",
    "#rawtxt = rawtxt.encode('ascii','ignore')"
   ]
  },
  {
   "cell_type": "markdown",
   "metadata": {},
   "source": [
    "## Extracting list of concepts:\n",
    "\n",
    "### Importing libraries and modules"
   ]
  },
  {
   "cell_type": "code",
   "execution_count": 27,
   "metadata": {},
   "outputs": [],
   "source": [
    "from nltk import word_tokenize\n",
    "from nltk.chunk import *\n",
    "from nltk.chunk.util import *\n",
    "from nltk.chunk.regexp import *\n",
    "from nltk import Tree\n",
    "import re\n",
    "from nltk.corpus import stopwords \n",
    "stop_words = set(stopwords.words('english'))\n",
    "import nltk\n",
    "wnl = nltk.WordNetLemmatizer()\n",
    "porter = nltk.PorterStemmer()\n",
    "lancaster = nltk.LancasterStemmer()"
   ]
  },
  {
   "cell_type": "markdown",
   "metadata": {},
   "source": [
    "### Sentence splitting"
   ]
  },
  {
   "cell_type": "code",
   "execution_count": 28,
   "metadata": {},
   "outputs": [
    {
     "name": "stdout",
     "output_type": "stream",
     "text": [
      "Number of sentences in text 423\n",
      "423\n",
      "Sample of sentences:\n",
      "['\\n\\nA star is an astronomical object consisting of a luminous spheroid of plasma held together by its own gravity.', 'The nearest star to Earth is the Sun.', 'Many other stars are visible to the naked eye from Earth during the night, appearing as a multitude of fixed luminous points in the sky due to their immense distance from Earth.', 'Historically, the most prominent stars were grouped into constellations and asterisms, the brightest of which gained proper names.', 'Astronomers have assembled star catalogues that identify the known stars and provide standardized stellar designations.']\n"
     ]
    }
   ],
   "source": [
    "from nltk.tokenize.punkt import PunktSentenceTokenizer, PunktTrainer\n",
    "trainer = PunktTrainer()\n",
    "trainer.INCLUDE_ALL_COLLOCS = True\n",
    "trainer.train(rawtxt)\n",
    " \n",
    "tokenizer = PunktSentenceTokenizer(trainer.get_params())\n",
    "sents = tokenizer.tokenize(rawtxt)\n",
    "\n",
    "print(\"Number of sentences in text \"+str(len(sents)))\n",
    "print(len(sents))\n",
    "\n",
    "print(\"Sample of sentences:\")\n",
    "print(sents[0:5])"
   ]
  },
  {
   "cell_type": "markdown",
   "metadata": {},
   "source": [
    "### Token handling functions: \n",
    "1. validchar(wrd): checks if token is a valid alphanumeric+hyphens word\n",
    "2. lemmatize_by_pos(tag) lemmatizes token by part of speech\n",
    "3. chunk_this(grammar_rule_key,sentence_tags) chunks a particular grammar rule key (see chunkrules)\n",
    "4. eqn_label: extracts equation terms and replaces all occurences in text with a textkey, which is then treated as a noun phrase. Also updates equation dictionary\n",
    "5. display_equation (displays equation term by key)\n",
    "6. chunker: chunks each sentence by each chunking rule"
   ]
  },
  {
   "cell_type": "code",
   "execution_count": 29,
   "metadata": {},
   "outputs": [],
   "source": [
    "def validchar(wrd):\n",
    "    p = re.compile(r'[^0-9a-zA-Z_-]')\n",
    "    if p.search(wrd) is None:\n",
    "        return 1\n",
    "    else:\n",
    "        return 0\n",
    "\n",
    "def lemmatize_by_pos(tag):\n",
    "    token = tag[0].lower()\n",
    "    pos = tag[1]\n",
    "    if token in stop_words:\n",
    "        return (token,pos)\n",
    "    if pos.startswith('J'):\n",
    "        # adjective form\n",
    "        lemma = wnl.lemmatize(token,'s')\n",
    "    elif pos.startswith('N'):\n",
    "        # noun form\n",
    "        lemma = wnl.lemmatize(token,'n')\n",
    "    elif pos.startswith('R'):\n",
    "        # adverb\n",
    "        lemma = wnl.lemmatize(token,'r')\n",
    "    elif pos.startswith('V'):\n",
    "        lemma = wnl.lemmatize(token,'v')\n",
    "    else:\n",
    "        lemma = token\n",
    "    return (lemma,pos)\n",
    "\n",
    "global eqn_dict\n",
    "eqn_dict = {}\n",
    "global eqn_count\n",
    "eqn_count = 1\n",
    "\n",
    "def eqn_label(tokens):\n",
    "    global eqn_count\n",
    "    global eqn_dict\n",
    "    EQNlist = [wrd for wrd in tokens if not(wrd.isalnum()) and re.search(r'[\\[\\]\\{\\}\\+*^=_%$]',wrd) and len(wrd)>1 ]\n",
    "    ## replace queations with a label and save to equation dictionary\n",
    "    for eqn in EQNlist:\n",
    "        \n",
    "        if not(eqn in eqn_dict):\n",
    "            \n",
    "            eqn_dict[eqn] = ''.join(['equation',str(eqn_count)])\n",
    "            eqn_count = eqn_count + 1                          \n",
    "        else:    \n",
    "            tokens[tokens.index(eqn)] = eqn_dict[eqn]\n",
    "                  \n",
    "    return tokens\n",
    "\n",
    "global inv_eqn_dict\n",
    "inv_eqn_dict = dict([[value,key] for key,value in eqn_dict.items()])\n",
    "\n",
    "def display_equation(reptokens):\n",
    "    for wrd in reptokens:\n",
    "        if wrd in inv_eqn_dict:\n",
    "            reptokens[reptokens.index(wrd)] = inv_eqn_dict[wrd]\n",
    "    return reptokens"
   ]
  },
  {
   "cell_type": "markdown",
   "metadata": {},
   "source": [
    "Setting up chunking rules:\n",
    "\n",
    "Chunking done in batches to enable overlapping tokens to be extracted. "
   ]
  },
  {
   "cell_type": "code",
   "execution_count": 30,
   "metadata": {},
   "outputs": [],
   "source": [
    "chunkrules = {}\n",
    "\n",
    "# Define chunking rules here:\n",
    "chunkrules['JJNP'] = r\"\"\"    \n",
    "    JJNP: {<RB.*>?<J.*>?<NN.*>{1,}}       \n",
    "\"\"\"\n",
    "## Examples: \"reusable contactless stored value smart card\"\n",
    "\n",
    "def chunk_this(grammar_rule_key,sentence_tags):\n",
    "    setlist = []\n",
    "    cp = nltk.RegexpParser(chunkrules[grammar_rule_key])\n",
    "    J = cp.parse(sentence_tags) \n",
    "    for i in range(len(J)):\n",
    "        if not(isinstance(J[i],tuple)):\n",
    "            if (J[i].label()==grammar_rule_key):\n",
    "                setlist.append((' '.join([J[i][j][0] for j in range(len(J[i])) if (validchar(J[i][j][0])==1)])))\n",
    "    setlist = list(set(setlist))\n",
    "    setlist = [wrd.lower() for wrd in setlist if len(wrd)>0]\n",
    "    return setlist\n",
    "\n",
    "def chunker(sentence_tags):\n",
    "    return [chunk_this(key,sentence_tags)  for key in chunkrules]\n"
   ]
  },
  {
   "cell_type": "markdown",
   "metadata": {},
   "source": [
    "Process each sentence:"
   ]
  },
  {
   "cell_type": "code",
   "execution_count": 31,
   "metadata": {},
   "outputs": [
    {
     "name": "stdout",
     "output_type": "stream",
     "text": [
      "Wall time: 1.22 s\n"
     ]
    }
   ],
   "source": [
    "%%time \n",
    "sent_to_np = {}\n",
    "sent_to_ltags = {}\n",
    "sent_to_tags = {}\n",
    "\n",
    "for i in range(len(sents)):\n",
    "    tokens = word_tokenize(sents[i])\n",
    "    reptokens = eqn_label(tokens)\n",
    "    tags = nltk.pos_tag(reptokens)\n",
    "    lemmatags = [lemmatize_by_pos(t) for t in tags]\n",
    "    sent_to_np[i] = chunker(lemmatags)\n",
    "    sent_to_ltags[i] = lemmatags\n",
    "    sent_to_tags[i] = tags"
   ]
  },
  {
   "cell_type": "code",
   "execution_count": 32,
   "metadata": {},
   "outputs": [
    {
     "data": {
      "text/plain": [
       "[['luminous spheroid',\n",
       "  'astronomical object consisting',\n",
       "  'star',\n",
       "  'own gravity']]"
      ]
     },
     "execution_count": 32,
     "metadata": {},
     "output_type": "execute_result"
    }
   ],
   "source": [
    "sent_to_np[0]"
   ]
  },
  {
   "cell_type": "code",
   "execution_count": 33,
   "metadata": {},
   "outputs": [],
   "source": [
    "# Flatten lists of lists containing chunks of different rules, dictionary of np to sent\n",
    "import itertools\n",
    "sent_to_npflat = {}\n",
    "np_to_sent = {}\n",
    "for key in sent_to_np:\n",
    "    sent_to_npflat[key] = list(set((itertools.chain(*sent_to_np[key]))))  \n",
    "    for np in sent_to_npflat[key]:            \n",
    "        if np in np_to_sent:                           \n",
    "            np_to_sent[np].append(key)\n",
    "        else:                \n",
    "            np_to_sent[np]=[key]"
   ]
  },
  {
   "cell_type": "markdown",
   "metadata": {},
   "source": [
    "### Create dataframe with some metrics:\n",
    "- Concept: concept phrase\n",
    "- Occurence: list of sentences in which the phrase occurs\n",
    "- Frequency: number of sentences in which the phrase occurs\n",
    "- Mean: average of sentence numbers in the text in which the phrase occurs normalized to number of sentences\n",
    "- Median: median of sentence numbers in the text in which the phrase occurs normalized to number of sentences. Lets us know if phrase occurs much more in the beginning of the text, or towards the end. can indicate how central the phrase is to the text. \n",
    "- Sdev: standard deviation of the sentences in which the phrase occurs (indicates the dispersion of the phrase in the text)"
   ]
  },
  {
   "cell_type": "code",
   "execution_count": 34,
   "metadata": {},
   "outputs": [],
   "source": [
    "import numpy as num\n",
    "import pandas as pd\n",
    "Concept = pd.Series([key for (key,value) in np_to_sent.items()])\n",
    "Occurence = pd.Series([num.array(value) for (key,value) in np_to_sent.items()])\n",
    "Frequency = pd.Series([len(o) for o in Occurence])\n",
    "Mean= pd.Series([num.mean(o) for o in Occurence])/len(sents)\n",
    "Median = pd.Series([num.median(o) for o in Occurence])/len(sents)\n",
    "Sdev = pd.Series([num.std(o) for o in Occurence])/len(sents)\n",
    "Conceptdata = pd.DataFrame({'Concept':Concept,'Occurence':Occurence,'Frequency':Frequency,'Mean':Mean,'Median':Median,'Sdev':Sdev})"
   ]
  },
  {
   "cell_type": "code",
   "execution_count": 35,
   "metadata": {},
   "outputs": [
    {
     "data": {
      "text/html": [
       "<div>\n",
       "<style scoped>\n",
       "    .dataframe tbody tr th:only-of-type {\n",
       "        vertical-align: middle;\n",
       "    }\n",
       "\n",
       "    .dataframe tbody tr th {\n",
       "        vertical-align: top;\n",
       "    }\n",
       "\n",
       "    .dataframe thead th {\n",
       "        text-align: right;\n",
       "    }\n",
       "</style>\n",
       "<table border=\"1\" class=\"dataframe\">\n",
       "  <thead>\n",
       "    <tr style=\"text-align: right;\">\n",
       "      <th></th>\n",
       "      <th>Concept</th>\n",
       "      <th>Occurence</th>\n",
       "      <th>Frequency</th>\n",
       "      <th>Mean</th>\n",
       "      <th>Median</th>\n",
       "      <th>Sdev</th>\n",
       "    </tr>\n",
       "  </thead>\n",
       "  <tbody>\n",
       "    <tr>\n",
       "      <th>2</th>\n",
       "      <td>star</td>\n",
       "      <td>[0, 5, 6, 7, 8, 9, 10, 12, 13, 15, 16, 17, 19,...</td>\n",
       "      <td>173</td>\n",
       "      <td>0.470859</td>\n",
       "      <td>0.498818</td>\n",
       "      <td>0.282697</td>\n",
       "    </tr>\n",
       "    <tr>\n",
       "      <th>5</th>\n",
       "      <td>sun</td>\n",
       "      <td>[1, 17, 27, 28, 29, 46, 47, 57, 91, 104, 107, ...</td>\n",
       "      <td>45</td>\n",
       "      <td>0.538167</td>\n",
       "      <td>0.569740</td>\n",
       "      <td>0.291298</td>\n",
       "    </tr>\n",
       "    <tr>\n",
       "      <th>32</th>\n",
       "      <td>core</td>\n",
       "      <td>[6, 15, 17, 18, 20, 115, 122, 136, 138, 159, 1...</td>\n",
       "      <td>35</td>\n",
       "      <td>0.545424</td>\n",
       "      <td>0.517730</td>\n",
       "      <td>0.304799</td>\n",
       "    </tr>\n",
       "    <tr>\n",
       "      <th>47</th>\n",
       "      <td>mass</td>\n",
       "      <td>[9, 17, 19, 65, 104, 106, 118, 149, 154, 162, ...</td>\n",
       "      <td>26</td>\n",
       "      <td>0.535279</td>\n",
       "      <td>0.570922</td>\n",
       "      <td>0.305780</td>\n",
       "    </tr>\n",
       "    <tr>\n",
       "      <th>82</th>\n",
       "      <td>time</td>\n",
       "      <td>[17, 50, 145, 156, 158, 161, 165, 183, 240, 26...</td>\n",
       "      <td>25</td>\n",
       "      <td>0.613995</td>\n",
       "      <td>0.645390</td>\n",
       "      <td>0.247549</td>\n",
       "    </tr>\n",
       "    <tr>\n",
       "      <th>44</th>\n",
       "      <td>luminosity</td>\n",
       "      <td>[9, 11, 49, 104, 106, 117, 128, 138, 139, 222,...</td>\n",
       "      <td>22</td>\n",
       "      <td>0.555233</td>\n",
       "      <td>0.741135</td>\n",
       "      <td>0.307297</td>\n",
       "    </tr>\n",
       "    <tr>\n",
       "      <th>61</th>\n",
       "      <td>temperature</td>\n",
       "      <td>[10, 11, 69, 121, 138, 152, 162, 164, 171, 293...</td>\n",
       "      <td>20</td>\n",
       "      <td>0.557920</td>\n",
       "      <td>0.693853</td>\n",
       "      <td>0.291179</td>\n",
       "    </tr>\n",
       "    <tr>\n",
       "      <th>31</th>\n",
       "      <td>helium</td>\n",
       "      <td>[6, 7, 13, 14, 75, 115, 136, 138, 151, 154, 15...</td>\n",
       "      <td>20</td>\n",
       "      <td>0.413712</td>\n",
       "      <td>0.365248</td>\n",
       "      <td>0.311947</td>\n",
       "    </tr>\n",
       "    <tr>\n",
       "      <th>346</th>\n",
       "      <td>year</td>\n",
       "      <td>[83, 85, 86, 124, 139, 142, 143, 146, 150, 153...</td>\n",
       "      <td>18</td>\n",
       "      <td>0.417126</td>\n",
       "      <td>0.358156</td>\n",
       "      <td>0.167897</td>\n",
       "    </tr>\n",
       "    <tr>\n",
       "      <th>4</th>\n",
       "      <td>earth</td>\n",
       "      <td>[1, 2, 5, 29, 79, 84, 107, 180, 214, 234, 235,...</td>\n",
       "      <td>17</td>\n",
       "      <td>0.441663</td>\n",
       "      <td>0.505910</td>\n",
       "      <td>0.309461</td>\n",
       "    </tr>\n",
       "    <tr>\n",
       "      <th>34</th>\n",
       "      <td>energy</td>\n",
       "      <td>[6, 14, 15, 176, 177, 293, 301, 304, 305, 381,...</td>\n",
       "      <td>16</td>\n",
       "      <td>0.649675</td>\n",
       "      <td>0.719858</td>\n",
       "      <td>0.345943</td>\n",
       "    </tr>\n",
       "    <tr>\n",
       "      <th>35</th>\n",
       "      <td>hydrogen</td>\n",
       "      <td>[6, 13, 75, 110, 113, 115, 136, 152, 159, 170,...</td>\n",
       "      <td>16</td>\n",
       "      <td>0.403812</td>\n",
       "      <td>0.367612</td>\n",
       "      <td>0.257180</td>\n",
       "    </tr>\n",
       "    <tr>\n",
       "      <th>22</th>\n",
       "      <td>galaxy</td>\n",
       "      <td>[5, 23, 42, 78, 81, 86, 118, 200, 201, 203, 21...</td>\n",
       "      <td>15</td>\n",
       "      <td>0.357447</td>\n",
       "      <td>0.472813</td>\n",
       "      <td>0.211105</td>\n",
       "    </tr>\n",
       "    <tr>\n",
       "      <th>20</th>\n",
       "      <td>astronomer</td>\n",
       "      <td>[4, 9, 27, 47, 65, 83, 84, 85, 118, 155, 252, ...</td>\n",
       "      <td>14</td>\n",
       "      <td>0.308342</td>\n",
       "      <td>0.199764</td>\n",
       "      <td>0.253541</td>\n",
       "    </tr>\n",
       "    <tr>\n",
       "      <th>488</th>\n",
       "      <td>main sequence star</td>\n",
       "      <td>[115, 221, 278, 285, 292, 298, 356, 380, 393, ...</td>\n",
       "      <td>12</td>\n",
       "      <td>0.759653</td>\n",
       "      <td>0.773050</td>\n",
       "      <td>0.207236</td>\n",
       "    </tr>\n",
       "    <tr>\n",
       "      <th>482</th>\n",
       "      <td>massive star</td>\n",
       "      <td>[113, 117, 118, 127, 147, 171, 173, 175, 184, ...</td>\n",
       "      <td>12</td>\n",
       "      <td>0.440701</td>\n",
       "      <td>0.406619</td>\n",
       "      <td>0.195979</td>\n",
       "    </tr>\n",
       "    <tr>\n",
       "      <th>57</th>\n",
       "      <td>rotation</td>\n",
       "      <td>[10, 126, 256, 262, 263, 281, 283, 285, 286, 2...</td>\n",
       "      <td>11</td>\n",
       "      <td>0.564797</td>\n",
       "      <td>0.664303</td>\n",
       "      <td>0.200892</td>\n",
       "    </tr>\n",
       "    <tr>\n",
       "      <th>69</th>\n",
       "      <td>heavy element</td>\n",
       "      <td>[13, 18, 19, 110, 158, 194, 195, 227, 228, 229...</td>\n",
       "      <td>11</td>\n",
       "      <td>0.388781</td>\n",
       "      <td>0.458629</td>\n",
       "      <td>0.273065</td>\n",
       "    </tr>\n",
       "    <tr>\n",
       "      <th>53</th>\n",
       "      <td>spectrum</td>\n",
       "      <td>[9, 57, 76, 170, 232, 279, 296, 348, 358, 360]</td>\n",
       "      <td>10</td>\n",
       "      <td>0.516548</td>\n",
       "      <td>0.604019</td>\n",
       "      <td>0.297847</td>\n",
       "    </tr>\n",
       "    <tr>\n",
       "      <th>352</th>\n",
       "      <td>main sequence</td>\n",
       "      <td>[84, 129, 137, 138, 139, 144, 145, 153, 285, 379]</td>\n",
       "      <td>10</td>\n",
       "      <td>0.409693</td>\n",
       "      <td>0.334515</td>\n",
       "      <td>0.198551</td>\n",
       "    </tr>\n",
       "  </tbody>\n",
       "</table>\n",
       "</div>"
      ],
      "text/plain": [
       "                Concept                                          Occurence  \\\n",
       "2                  star  [0, 5, 6, 7, 8, 9, 10, 12, 13, 15, 16, 17, 19,...   \n",
       "5                   sun  [1, 17, 27, 28, 29, 46, 47, 57, 91, 104, 107, ...   \n",
       "32                 core  [6, 15, 17, 18, 20, 115, 122, 136, 138, 159, 1...   \n",
       "47                 mass  [9, 17, 19, 65, 104, 106, 118, 149, 154, 162, ...   \n",
       "82                 time  [17, 50, 145, 156, 158, 161, 165, 183, 240, 26...   \n",
       "44           luminosity  [9, 11, 49, 104, 106, 117, 128, 138, 139, 222,...   \n",
       "61          temperature  [10, 11, 69, 121, 138, 152, 162, 164, 171, 293...   \n",
       "31               helium  [6, 7, 13, 14, 75, 115, 136, 138, 151, 154, 15...   \n",
       "346                year  [83, 85, 86, 124, 139, 142, 143, 146, 150, 153...   \n",
       "4                 earth  [1, 2, 5, 29, 79, 84, 107, 180, 214, 234, 235,...   \n",
       "34               energy  [6, 14, 15, 176, 177, 293, 301, 304, 305, 381,...   \n",
       "35             hydrogen  [6, 13, 75, 110, 113, 115, 136, 152, 159, 170,...   \n",
       "22               galaxy  [5, 23, 42, 78, 81, 86, 118, 200, 201, 203, 21...   \n",
       "20           astronomer  [4, 9, 27, 47, 65, 83, 84, 85, 118, 155, 252, ...   \n",
       "488  main sequence star  [115, 221, 278, 285, 292, 298, 356, 380, 393, ...   \n",
       "482        massive star  [113, 117, 118, 127, 147, 171, 173, 175, 184, ...   \n",
       "57             rotation  [10, 126, 256, 262, 263, 281, 283, 285, 286, 2...   \n",
       "69        heavy element  [13, 18, 19, 110, 158, 194, 195, 227, 228, 229...   \n",
       "53             spectrum     [9, 57, 76, 170, 232, 279, 296, 348, 358, 360]   \n",
       "352       main sequence  [84, 129, 137, 138, 139, 144, 145, 153, 285, 379]   \n",
       "\n",
       "     Frequency      Mean    Median      Sdev  \n",
       "2          173  0.470859  0.498818  0.282697  \n",
       "5           45  0.538167  0.569740  0.291298  \n",
       "32          35  0.545424  0.517730  0.304799  \n",
       "47          26  0.535279  0.570922  0.305780  \n",
       "82          25  0.613995  0.645390  0.247549  \n",
       "44          22  0.555233  0.741135  0.307297  \n",
       "61          20  0.557920  0.693853  0.291179  \n",
       "31          20  0.413712  0.365248  0.311947  \n",
       "346         18  0.417126  0.358156  0.167897  \n",
       "4           17  0.441663  0.505910  0.309461  \n",
       "34          16  0.649675  0.719858  0.345943  \n",
       "35          16  0.403812  0.367612  0.257180  \n",
       "22          15  0.357447  0.472813  0.211105  \n",
       "20          14  0.308342  0.199764  0.253541  \n",
       "488         12  0.759653  0.773050  0.207236  \n",
       "482         12  0.440701  0.406619  0.195979  \n",
       "57          11  0.564797  0.664303  0.200892  \n",
       "69          11  0.388781  0.458629  0.273065  \n",
       "53          10  0.516548  0.604019  0.297847  \n",
       "352         10  0.409693  0.334515  0.198551  "
      ]
     },
     "execution_count": 35,
     "metadata": {},
     "output_type": "execute_result"
    }
   ],
   "source": [
    "Conceptdata.sort_values(by='Frequency',ascending=False).head(20)"
   ]
  },
  {
   "cell_type": "markdown",
   "metadata": {},
   "source": [
    "### Save as csv:"
   ]
  },
  {
   "cell_type": "code",
   "execution_count": 11,
   "metadata": {},
   "outputs": [],
   "source": [
    "Conceptdata.to_csv(filename[0:-4]+'.csv',sep=',')"
   ]
  },
  {
   "cell_type": "markdown",
   "metadata": {},
   "source": [
    "### Save dictionaries and dataframe to pickle file"
   ]
  },
  {
   "cell_type": "code",
   "execution_count": 24,
   "metadata": {},
   "outputs": [],
   "source": [
    "import pickle\n",
    "concepts = {'sents':sents,'rawtxt':rawtxt,'sent_to_npflat':sent_to_npflat,'sent_to_tags':sent_to_tags,'sent_to_ltags':sent_to_ltags,'np_to_sent':np_to_sent,'Conceptdata':Conceptdata}\n",
    "with open(filename[0:-4]+'concepts.pickle', 'wb') as f:\n",
    "    pickle.dump(concepts, f)\n",
    "f.close()"
   ]
  },
  {
   "cell_type": "code",
   "execution_count": null,
   "metadata": {},
   "outputs": [],
   "source": []
  }
 ],
 "metadata": {
  "kernelspec": {
   "display_name": "Python 3",
   "language": "python",
   "name": "python3"
  },
  "language_info": {
   "codemirror_mode": {
    "name": "ipython",
    "version": 3
   },
   "file_extension": ".py",
   "mimetype": "text/x-python",
   "name": "python",
   "nbconvert_exporter": "python",
   "pygments_lexer": "ipython3",
   "version": "3.7.1"
  }
 },
 "nbformat": 4,
 "nbformat_minor": 2
}
