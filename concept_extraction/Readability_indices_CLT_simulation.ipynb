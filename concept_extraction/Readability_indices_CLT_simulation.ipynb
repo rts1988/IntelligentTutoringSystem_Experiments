{
 "cells": [
  {
   "cell_type": "markdown",
   "metadata": {},
   "source": [
    "# Readability indices"
   ]
  },
  {
   "cell_type": "markdown",
   "metadata": {},
   "source": [
    "# Cognitive Load Simulation\n",
    "\n",
    "Cognitive load is the resources your working memory has to use during problem solving and learning activities.\n",
    "\n",
    "Total cognitive load = intrinsic cognitive load + extrinsic cognitive load + germane cognitive load\n",
    "\n",
    "Intrinsic cognitive load = cognitive load associated with a topic\n",
    "Extrinsic cognitive load = cognitive load caused by the way a topic is presented to the learner\n",
    "Germane cognitive load   = cognitive load involved in fitting new information into schema in long-term memory\n",
    "\n",
    "Extrinsic and germane cognitive load can be reduced with intelligent instructional design. \n",
    "\n",
    "## Objective: Simulate the cognitive load experienced by a student with a set of prior known concepts while reading a document and compare with readability indices\n",
    "\n"
   ]
  },
  {
   "cell_type": "code",
   "execution_count": 49,
   "metadata": {},
   "outputs": [],
   "source": [
    "import nltk\n",
    "from nltk.corpus import stopwords \n",
    "stop_words = set(stopwords.words('english'))\n",
    "\n",
    "filename = 'starwiki'\n",
    "\n",
    "concepts = {}\n",
    "import pickle\n",
    "# Loading extracted concepts from file (see concept_extraction.ipynb)\n",
    "#concepts = {'sents':sents,'rawtxt':rawtxt,'sent_to_npflat':sent_to_npflat,'sent_to_tags':sent_to_tags,'sent_to_ltags':sent_to_ltags,'np_to_sent':np_to_sent,'Conceptdata':Conceptdata}\n",
    "with open(filename +'concepts.pickle', 'rb') as f:\n",
    "    concepts = pickle.load(f)\n",
    "\n",
    "# Loading idf dictionary (see Build_IDF_dictionary.ipynb)\n",
    "with open('idf_dict.pickle','rb') as f1:\n",
    "    idf_dict =pickle.load(f1)\n",
    "\n",
    "sents = concepts['sents']\n",
    "rawtxt = concepts['rawtxt']\n",
    "sent_to_npflat = concepts['sent_to_npflat']\n",
    "sent_to_tags= concepts['sent_to_tags']\n",
    "sent_to_ltags = concepts['sent_to_ltags']\n",
    "np_to_sent = concepts['np_to_sent']\n",
    "Conceptdata = concepts['Conceptdata']\n",
    "\n",
    "import math\n",
    "\n",
    "\n",
    "\n",
    "def get_idf(wrd,totaldocs=10788):\n",
    "    wrd = wrd.lower()\n",
    "    return idf_dict.get(wrd,math.log(totaldocs))\n"
   ]
  },
  {
   "cell_type": "code",
   "execution_count": 50,
   "metadata": {},
   "outputs": [],
   "source": [
    "def calc_cl_per_sentence(sent_to_npflat,maxidf=9.1):\n",
    "    sent_to_clt = []\n",
    "    for i in range(len(sent_to_npflat)):\n",
    "        npinsent = sent_to_npflat[i]\n",
    "        clt= 0\n",
    "        for np in npinsent:\n",
    "            tokens = np.split(' ')\n",
    "            idf = 0\n",
    "            for t in tokens:\n",
    "                if t not in stop_words:\n",
    "                    idf = idf + get_idf(t)/len(tokens)\n",
    "            if (idf>=maxidf):\n",
    "                clt = clt + 1\n",
    "        sent_to_clt.append(clt)\n",
    "    return sent_to_clt\n",
    "\n",
    "def plot_clt():\n",
    "    \n",
    "    from matplotlib import pyplot as plt\n",
    "    plt.xlabel('document sentence #')\n",
    "    plt.ylabel('Load added to working memory by sentence')\n",
    "    plt.title('Cognitive Load for '+filename)\n",
    "    plt.plot(list(range(1,len(sent_to_npflat)+1)),calc_cl_per_sentence(sent_to_npflat),drawstyle='steps')\n",
    "    plt.savefig('cltfig1.png')\n",
    "    return None"
   ]
  },
  {
   "cell_type": "code",
   "execution_count": 51,
   "metadata": {},
   "outputs": [
    {
     "name": "stdout",
     "output_type": "stream",
     "text": [
      "Mininum cognitive load sentence:   The nearest star to Earth is the Sun\n",
      "Maximum cognitive load sentence:   In 1584, Giordano Bruno suggested that the stars were like the Sun, and may have other planets, possibly even Earth-like, in orbit around them,[24] an idea that had been suggested earlier by the ancient Greek philosophers, Democritus and Epicurus,[25] and by medieval Islamic cosmologists[26] such as Fakhr al-Din al-Razi\n"
     ]
    },
    {
     "data": {
      "image/png": "[encoded data removed]",
      "text/plain": [
       "<Figure size 432x288 with 1 Axes>"
      ]
     },
     "metadata": {
      "needs_background": "light"
     },
     "output_type": "display_data"
    }
   ],
   "source": [
    "sent_to_clt = calc_cl_per_sentence(sent_to_npflat)\n",
    "print('Mininum cognitive load sentence: ',sents[sent_to_clt.index(min(sent_to_clt))])\n",
    "print('Maximum cognitive load sentence: ',sents[sent_to_clt.index(max(sent_to_clt))])\n",
    "plot_clt()"
   ]
  },
  {
   "cell_type": "markdown",
   "metadata": {},
   "source": [
    "## Readability indices\n",
    "\n",
    "Readability is the ease with which a reader can understand a text, and is calculated through a number of different empirical equations. \n",
    "\n",
    "1. Flesch–Kincaid readability tests\n",
    "New reading ease score = 1.599nosw − 1.015sl − 31.517\n",
    "Where: nosw = number of one-syllable words per 100 words and\n",
    "sl = average sentence length in words.\n"
   ]
  },
  {
   "cell_type": "code",
   "execution_count": 52,
   "metadata": {},
   "outputs": [],
   "source": [
    "from nltk.corpus import cmudict\n",
    "cmud = cmudict.dict()\n",
    "def manual_syllable_count(phrase):\n",
    "    vowels = {'a','e','i','o','u'}\n",
    "    consonants = {'b','c','d','f','g','h','j','k','l','m','n','p','q','r','s','t','v','w','x','z'}\n",
    "    y = {'y'}\n",
    "    length = len(phrase)\n",
    "    count_s = 0\n",
    "    # syllables are counted in middle and end from the starting consonant or y sound with vowel sound following\n",
    "    # in the starting: vowel sounds from a,e,i,o,u,and y are counted as 1 syllable regardless\n",
    "    # in the end: consonant - vowel end with e is not counted, every other case including y as the vowel is counted\n",
    "    first = phrase[0]\n",
    "    #print(first)\n",
    "    # dividing middle portion of word into pairs\n",
    "    pairs = [phrase[i:i+2] for i in range(len(phrase)-2)]\n",
    "    # getting ending pair\n",
    "    end = phrase[len(phrase)-2:len(phrase)]\n",
    "    \n",
    "    if first in vowels|y:\n",
    "        count_s = count_s + 1\n",
    "        #print(first,count_s)\n",
    "        \n",
    "    for p in pairs:\n",
    "        if p[0] in consonants|y and p[1] in vowels|y:\n",
    "            count_s = count_s + 1\n",
    "        #print(p,count_s)\n",
    "    #print(end)\n",
    "    if end[0] in consonants|y and end[1] in {'a','i','o','u','y'}:\n",
    "        count_s = count_s + 1\n",
    "        #print(end,count_s)\n",
    "    return count_s\n",
    "#     'employee'\n",
    "#     'e'   :1\n",
    "#     'em'  :0\n",
    "#     'mp'  :0\n",
    "#     'pl'  :0\n",
    "#     'lo'  :1\n",
    "#     'oy'  :0\n",
    "#     'ye'  :1\n",
    "#     'ee'  :0\n",
    "    # getting first letter\n",
    "\n",
    "def syllable_count(phrase):\n",
    "    toks = nltk.word_tokenize(phrase)\n",
    "    count = 0\n",
    "    for t in toks:\n",
    "        #syll_list = list(chain.from_iterable(cmud.get(t,[[0]])))\n",
    "        syll_list = cmud.get(t,[[0]])[0] # randomly choosing the first pronunciation\n",
    "        #print(syll_list)\n",
    "        if syll_list==[0]:\n",
    "            count = count + manual_syllable_count(t)\n",
    "        else:\n",
    "            count = count + sum([1 for y in syll_list if y[-1].isdigit()])\n",
    "    return count\n"
   ]
  },
  {
   "cell_type": "code",
   "execution_count": 53,
   "metadata": {},
   "outputs": [
    {
     "name": "stdout",
     "output_type": "stream",
     "text": [
      "2\n"
     ]
    }
   ],
   "source": [
    "print(syllable_count('rhythm'))"
   ]
  },
  {
   "cell_type": "code",
   "execution_count": null,
   "metadata": {},
   "outputs": [],
   "source": []
  }
 ],
 "metadata": {
  "kernelspec": {
   "display_name": "Python 3",
   "language": "python",
   "name": "python3"
  },
  "language_info": {
   "codemirror_mode": {
    "name": "ipython",
    "version": 3
   },
   "file_extension": ".py",
   "mimetype": "text/x-python",
   "name": "python",
   "nbconvert_exporter": "python",
   "pygments_lexer": "ipython3",
   "version": "3.7.1"
  }
 },
 "nbformat": 4,
 "nbformat_minor": 2
}
