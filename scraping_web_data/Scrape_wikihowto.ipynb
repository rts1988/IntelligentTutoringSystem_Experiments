{
 "cells": [
  {
   "cell_type": "code",
   "execution_count": 11,
   "metadata": {},
   "outputs": [
    {
     "name": "stdout",
     "output_type": "stream",
     "text": [
      "getting from https://www.wikihow.com/Make-a-Cheap-Terrarium\n",
      "getting from https://www.wikihow.com/Make-a-Thank-You-Card\n",
      "getting from https://www.wikihow.com/Research-the-Market-Before-Launching-a-Product-or-Service\n",
      "getting from https://www.wikihow.com/Clean-a-Typewriter\n"
     ]
    }
   ],
   "source": [
    "from bs4 import BeautifulSoup\n",
    "import requests\n",
    "import json\n",
    "url_list = {'https://www.wikihow.com/Make-a-Cheap-Terrarium','https://www.wikihow.com/Clean-a-Typewriter',\n",
    "            'https://www.wikihow.com/Make-a-Thank-You-Card','https://www.wikihow.com/Research-the-Market-Before-Launching-a-Product-or-Service'}\n",
    "rawtxt = []\n",
    "texts = {}\n",
    "text_set = []\n",
    "newdict = {}\n",
    "count = 0\n",
    "for url in url_list:\n",
    "    print('getting from '+url)\n",
    "    source = requests.get(url).text\n",
    "    soup = BeautifulSoup(source,'lxml')\n",
    "    description = [p1.get_text() for p1 in soup.find_all('p')][1]\n",
    "    title = soup.find('title').get_text()\n",
    "    #text_set.append(soup.find_all('b').get_text())\n",
    "    step_set = soup.find_all('script',{'type':'application/ld+json'})\n",
    "    step_list = [json.loads(p1.get_text()) for p1 in step_set]\n",
    "    step_text = []\n",
    "    for i in range(len(step_list[1]['step'])):\n",
    "        for j in range(len(step_list[1]['step'][i]['itemListElement'])):\n",
    "            step_text.append(BeautifulSoup(step_list[1]['step'][i]['itemListElement'][j]['itemListElement']['text']).get_text())\n",
    "    texts[count] = {}\n",
    "    texts[count]['url'] = url\n",
    "    texts[count]['title'] = title\n",
    "    texts[count]['description'] = description \n",
    "    texts[count]['steps'] = ' '.join(step_text)\n",
    "    count = count +1"
   ]
  },
  {
   "cell_type": "markdown",
   "metadata": {},
   "source": [
    "Building rawtxt string"
   ]
  },
  {
   "cell_type": "code",
   "execution_count": 17,
   "metadata": {},
   "outputs": [
    {
     "data": {
      "text/plain": [
       "30450"
      ]
     },
     "execution_count": 17,
     "metadata": {},
     "output_type": "execute_result"
    }
   ],
   "source": [
    "rawtxt = ' '.join([texts[i]['steps'] for i in range(len(texts))])\n",
    "len(rawtxt)"
   ]
  },
  {
   "cell_type": "markdown",
   "metadata": {},
   "source": [
    "Saving texts dictionary in pickle file for then splitting to test and train. "
   ]
  },
  {
   "cell_type": "code",
   "execution_count": null,
   "metadata": {},
   "outputs": [],
   "source": [
    "with open()"
   ]
  }
 ],
 "metadata": {
  "kernelspec": {
   "display_name": "Python 3",
   "language": "python",
   "name": "python3"
  },
  "language_info": {
   "codemirror_mode": {
    "name": "ipython",
    "version": 3
   },
   "file_extension": ".py",
   "mimetype": "text/x-python",
   "name": "python",
   "nbconvert_exporter": "python",
   "pygments_lexer": "ipython3",
   "version": "3.7.1"
  }
 },
 "nbformat": 4,
 "nbformat_minor": 2
}
