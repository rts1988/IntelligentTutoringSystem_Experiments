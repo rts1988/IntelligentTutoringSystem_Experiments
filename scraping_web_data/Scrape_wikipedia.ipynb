{
 "cells": [
  {
   "cell_type": "markdown",
   "metadata": {},
   "source": [
    "# Attribute extraction from tag sequences\n",
    "\n",
    "    "
   ]
  },
  {
   "cell_type": "markdown",
   "metadata": {},
   "source": [
    "## 1. Downloading wikipedia articles' text"
   ]
  },
  {
   "cell_type": "code",
   "execution_count": 194,
   "metadata": {},
   "outputs": [
    {
     "name": "stdout",
     "output_type": "stream",
     "text": [
      "length of material\n",
      "6304753\n",
      "Sample of text\n",
      "\n",
      "In physics, acceleration is the rate of change of velocity of an object with respect to time. An object's acceleration is the net result of all forces acting on the object, as described by Newton's Second Law.[1] The SI unit for acceleration is metre per second squared (m⋅s−2). Accelerations are vector quantities (they have magnitude and direction) and add according to the parallelogram law.[2][3] The vector of the net force acting on a body has the same direction as the vector of the body's ac\n"
     ]
    }
   ],
   "source": [
    "from bs4 import BeautifulSoup\n",
    "import requests\n",
    "\n",
    "url_list_features = ['https://en.wikipedia.org/wiki/Acceleration', 'https://en.wikipedia.org/wiki/Adjusted_basis', 'https://en.wikipedia.org/wiki/Ageing', 'https://en.wikipedia.org/wiki/Agility', 'https://en.wikipedia.org/wiki/Altitude', 'https://en.wikipedia.org/wiki/Amplitude', 'https://en.wikipedia.org/wiki/Angular_momentum', 'https://en.wikipedia.org/wiki/Aptitude', 'https://en.wikipedia.org/wiki/Area', 'https://en.wikipedia.org/wiki/Aridity_index', 'https://en.wikipedia.org/wiki/Batting_average_(cricket)', 'https://en.wikipedia.org/wiki/Beauty', 'https://en.wikipedia.org/wiki/Taste', 'https://en.wikipedia.org/wiki/Body_mass_index', 'https://en.wikipedia.org/wiki/Boiling_point', 'https://en.wikipedia.org/wiki/Brightness', 'https://en.wikipedia.org/wiki/Capacity_of_a_set', 'https://en.wikipedia.org/wiki/Cognitive_load', 'https://en.wikipedia.org/wiki/Color', 'https://en.wikipedia.org/wiki/Electrical_resistivity_and_conductivity', 'https://en.wikipedia.org/wiki/Congruence_(geometry)', 'https://en.wikipedia.org/wiki/Delivery_(cricket)', 'https://en.wikipedia.org/wiki/Religious_denomination', 'https://en.wikipedia.org/wiki/Density', 'https://en.wikipedia.org/wiki/Displacement_(vector)', 'https://en.wikipedia.org/wiki/Distance', 'https://en.wikipedia.org/wiki/Elasticity_(physics)', 'https://en.wikipedia.org/wiki/Electric_charge', 'https://en.wikipedia.org/wiki/Electric_current', 'https://en.wikipedia.org/wiki/Entropy', 'https://en.wikipedia.org/wiki/Eye_color', 'https://en.wikipedia.org/wiki/Flavor', 'https://en.wikipedia.org/wiki/Focal_length', 'https://en.wikipedia.org/wiki/Force', 'https://en.wikipedia.org/wiki/Frequency', 'https://en.wikipedia.org/wiki/Gravitational_constant', 'https://en.wikipedia.org/wiki/Hardness', 'https://en.wikipedia.org/wiki/Heat_capacity', 'https://en.wikipedia.org/wiki/Height', 'https://en.wikipedia.org/wiki/Inductance', 'https://en.wikipedia.org/wiki/Intelligence_quotient', 'https://en.wikipedia.org/wiki/Jerk_(physics)', 'https://en.wikipedia.org/wiki/Length', 'https://en.wikipedia.org/wiki/Lustre_(mineralogy)', 'https://en.wikipedia.org/wiki/Mass', 'https://en.wikipedia.org/wiki/Mean', 'https://en.wikipedia.org/wiki/Median', 'https://en.wikipedia.org/wiki/Melting_point', 'https://en.wikipedia.org/wiki/Mode_(statistics)', 'https://en.wikipedia.org/wiki/Momentum', 'https://en.wikipedia.org/wiki/Nationality', 'https://en.wikipedia.org/wiki/Odor', 'https://en.wikipedia.org/wiki/Part_of_speech', 'https://en.wikipedia.org/wiki/PH', 'https://en.wikipedia.org/wiki/Phase_(waves)', 'https://en.wikipedia.org/wiki/Power_(physics)', 'https://en.wikipedia.org/wiki/Pressure', 'https://en.wikipedia.org/wiki/Race_(human_categorization)', 'https://en.wikipedia.org/wiki/Radiance', 'https://en.wikipedia.org/wiki/Electrical_resistivity_and_conductivity', 'https://en.wikipedia.org/wiki/Taste', 'https://en.wikipedia.org/wiki/Taste', 'https://en.wikipedia.org/wiki/Shape', 'https://en.wikipedia.org/wiki/Size', 'https://en.wikipedia.org/wiki/Soil_texture', 'https://en.wikipedia.org/wiki/Solubility', 'https://en.wikipedia.org/wiki/Taste', 'https://en.wikipedia.org/wiki/Speed', 'https://en.wikipedia.org/wiki/Physical_strength', 'https://en.wikipedia.org/wiki/Surface_finish', 'https://en.wikipedia.org/wiki/Sweetness', 'https://en.wikipedia.org/wiki/Temperature', 'https://en.wikipedia.org/wiki/Texture_(crystalline)', 'https://en.wikipedia.org/wiki/Thermal_conductivity', 'https://en.wikipedia.org/wiki/Timbre', 'https://en.wikipedia.org/wiki/Variance', 'https://en.wikipedia.org/wiki/Velocity', 'https://en.wikipedia.org/wiki/Viscosity', 'https://en.wikipedia.org/wiki/Voltage', 'https://en.wikipedia.org/wiki/Volume', 'https://en.wikipedia.org/wiki/Wavelength', 'https://en.wikipedia.org/wiki/Weight', 'https://en.wikipedia.org/wiki/Wetting', 'https://en.wikipedia.org/wiki/Wind_speed', 'https://en.wikipedia.org/wiki/Wingspan', 'https://en.wikipedia.org/wiki/Efficiency', 'https://en.wikipedia.org/wiki/Internal_energy', 'https://en.wikipedia.org/wiki/Latent_heat', 'https://en.wikipedia.org/wiki/Deformation_(mechanics)', 'https://en.wikipedia.org/wiki/Friction', 'https://en.wikipedia.org/wiki/Radius', 'https://en.wikipedia.org/wiki/Profit_(accounting)', 'https://en.wikipedia.org/wiki/Revenue', 'https://en.wikipedia.org/wiki/Income', 'https://en.wikipedia.org/wiki/Surface_area', 'https://en.wikipedia.org/wiki/Circumference', 'https://en.wikipedia.org/wiki/Refractive_index', 'https://en.wikipedia.org/wiki/Superpower_(ability)', 'https://en.wikipedia.org/wiki/Trait_theory', 'https://en.wikipedia.org/wiki/Angle', 'https://en.wikipedia.org/wiki/Score_(statistics)', 'https://en.wikipedia.org/wiki/National_language', 'https://en.wikipedia.org/wiki/Intelligence', 'https://en.wikipedia.org/wiki/Dimension', 'https://en.wikipedia.org/wiki/Contrast_ratio', 'https://en.wikipedia.org/wiki/Opacity_(optics)', 'https://en.wikipedia.org/wiki/Kinetic_energy', 'https://en.wikipedia.org/wiki/Range_(statistics)', 'https://en.wikipedia.org/wiki/Average', 'https://en.wikipedia.org/wiki/Air_quality_index', 'https://en.wikipedia.org/wiki/Bra_size', 'https://en.wikipedia.org/wiki/Shoe_size', 'https://en.wikipedia.org/wiki/Accent_(sociolinguistics)', 'https://en.wikipedia.org/wiki/Ethnic_group', 'https://en.wikipedia.org/wiki/Thermal_energy', 'https://en.wikipedia.org/wiki/Loudness', 'https://en.wikipedia.org/wiki/Atmospheric_pressure', 'https://en.wikipedia.org/wiki/Intensity_(physics)', 'https://en.wikipedia.org/wiki/Buoyancy', 'https://en.wikipedia.org/wiki/Currency', 'https://en.wikipedia.org/wiki/Stress_(mechanics)', 'https://en.wikipedia.org/wiki/Smoke_point', 'https://en.wikipedia.org/wiki/Cloud_point', 'https://en.wikipedia.org/wiki/Characteristic_(algebra)', 'https://en.wikipedia.org/wiki/Inductance', 'https://en.wikipedia.org/wiki/Behavior', 'https://en.wikipedia.org/wiki/Location', 'https://en.wikipedia.org/wiki/Probability', 'https://en.wikipedia.org/wiki/Author', 'https://en.wikipedia.org/wiki/Edition_(book)', 'https://en.wikipedia.org/wiki/Standard_deviation', 'https://en.wikipedia.org/wiki/Contact_angle', 'https://en.wikipedia.org/wiki/Potential_energy', 'https://en.wikipedia.org/wiki/Sexual_orientation', 'https://en.wikipedia.org/wiki/Bandwidth_(signal_processing)', 'https://en.wikipedia.org/wiki/Miscibility', 'https://en.wikipedia.org/wiki/Probability_distribution', 'https://en.wikipedia.org/wiki/Arithmetic_mean', 'https://en.wikipedia.org/wiki/Angular_velocity', 'https://en.wikipedia.org/wiki/Gender', 'https://en.wikipedia.org/wiki/Accuracy_and_precision', 'https://en.wikipedia.org/wiki/Accuracy_and_precision', 'https://en.wikipedia.org/wiki/Blood_type', 'https://en.wikipedia.org/wiki/Proportionality_(law)', 'https://en.wikipedia.org/wiki/Mean_free_path', 'https://en.wikipedia.org/wiki/Dog_breed', 'https://en.wikipedia.org/wiki/Absolute_pitch', 'https://en.wikipedia.org/wiki/Human_hair_color', 'https://en.wikipedia.org/wiki/Pungency', 'https://en.wikipedia.org/wiki/Role', 'https://en.wikipedia.org/wiki/Diameter', 'https://en.wikipedia.org/wiki/First_language', 'https://en.wikipedia.org/wiki/Torque']\n",
    "\n",
    "url_list_not_features = ['https://en.wikipedia.org/wiki/Steam_engine', 'https://en.wikipedia.org/wiki/Boyle%27s_law', 'https://en.wikipedia.org/wiki/Chemical_reaction', 'https://en.wikipedia.org/wiki/Circle', 'https://en.wikipedia.org/wiki/Albert_Einstein', 'https://en.wikipedia.org/wiki/Euclid', 'https://en.wikipedia.org/wiki/United_Nations', 'https://en.wikipedia.org/wiki/Economics', 'https://en.wikipedia.org/wiki/Finance', 'https://en.wikipedia.org/wiki/Stock_and_flow', 'https://en.wikipedia.org/wiki/Management', 'https://en.wikipedia.org/wiki/Observation', 'https://en.wikipedia.org/wiki/Electrical_conductor', 'https://en.wikipedia.org/wiki/Physics', 'https://en.wikipedia.org/wiki/Helium', 'https://en.wikipedia.org/wiki/Wave', 'https://en.wikipedia.org/wiki/Optometry', 'https://en.wikipedia.org/wiki/Inertia', 'https://en.wikipedia.org/wiki/Eye', 'https://en.wikipedia.org/wiki/Place', 'https://en.wikipedia.org/wiki/Mouth', 'https://en.wikipedia.org/wiki/Aristotle', 'https://en.wikipedia.org/wiki/Closed_system', 'https://en.wikipedia.org/wiki/Education', 'https://en.wikipedia.org/wiki/Student', 'https://en.wikipedia.org/wiki/Prediction', 'https://en.wikipedia.org/wiki/Chili_pepper', 'https://en.wikipedia.org/wiki/General_relativity', 'https://en.wikipedia.org/wiki/Supertaster', 'https://en.wikipedia.org/wiki/Universe', 'https://en.wikipedia.org/wiki/Infinity', 'https://en.wikipedia.org/wiki/China', 'https://en.wikipedia.org/wiki/Life', 'https://en.wikipedia.org/wiki/Research', 'https://en.wikipedia.org/wiki/Polygon', 'https://en.wikipedia.org/wiki/Language', 'https://en.wikipedia.org/wiki/Speech', 'https://en.wikipedia.org/wiki/Science', 'https://en.wikipedia.org/wiki/Europe', 'https://en.wikipedia.org/wiki/Vapor', 'https://en.wikipedia.org/wiki/Acid', 'https://en.wikipedia.org/wiki/Adult', 'https://en.wikipedia.org/wiki/Collision', 'https://en.wikipedia.org/wiki/Gustducin', 'https://en.wikipedia.org/wiki/James_Prescott_Joule', 'https://en.wikipedia.org/wiki/Carburetor', 'https://en.wikipedia.org/wiki/Radiator', 'https://en.wikipedia.org/wiki/Solvent', 'https://en.wikipedia.org/wiki/Culture', 'https://en.wikipedia.org/wiki/Memory', 'https://en.wikipedia.org/wiki/Calcium', 'https://en.wikipedia.org/wiki/Umami', 'https://en.wikipedia.org/wiki/Biophysical_environment', 'https://en.wikipedia.org/wiki/Sand', 'https://en.wikipedia.org/wiki/Atmosphere', 'https://en.wikipedia.org/wiki/Correlation_and_dependence', 'https://en.wikipedia.org/wiki/Protein', 'https://en.wikipedia.org/wiki/Crystal', 'https://en.wikipedia.org/wiki/Genetics', 'https://en.wikipedia.org/wiki/Cone', 'https://en.wikipedia.org/wiki/Airplane', 'https://en.wikipedia.org/wiki/World', 'https://en.wikipedia.org/wiki/Proton', 'https://en.wikipedia.org/wiki/Galileo_Galilei', 'https://en.wikipedia.org/wiki/Information', 'https://en.wikipedia.org/wiki/Experiment', 'https://en.wikipedia.org/wiki/Idea', 'https://en.wikipedia.org/wiki/Cardiovascular_disease', 'https://en.wikipedia.org/wiki/Object_(philosophy)', 'https://en.wikipedia.org/wiki/Time', 'https://en.wikipedia.org/wiki/System', 'https://en.wikipedia.org/wiki/Case_(goods)', 'https://en.wikipedia.org/wiki/Number', 'https://en.wikipedia.org/wiki/Point_(geometry)', 'https://en.wikipedia.org/wiki/Surface', 'https://en.wikipedia.org/wiki/Water', 'https://en.wikipedia.org/wiki/Particle', 'https://en.wikipedia.org/wiki/Change_(philosophy)', 'https://en.wikipedia.org/wiki/Law', 'https://en.wikipedia.org/wiki/Equation', 'https://en.wikipedia.org/wiki/Statistical_unit', 'https://en.wikipedia.org/wiki/Motion', 'https://en.wikipedia.org/wiki/Heat', 'https://en.wikipedia.org/wiki/Concept', 'https://en.wikipedia.org/wiki/Isaac_Newton', 'https://en.wikipedia.org/wiki/Liquid', 'https://en.wikipedia.org/wiki/Human', 'https://en.wikipedia.org/wiki/Gas', 'https://en.wikipedia.org/wiki/Atom', 'https://en.wikipedia.org/wiki/Causality', 'https://en.wikipedia.org/wiki/Light', 'https://en.wikipedia.org/wiki/Molecule', 'https://en.wikipedia.org/wiki/Electron', 'https://en.wikipedia.org/wiki/Citation', 'https://en.wikipedia.org/wiki/People', 'https://en.wikipedia.org/wiki/Food', 'https://en.wikipedia.org/wiki/Definition', 'https://en.wikipedia.org/wiki/Person', 'https://en.wikipedia.org/wiki/Freedom', 'https://en.wikipedia.org/wiki/Earth', 'https://en.wikipedia.org/wiki/Sample_(statistics)', 'https://en.wikipedia.org/wiki/Magnitude_(mathematics)', 'https://en.wikipedia.org/wiki/Degree_(graph_theory)', 'https://en.wikipedia.org/wiki/Measure_(mathematics)', 'https://en.wikipedia.org/wiki/Mereology', 'https://en.wikipedia.org/wiki/Function_(mathematics)', 'https://en.wikipedia.org/wiki/Population', 'https://en.wikipedia.org/wiki/Matter', 'https://en.wikipedia.org/wiki/Fact', 'https://en.wikipedia.org/wiki/Solution', 'https://en.wikipedia.org/wiki/Gravity', 'https://en.wikipedia.org/wiki/Business_process', 'https://en.wikipedia.org/wiki/Metal', 'https://en.wikipedia.org/wiki/Fluid', 'https://en.wikipedia.org/wiki/Rate_(mathematics)', 'https://en.wikipedia.org/wiki/Taste_bud', 'https://en.wikipedia.org/wiki/Tongue', 'https://en.wikipedia.org/wiki/Method_(computer_programming)', 'https://en.wikipedia.org/wiki/Theory', 'https://en.wikipedia.org/wiki/Measurement', 'https://en.wikipedia.org/wiki/Thermodynamics', 'https://en.wikipedia.org/wiki/Centre_(geometry)', 'https://en.wikipedia.org/wiki/Respect', 'https://en.wikipedia.org/wiki/Space', 'https://en.wikipedia.org/wiki/Instance_(computer_science)', 'https://en.wikipedia.org/wiki/Cell_(biology)', 'https://en.wikipedia.org/wiki/Social_group', 'https://en.wikipedia.org/wiki/Charge_(physics)', 'https://en.wikipedia.org/wiki/Newton%27s_laws_of_motion', 'https://en.wikipedia.org/wiki/Ratio', 'https://en.wikipedia.org/wiki/Product_(mathematics)', 'https://en.wikipedia.org/wiki/Individual', 'https://en.wikipedia.org/wiki/United_states', 'https://en.wikipedia.org/wiki/Odor', 'https://en.wikipedia.org/wiki/Formula', 'https://en.wikipedia.org/wiki/Set_(mathematics)', 'https://en.wikipedia.org/wiki/Electrical_resistance_and_conductance', 'https://en.wikipedia.org/wiki/Distribution_(mathematics)', 'https://en.wikipedia.org/wiki/Magnetic_field', 'https://en.wikipedia.org/wiki/Square', 'https://en.wikipedia.org/wiki/Source_(journalism)', 'https://en.wikipedia.org/wiki/Sensation_(fiction)', 'https://en.wikipedia.org/wiki/Concentration', 'https://en.wikipedia.org/wiki/Property', 'https://en.wikipedia.org/wiki/Brain', 'https://en.wikipedia.org/wiki/Atmosphere_of_Earth', 'https://en.wikipedia.org/wiki/Expression_(mathematics)', 'https://en.wikipedia.org/wiki/Phenomenon', 'https://en.wikipedia.org/wiki/Electric_field', 'https://en.wikipedia.org/wiki/Sense', 'https://en.wikipedia.org/wiki/Summation', 'https://en.wikipedia.org/wiki/Variation_(astronomy)', 'https://en.wikipedia.org/wiki/Solid']\n",
    "\n",
    "feature_list = ['acceleration', 'adjusted basis', 'age', 'agility', 'altitude', 'amplitude', 'angular momentum', 'aptitude', 'area', 'aridity index', 'batting average', 'beauty', 'bitterness', 'BMI', 'boiling point', 'brightness', 'capacity', 'cognitive load', 'color', 'conductivity', 'congruence', 'delivery', 'denomination', 'density', 'displacement', 'distance', 'elasticity', 'electric charge', 'electric current', 'entropy', 'eye color', 'flavor', 'focal length', 'force', 'frequency', 'gravitational constant', 'hardness', 'heat capacity', 'height', 'inductance', 'IQ', 'jerk', 'length', 'lustre', 'mass', 'mean', 'median', 'melting point', 'mode', 'momentum', 'nationality', 'odor intensity', 'part of speech', 'pH', 'phase', 'power', 'pressure', 'race', 'radiance', 'resistivity', 'saltiness', 'savoriness', 'shape', 'size', 'soil texture', 'solubility', 'sourness', 'speed', 'strength', 'surface finish', 'sweetness', 'temperature', 'texture', 'thermal conductivity', 'timbre', 'variance', 'velocity', 'viscosity', 'voltage', 'volume', 'wavelength', 'weight', 'wettability', 'wind speed', 'wingspan', 'efficiency', 'internal energy', 'latent heat', 'strain', 'friction', 'radius', 'profit', 'revenue', 'income', 'surface area', 'circumference', 'refractive index', 'superpower', 'trait', 'angle', 'score', 'national language', 'intelligence', 'dimension', 'contrast ratio', 'opacity', 'kinetic energy', 'range', 'average', 'aqi', 'bra size', 'shoe size', 'accent', 'ethnic group', 'thermal energy', 'loudness', 'atmospheric pressure', 'intensity', 'buoyancy', 'currency', 'stress', 'smoke point', 'cloud point', 'characteristic', 'inductance', 'behavior', 'location', 'probability', 'author', 'edition', 'standard deviation', 'contact angle', 'potential energy', 'sexual orientation', 'bandwidth', 'miscibility', 'probability distribution', 'arithmetic mean', 'angular velocity', 'gender', 'accuracy', 'precision', 'blood type', 'proportionality', 'mean free path', 'breed', 'absolute pitch', 'hair color', 'pungency', 'role', 'diameter', 'first language', 'torque']\n",
    "\n",
    "not_feature_list = ['example', 'object', 'time', 'system', 'body', 'term', 'taste', 'case', 'number', 'point', 'substance', 'energy', 'surface', 'water', 'particle', 'change', 'law', 'equation', 'unit', 'motion', 'heat', 'concept', 'newton', 'liquid', 'study', 'result', 'human', 'gas', 'atom', 'effect', 'light', 'molecule', 'presence', 'electron', 'citation', 'people', 'food', 'definition', 'person', 'freedom', 'use', 'earth', 'sample', 'magnitude', 'degree', 'measure', 'part', 'function', 'population', 'matter', 'fact', 'solution', 'gravity', 'process', 'way', 'metal', 'fluid', 'rate', 'taste bud', 'tongue', 'method', 'theory', 'measurement', 'thermodynamics', 'center', 'respect', 'space', 'instance', 'order', 'cell', 'group', 'charge', 'basic taste', 'second law', 'ratio', 'product', 'individual', 'united states', 'odor', 'formula', 'set', 'resistance', 'distribution', 'magnetic field', 'square', 'source', 'sensation', 'concentration', 'property', 'others', 'si unit', 'brain', 'side', 'air', 'expression', 'phenomenon', 'component', 'electric field', 'sense', 'sum', 'receptor', 'variation', 'wave', 'second', 'position', 'solid','steam engine', \"boyle's law\", 'chemical reaction', 'circle', 'einstein', 'euclid', 'un', 'economics', 'finance', 'stock', 'management', 'observation', 'conductor', 'physics', 'helium', 'wave', 'optometrist', 'intertia', 'eye', 'place', 'mouth', 'aristotle', 'closed system', 'education', 'student', 'prediction', 'chili pepper', 'general relativity', 'supertaster', 'universe', 'infinity', 'china', 'life', 'research', 'polygon', 'language', 'speech', 'science', 'europe', 'vapor', 'acid', 'adult', 'collision', 'gustducin', 'joule', 'carburetor', 'radiator', 'solvent', 'culture', 'memory', 'calcium', 'umami', 'environment', 'sand', 'atmosphere', 'correlation', 'protein', 'crystal', 'genetics', 'cone', 'airplane', 'world', 'proton', 'galileo', 'information', 'experiment', 'idea', 'cardiovascular disease']\n",
    "\n",
    "\n",
    "url_list = url_list_features+url_list_not_features\n",
    "\n",
    "rawtxt = []\n",
    "\n",
    "for url in url_list:\n",
    "    source = requests.get(url).text\n",
    "    soup = BeautifulSoup(source,'lxml')\n",
    "    text_set = soup.find_all(['p'])\n",
    "    text_list = [p1.get_text() for p1 in text_set]\n",
    "    tags_list = [p1.name for p1 in text_set ]\n",
    "    rawtxt.append(''.join(text_list))\n",
    "    \n",
    "rawtxt = ' '.join(rawtxt)\n",
    "## This will skip headings ('h2','h3') and lists that are made as links( 'li'). For now, this is okay.\n",
    "print(\"length of material\")\n",
    "print(len(rawtxt))\n",
    "\n",
    "print(\"Sample of text\")\n",
    "print(rawtxt[0:500])"
   ]
  },
  {
   "cell_type": "code",
   "execution_count": 195,
   "metadata": {},
   "outputs": [
    {
     "data": {
      "text/plain": [
       "6304753"
      ]
     },
     "execution_count": 195,
     "metadata": {},
     "output_type": "execute_result"
    }
   ],
   "source": [
    "len(rawtxt)"
   ]
  },
  {
   "cell_type": "markdown",
   "metadata": {},
   "source": [
    "## Save rawtxt as is for later:"
   ]
  },
  {
   "cell_type": "code",
   "execution_count": 196,
   "metadata": {},
   "outputs": [],
   "source": [
    "filename = 'feature_3_wiki'\n",
    "path_name = \"C:/Users/Arati/Documents/personal docs/python_introduction_course/textdata/\"\n",
    "with open(path_name + filename+'.txt',\"a\",encoding=\"utf-8\") as myfile:\n",
    "    myfile.write(rawtxt)\n",
    "myfile.close()"
   ]
  }
 ],
 "metadata": {
  "kernelspec": {
   "display_name": "Python 3",
   "language": "python",
   "name": "python3"
  },
  "language_info": {
   "codemirror_mode": {
    "name": "ipython",
    "version": 3
   },
   "file_extension": ".py",
   "mimetype": "text/x-python",
   "name": "python",
   "nbconvert_exporter": "python",
   "pygments_lexer": "ipython3",
   "version": "3.7.1"
  }
 },
 "nbformat": 4,
 "nbformat_minor": 2
}
