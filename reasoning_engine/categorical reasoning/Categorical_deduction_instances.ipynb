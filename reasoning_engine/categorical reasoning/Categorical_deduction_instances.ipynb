{
 "cells": [
  {
   "cell_type": "markdown",
   "metadata": {},
   "source": [
    "# Categorical deduction (addition)\n",
    "\n",
    "1. Take two statements (specific like disjoint/overlap or non specific like some A are B etc., convert to syllogism friendly.\n",
    "2. Make all possible inferences\n",
    "3. take another statement, check if true\n",
    "4. take multiple statements, convert to chain"
   ]
  },
  {
   "cell_type": "code",
   "execution_count": 5,
   "metadata": {},
   "outputs": [],
   "source": [
    "# Syllogism specific statements \n",
    "# First statement A __ B. \n",
    "# Second statement B __ C.\n",
    "# Third statement A ___ C -> look up tables to check if true, possible, or false.\n",
    "\n",
    "specific_statement_options = {'disjoint from','overlaps with','subset of','superset of','identical to','element of','not element of','containing','not containing'}\n",
    "# make a dictionary. key is a tuple with first statement type, second statement type and third statement type and value is True, Possible, False\n",
    "Truth_Table = dict()\n",
    "Truth_Table[( 'subset of', 'subset of', 'subset of')] = 'True'\n",
    "Truth_Table[( 'identical to', 'subset of', 'subset of')] = 'True'\n",
    "Truth_Table[( 'overlaps with', 'subset of', 'subset of')] = 'Possible'\n",
    "Truth_Table[( 'disjoint from', 'subset of', 'subset of')] = 'Possible'\n",
    "Truth_Table[( 'superset of', 'subset of', 'subset of')] = 'Possible'\n",
    "Truth_Table[( 'subset of', 'identical to', 'subset of')] = 'True'\n",
    "Truth_Table[( 'identical to', 'identical to', 'subset of')] = 'False'\n",
    "Truth_Table[( 'overlaps with', 'identical to', 'subset of')] = 'False'\n",
    "Truth_Table[( 'disjoint from', 'identical to', 'subset of')] = 'False'\n",
    "Truth_Table[( 'superset of', 'identical to', 'subset of')] = 'False'\n",
    "Truth_Table[( 'subset of', 'overlaps with', 'subset of')] = 'Possible'\n",
    "Truth_Table[( 'identical to', 'overlaps with', 'subset of')] = 'False'\n",
    "Truth_Table[( 'overlaps with', 'overlaps with', 'subset of')] = 'Possible'\n",
    "Truth_Table[( 'disjoint from', 'overlaps with', 'subset of')] = 'Possible'\n",
    "Truth_Table[( 'superset of', 'overlaps with', 'subset of')] = 'False'\n",
    "Truth_Table[( 'subset of', 'disjoint from', 'subset of')] = 'False'\n",
    "Truth_Table[( 'identical to', 'disjoint from', 'subset of')] = 'False'\n",
    "Truth_Table[( 'overlaps with', 'disjoint from', 'subset of')] = 'False'\n",
    "Truth_Table[( 'disjoint from', 'disjoint from', 'subset of')] = 'Possible'\n",
    "Truth_Table[( 'superset of', 'disjoint from', 'subset of')] = 'False'\n",
    "Truth_Table[( 'subset of', 'superset of', 'subset of')] = 'Possible'\n",
    "Truth_Table[( 'identical to', 'superset of', 'subset of')] = 'False'\n",
    "Truth_Table[( 'overlaps with', 'superset of', 'subset of')] = 'False'\n",
    "Truth_Table[( 'disjoint from', 'superset of', 'subset of')] = 'False'\n",
    "Truth_Table[( 'superset of', 'superset of', 'subset of')] = 'False'\n",
    "Truth_Table[( 'subset of', 'subset of', 'identical to')] = 'False'\n",
    "Truth_Table[( 'identical to', 'subset of', 'identical to')] = 'False'\n",
    "Truth_Table[( 'overlaps with', 'subset of', 'identical to')] = 'False'\n",
    "Truth_Table[( 'disjoint from', 'subset of', 'identical to')] = 'False'\n",
    "Truth_Table[( 'superset of', 'subset of', 'identical to')] = 'Possible'\n",
    "Truth_Table[( 'subset of', 'identical to', 'identical to')] = 'False'\n",
    "Truth_Table[( 'identical to', 'identical to', 'identical to')] = 'True'\n",
    "Truth_Table[( 'overlaps with', 'identical to', 'identical to')] = 'False'\n",
    "Truth_Table[( 'disjoint from', 'identical to', 'identical to')] = 'False'\n",
    "Truth_Table[( 'superset of', 'identical to', 'identical to')] = 'False'\n",
    "Truth_Table[( 'subset of', 'overlaps with', 'identical to')] = 'False'\n",
    "Truth_Table[( 'identical to', 'overlaps with', 'identical to')] = 'False'\n",
    "Truth_Table[( 'overlaps with', 'overlaps with', 'identical to')] = 'Possible'\n",
    "Truth_Table[( 'disjoint from', 'overlaps with', 'identical to')] = 'False'\n",
    "Truth_Table[( 'superset of', 'overlaps with', 'identical to')] = 'False'\n",
    "Truth_Table[( 'subset of', 'disjoint from', 'identical to')] = 'False'\n",
    "Truth_Table[( 'identical to', 'disjoint from', 'identical to')] = 'False'\n",
    "Truth_Table[( 'overlaps with', 'disjoint from', 'identical to')] = 'False'\n",
    "Truth_Table[( 'disjoint from', 'disjoint from', 'identical to')] = 'Possible'\n",
    "Truth_Table[( 'superset of', 'disjoint from', 'identical to')] = 'False'\n",
    "Truth_Table[( 'subset of', 'superset of', 'identical to')] = 'Possible'\n",
    "Truth_Table[( 'identical to', 'superset of', 'identical to')] = 'False'\n",
    "Truth_Table[( 'overlaps with', 'superset of', 'identical to')] = 'False'\n",
    "Truth_Table[( 'disjoint from', 'superset of', 'identical to')] = 'False'\n",
    "Truth_Table[( 'superset of', 'superset of', 'identical to')] = 'False'\n",
    "Truth_Table[( 'subset of', 'subset of', 'overlaps with')] = 'False'\n",
    "Truth_Table[( 'identical to', 'subset of', 'overlaps with')] = 'False'\n",
    "Truth_Table[( 'overlaps with', 'subset of', 'overlaps with')] = 'Possible'\n",
    "Truth_Table[( 'disjoint from', 'subset of', 'overlaps with')] = 'Possible'\n",
    "Truth_Table[( 'superset of', 'subset of', 'overlaps with')] = 'Possible'\n",
    "Truth_Table[( 'subset of', 'identical to', 'overlaps with')] = 'False'\n",
    "Truth_Table[( 'identical to', 'identical to', 'overlaps with')] = 'False'\n",
    "Truth_Table[( 'overlaps with', 'identical to', 'overlaps with')] = 'True'\n",
    "Truth_Table[( 'disjoint from', 'identical to', 'overlaps with')] = 'False'\n",
    "Truth_Table[( 'superset of', 'identical to', 'overlaps with')] = 'False'\n",
    "Truth_Table[( 'subset of', 'overlaps with', 'overlaps with')] = 'Possible'\n",
    "Truth_Table[( 'identical to', 'overlaps with', 'overlaps with')] = 'True'\n",
    "Truth_Table[( 'overlaps with', 'overlaps with', 'overlaps with')] = 'Possible'\n",
    "Truth_Table[( 'disjoint from', 'overlaps with', 'overlaps with')] = 'Possible'\n",
    "Truth_Table[( 'superset of', 'overlaps with', 'overlaps with')] = 'Possible'\n",
    "Truth_Table[( 'subset of', 'disjoint from', 'overlaps with')] = 'False'\n",
    "Truth_Table[( 'identical to', 'disjoint from', 'overlaps with')] = 'False'\n",
    "Truth_Table[( 'overlaps with', 'disjoint from', 'overlaps with')] = 'Possible'\n",
    "Truth_Table[( 'disjoint from', 'disjoint from', 'overlaps with')] = 'Possible'\n",
    "Truth_Table[( 'superset of', 'disjoint from', 'overlaps with')] = 'Possible'\n",
    "Truth_Table[( 'subset of', 'superset of', 'overlaps with')] = 'Possible'\n",
    "Truth_Table[( 'identical to', 'superset of', 'overlaps with')] = 'False'\n",
    "Truth_Table[( 'overlaps with', 'superset of', 'overlaps with')] = 'Possible'\n",
    "Truth_Table[( 'disjoint from', 'superset of', 'overlaps with')] = 'False'\n",
    "Truth_Table[( 'superset of', 'superset of', 'overlaps with')] = 'False'\n",
    "Truth_Table[( 'subset of', 'subset of', 'disjoint from')] = 'False'\n",
    "Truth_Table[( 'identical to', 'subset of', 'disjoint from')] = 'False'\n",
    "Truth_Table[( 'overlaps with', 'subset of', 'disjoint from')] = 'False'\n",
    "Truth_Table[( 'disjoint from', 'subset of', 'disjoint from')] = 'Possible'\n",
    "Truth_Table[( 'superset of', 'subset of', 'disjoint from')] = 'False'\n",
    "Truth_Table[( 'subset of', 'identical to', 'disjoint from')] = 'False'\n",
    "Truth_Table[( 'identical to', 'identical to', 'disjoint from')] = 'False'\n",
    "Truth_Table[( 'overlaps with', 'identical to', 'disjoint from')] = 'False'\n",
    "Truth_Table[( 'disjoint from', 'identical to', 'disjoint from')] = 'True'\n",
    "Truth_Table[( 'superset of', 'identical to', 'disjoint from')] = 'False'\n",
    "Truth_Table[( 'subset of', 'overlaps with', 'disjoint from')] = 'Possible'\n",
    "Truth_Table[( 'identical to', 'overlaps with', 'disjoint from')] = 'False'\n",
    "Truth_Table[( 'overlaps with', 'overlaps with', 'disjoint from')] = 'Possible'\n",
    "Truth_Table[( 'disjoint from', 'overlaps with', 'disjoint from')] = 'Possible'\n",
    "Truth_Table[( 'superset of', 'overlaps with', 'disjoint from')] = 'False'\n",
    "Truth_Table[( 'subset of', 'disjoint from', 'disjoint from')] = 'True'\n",
    "Truth_Table[( 'identical to', 'disjoint from', 'disjoint from')] = 'True'\n",
    "Truth_Table[( 'overlaps with', 'disjoint from', 'disjoint from')] = 'Possible'\n",
    "Truth_Table[( 'disjoint from', 'disjoint from', 'disjoint from')] = 'Possible'\n",
    "Truth_Table[( 'superset of', 'disjoint from', 'disjoint from')] = 'Possible'\n",
    "Truth_Table[( 'subset of', 'superset of', 'disjoint from')] = 'Possible'\n",
    "Truth_Table[( 'identical to', 'superset of', 'disjoint from')] = 'False'\n",
    "Truth_Table[( 'overlaps with', 'superset of', 'disjoint from')] = 'Possible'\n",
    "Truth_Table[( 'disjoint from', 'superset of', 'disjoint from')] = 'True'\n",
    "Truth_Table[( 'superset of', 'superset of', 'disjoint from')] = 'False'\n",
    "Truth_Table[( 'subset of', 'subset of', 'superset of')] = 'False'\n",
    "Truth_Table[( 'identical to', 'subset of', 'superset of')] = 'False'\n",
    "Truth_Table[( 'overlaps with', 'subset of', 'superset of')] = 'Possible'\n",
    "Truth_Table[( 'disjoint from', 'subset of', 'superset of')] = 'False'\n",
    "Truth_Table[( 'superset of', 'subset of', 'superset of')] = 'Possible'\n",
    "Truth_Table[( 'subset of', 'identical to', 'superset of')] = 'False'\n",
    "Truth_Table[( 'identical to', 'identical to', 'superset of')] = 'False'\n",
    "Truth_Table[( 'overlaps with', 'identical to', 'superset of')] = 'False'\n",
    "Truth_Table[( 'disjoint from', 'identical to', 'superset of')] = 'False'\n",
    "Truth_Table[( 'superset of', 'identical to', 'superset of')] = 'True'\n",
    "Truth_Table[( 'subset of', 'overlaps with', 'superset of')] = 'False'\n",
    "Truth_Table[( 'identical to', 'overlaps with', 'superset of')] = 'False'\n",
    "Truth_Table[( 'overlaps with', 'overlaps with', 'superset of')] = 'Possible'\n",
    "Truth_Table[( 'disjoint from', 'overlaps with', 'superset of')] = 'False'\n",
    "Truth_Table[( 'superset of', 'overlaps with', 'superset of')] = 'Possible'\n",
    "Truth_Table[( 'subset of', 'disjoint from', 'superset of')] = 'False'\n",
    "Truth_Table[( 'identical to', 'disjoint from', 'superset of')] = 'False'\n",
    "Truth_Table[( 'overlaps with', 'disjoint from', 'superset of')] = 'Possible'\n",
    "Truth_Table[( 'disjoint from', 'disjoint from', 'superset of')] = 'Possible'\n",
    "Truth_Table[( 'superset of', 'disjoint from', 'superset of')] = 'Possible'\n",
    "Truth_Table[( 'subset of', 'superset of', 'superset of')] = 'Possible'\n",
    "Truth_Table[( 'identical to', 'superset of', 'superset of')] = 'True'\n",
    "Truth_Table[( 'overlaps with', 'superset of', 'superset of')] = 'Possible'\n",
    "Truth_Table[( 'disjoint from', 'superset of', 'superset of')] = 'False'\n",
    "Truth_Table[( 'superset of', 'superset of', 'superset of')] = 'True'\n",
    "\n",
    "# instances\n",
    "Truth_Table[('element of', 'subset of', 'element of')]='True'\n",
    "Truth_Table[('element of', 'subset of', 'not element of')]='False'\n",
    "Truth_Table[('not element of', 'subset of', 'element of')]='Possible'\n",
    "Truth_Table[('not element of', 'subset of', 'not element of')]='Possible'\n",
    "Truth_Table[('element of', 'identical to', 'element of')]='True'\n",
    "Truth_Table[('element of', 'identical to', 'not element of')]='False'\n",
    "Truth_Table[('not element of', 'identical to', 'element of')]='False'\n",
    "Truth_Table[('not element of', 'identical to', 'not element of')]='True'\n",
    "Truth_Table[('element of', 'overlaps with', 'element of')]='Possible'\n",
    "Truth_Table[('element of', 'overlaps with', 'not element of')]='Possible'\n",
    "Truth_Table[('not element of', 'overlaps with', 'element of')]='Possible'\n",
    "Truth_Table[('not element of', 'overlaps with', 'not element of')]='Possible'\n",
    "Truth_Table[('element of', 'disjoint from', 'element of')]='False'\n",
    "Truth_Table[('element of', 'disjoint from', 'not element of')]='True'\n",
    "Truth_Table[('not element of', 'disjoint from', 'element of')]='Possible'\n",
    "Truth_Table[('not element of', 'disjoint from', 'not element of')]='Possible'\n",
    "Truth_Table[('element of', 'superset of', 'element of')]='Possible'\n",
    "Truth_Table[('element of', 'superset of', 'not element of')]='Possible'\n",
    "Truth_Table[('not element of', 'superset of', 'element of')]='False'\n",
    "Truth_Table[('not element of', 'superset of', 'not element of')]='True'\n"
   ]
  },
  {
   "cell_type": "code",
   "execution_count": 12,
   "metadata": {},
   "outputs": [
    {
     "name": "stdout",
     "output_type": "stream",
     "text": [
      "False\n"
     ]
    }
   ],
   "source": [
    "major_premise = 'element of'\n",
    "minor_premise = 'subset of'\n",
    "conclusion = 'not element of'\n",
    "truth_value = Truth_Table[(major_premise,minor_premise,conclusion)]\n",
    "print(truth_value)\n",
    "\n",
    "def truth_value_additive(major_premise,minor_premise,conclusion):\n",
    "    return Truth_Table[(major_premise,minor_premise,conclusion)]\n",
    "\n",
    "def all_true_specific(major_premise,minor_premise):\n",
    "    return [x for x in specific_statement_options if Truth_Table.get((major_premise,minor_premise,x),'')=='True']\n",
    "\n",
    "def all_possible_specific(major_premise,minor_premise):\n",
    "    return [x for x in specific_statement_options if Truth_Table.get((major_premise,minor_premise,x),'')=='Possible']\n",
    "\n",
    "def all_false_specific(major_premise,minor_premise):\n",
    "    return [x for x in specific_statement_options if Truth_Table.get((major_premise,minor_premise,x),'')=='False']\n"
   ]
  },
  {
   "cell_type": "code",
   "execution_count": 13,
   "metadata": {},
   "outputs": [
    {
     "data": {
      "text/plain": [
       "'True'"
      ]
     },
     "execution_count": 13,
     "metadata": {},
     "output_type": "execute_result"
    }
   ],
   "source": [
    "truth_value_additive('element of','subset of','element of')"
   ]
  },
  {
   "cell_type": "code",
   "execution_count": 15,
   "metadata": {},
   "outputs": [
    {
     "data": {
      "text/plain": [
       "['not element of']"
      ]
     },
     "execution_count": 15,
     "metadata": {},
     "output_type": "execute_result"
    }
   ],
   "source": [
    "all_possible_specific('element of','subset of')"
   ]
  },
  {
   "cell_type": "code",
   "execution_count": 16,
   "metadata": {},
   "outputs": [],
   "source": [
    "reverse_implications = dict()\n",
    "reverse_implications['subset of']='superset of'\n",
    "reverse_implications['identical to']='identical to'\n",
    "reverse_implications['overlaps with']='overlaps with'\n",
    "reverse_implications['disjoint from']='disjoint from'\n",
    "reverse_implications['superset of']='subset of'\n",
    "\n",
    "# instances\n",
    "reverse_implications['element of'] = 'containing'\n",
    "reverse_implications['not element of'] = 'not containing'\n",
    "reverse_implications['containing'] = 'element of'\n",
    "reverse_implications['not containing'] = 'not element of'"
   ]
  },
  {
   "cell_type": "code",
   "execution_count": 17,
   "metadata": {},
   "outputs": [],
   "source": [
    "generic_statement_options = {'All','Some','No','Some_not'} # universal affirmative, particular affirmative, universal negative, particular negative\n",
    "generic_to_specific = dict()\n",
    "generic_to_specific['All'] = {'subset of','identical to'}  \n",
    "generic_to_specific['No'] = {'disjoint from'}\n",
    "generic_to_specific['Some'] = {'overlaps with','subset of','identical to','superset of'} # generic_to_specific['All'].union({'superset of','overlaps with'})\n",
    "generic_to_specific['Some_not'] = {'overlaps with','disjoint from','superset of'} # generic_to_specific['No'].union({'superset of','overlaps with'})\n",
    "generic_to_specific['containing'] = {'containing'}\n",
    "generic_to_specific['not containing'] = {'not containing'}\n",
    "generic_to_specific['element of'] = {'element of'}\n",
    "generic_to_specific['not element of'] = {'not element of'}"
   ]
  },
  {
   "cell_type": "code",
   "execution_count": 18,
   "metadata": {},
   "outputs": [
    {
     "name": "stdout",
     "output_type": "stream",
     "text": [
      "[('identical to', 'disjoint from', 'disjoint from'), ('subset of', 'disjoint from', 'disjoint from')] ['True', 'True']\n"
     ]
    }
   ],
   "source": [
    "# generic premises and conclusion: tautology, fallacy, or possible if\n",
    "# take in generic premises, make powersets of major and minor premise possibilities,\n",
    "# get the truth value for each, and get the joint conclusion: \n",
    "# always true (tautology), sometimes true or possible, and always false\n",
    "import itertools\n",
    "\n",
    "generic_major_premise = 'All'\n",
    "generic_minor_premise = 'No'\n",
    "generic_conclusion = 'No'\n",
    "\n",
    "possibilities = list(itertools.product(generic_to_specific[generic_major_premise],generic_to_specific[generic_minor_premise],generic_to_specific[generic_conclusion]))\n",
    "\n",
    "truth_value_list = []\n",
    "for p in possibilities:\n",
    "    truth_value_list.append(truth_value_additive(p[0],p[1],p[2]))\n",
    "print(possibilities,truth_value_list)"
   ]
  },
  {
   "cell_type": "code",
   "execution_count": 19,
   "metadata": {},
   "outputs": [],
   "source": [
    "def generic_truth_value_additive(generic_major_premise,generic_minor_premise,generic_conclusion):\n",
    "    possibilities = list(itertools.product(generic_to_specific[generic_major_premise],generic_to_specific[generic_minor_premise],generic_to_specific[generic_conclusion]))\n",
    "    truth_value_list = []\n",
    "    for p in possibilities:\n",
    "        truth_value_list.append(truth_value_additive(p[0],p[1],p[2]))\n",
    "    print(possibilities,truth_value_list)\n",
    "    if ('True' in truth_value_list) and ('False' not in truth_value_list) and ('Possible' not in truth_value_list):\n",
    "        return 'True'\n",
    "    elif ('False' in truth_value_list) and ('True' in truth_value_list):\n",
    "        return 'Possible'\n",
    "    elif ('Possible' in truth_value_list):\n",
    "        return 'Possible'\n",
    "    elif ('False' in truth_value_list) and ('Possible' not in truth_value_list) and ('True' not in truth_value_list):\n",
    "        return 'False'\n",
    "    else:\n",
    "        return 'Not valid truth values'\n",
    "    \n",
    "\n",
    "    "
   ]
  },
  {
   "cell_type": "code",
   "execution_count": 20,
   "metadata": {},
   "outputs": [
    {
     "name": "stdout",
     "output_type": "stream",
     "text": [
      "[('superset of', 'disjoint from', 'disjoint from'), ('identical to', 'disjoint from', 'disjoint from'), ('subset of', 'disjoint from', 'disjoint from'), ('overlaps with', 'disjoint from', 'disjoint from')] ['Possible', 'True', 'True', 'Possible']\n"
     ]
    },
    {
     "data": {
      "text/plain": [
       "'Possible'"
      ]
     },
     "execution_count": 20,
     "metadata": {},
     "output_type": "execute_result"
    }
   ],
   "source": [
    "generic_truth_value_additive('Some','No','No')"
   ]
  },
  {
   "cell_type": "code",
   "execution_count": 24,
   "metadata": {},
   "outputs": [],
   "source": [
    "# reverse implications, additive only (A,B) - (B,C) - (A,C)\n",
    "# define sets\n",
    "order = ['A','B','C']\n",
    "\n",
    "first_statement = ['B','subset of','A']\n",
    "second_statement = ['C','overlaps with','B']\n",
    "third_statement = ['C','disjoint from','A']\n",
    "\n",
    "additive_set_order_check = dict()\n",
    "additive_set_order_check['first'] = (0,1)\n",
    "additive_set_order_check['second'] = (1,2)\n",
    "additive_set_order_check['third'] = (0,2)\n",
    "# check if a statement needs to be reversed\n",
    "def check_reverse_specific(statement,stype,order):\n",
    "        if (statement[0]==sets[additive_set_order_check[stype][0]]) and (statement[2]==order[additive_set_order_check[stype][1]]):\n",
    "            print('straight')\n",
    "            return statement\n",
    "        else:\n",
    "            print('reverse')\n",
    "            return [statement[2],reverse_implications[statement[1]],statement[0]]\n",
    "            \n",
    "# Ideally, should auto calculate order or sets. or alternatively, calculate the reverse of each statement as an inference.\n",
    "\n",
    "\n"
   ]
  },
  {
   "cell_type": "code",
   "execution_count": 25,
   "metadata": {},
   "outputs": [
    {
     "name": "stdout",
     "output_type": "stream",
     "text": [
      "reverse\n"
     ]
    },
    {
     "data": {
      "text/plain": [
       "['x', 'element of', 'A']"
      ]
     },
     "execution_count": 25,
     "metadata": {},
     "output_type": "execute_result"
    }
   ],
   "source": [
    "check_reverse_specific(['A','containing','x'],'first',['x','A','B'])"
   ]
  },
  {
   "cell_type": "code",
   "execution_count": null,
   "metadata": {},
   "outputs": [],
   "source": [
    "# collectively exhaustive statement is special: group of subsets, and a superset.\n",
    "# means that union of subsets = identical to superset\n",
    "statement= [{'A','B','C','D'},'collectively exhaustive','Universe']\n",
    "# this implies that: A is subset of Universe, etc... and if x is element of Universe, and not an element of any of three subsets, it automatically belongs to the remaining subset.\n",
    "\n",
    "# we need to add validation for each statement where we check is sets, instances, and groups of sets are in the correct places.\n",
    "\n"
   ]
  }
 ],
 "metadata": {
  "kernelspec": {
   "display_name": "Python 3",
   "language": "python",
   "name": "python3"
  },
  "language_info": {
   "codemirror_mode": {
    "name": "ipython",
    "version": 3
   },
   "file_extension": ".py",
   "mimetype": "text/x-python",
   "name": "python",
   "nbconvert_exporter": "python",
   "pygments_lexer": "ipython3",
   "version": "3.7.1"
  }
 },
 "nbformat": 4,
 "nbformat_minor": 2
}
