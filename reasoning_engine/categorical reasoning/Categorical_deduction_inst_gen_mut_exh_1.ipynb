{
 "cells": [
  {
   "cell_type": "markdown",
   "metadata": {},
   "source": [
    "# Categorical deduction (generic + instances, all inferences, mutually exclusive + collectively exhaustive)\n",
    "0. universal statement format (relationship, from, to, probability) tuples, dictionary for source/citation and which statement inferred from. \n",
    "1. Take one statement at a time, including mutually exclusive and collectively exhaustive (all sets disjoint from each other). build statement queue. \n",
    "2. Create powerset of combinations of specific statements (should come to reduced set of specific statements based on originals)\n",
    "3. create a inference graph for each combination of specific statements.\n",
    "4. Make all possible inferences for each graph (chain)\n",
    "5. present the union of possible conclusions for each node"
   ]
  },
  {
   "cell_type": "code",
   "execution_count": 1,
   "metadata": {},
   "outputs": [],
   "source": [
    "# Syllogism specific statements \n",
    "# First statement A __ B. \n",
    "# Second statement B __ C.\n",
    "# Third statement A ___ C -> look up tables to check if true, possible, or false.\n",
    "\n",
    "specific_statement_options = {'disjoint from','overlaps with','subset of','superset of','identical to'}\n",
    "\n",
    "# make a dictionary. key is a tuple with first statement type, second statement type and third statement type and value is True, Possible, False\n",
    "Truth_Table = dict()\n",
    "Truth_Table[( 'subset of', 'subset of', 'subset of')] = 'True'\n",
    "Truth_Table[( 'identical to', 'subset of', 'subset of')] = 'True'\n",
    "Truth_Table[( 'overlaps with', 'subset of', 'subset of')] = 'Possible'\n",
    "Truth_Table[( 'disjoint from', 'subset of', 'subset of')] = 'Possible'\n",
    "Truth_Table[( 'superset of', 'subset of', 'subset of')] = 'Possible'\n",
    "Truth_Table[( 'subset of', 'identical to', 'subset of')] = 'True'\n",
    "Truth_Table[( 'identical to', 'identical to', 'subset of')] = 'False'\n",
    "Truth_Table[( 'overlaps with', 'identical to', 'subset of')] = 'False'\n",
    "Truth_Table[( 'disjoint from', 'identical to', 'subset of')] = 'False'\n",
    "Truth_Table[( 'superset of', 'identical to', 'subset of')] = 'False'\n",
    "Truth_Table[( 'subset of', 'overlaps with', 'subset of')] = 'Possible'\n",
    "Truth_Table[( 'identical to', 'overlaps with', 'subset of')] = 'False'\n",
    "Truth_Table[( 'overlaps with', 'overlaps with', 'subset of')] = 'Possible'\n",
    "Truth_Table[( 'disjoint from', 'overlaps with', 'subset of')] = 'Possible'\n",
    "Truth_Table[( 'superset of', 'overlaps with', 'subset of')] = 'False'\n",
    "Truth_Table[( 'subset of', 'disjoint from', 'subset of')] = 'False'\n",
    "Truth_Table[( 'identical to', 'disjoint from', 'subset of')] = 'False'\n",
    "Truth_Table[( 'overlaps with', 'disjoint from', 'subset of')] = 'False'\n",
    "Truth_Table[( 'disjoint from', 'disjoint from', 'subset of')] = 'Possible'\n",
    "Truth_Table[( 'superset of', 'disjoint from', 'subset of')] = 'False'\n",
    "Truth_Table[( 'subset of', 'superset of', 'subset of')] = 'Possible'\n",
    "Truth_Table[( 'identical to', 'superset of', 'subset of')] = 'False'\n",
    "Truth_Table[( 'overlaps with', 'superset of', 'subset of')] = 'False'\n",
    "Truth_Table[( 'disjoint from', 'superset of', 'subset of')] = 'False'\n",
    "Truth_Table[( 'superset of', 'superset of', 'subset of')] = 'False'\n",
    "Truth_Table[( 'subset of', 'subset of', 'identical to')] = 'False'\n",
    "Truth_Table[( 'identical to', 'subset of', 'identical to')] = 'False'\n",
    "Truth_Table[( 'overlaps with', 'subset of', 'identical to')] = 'False'\n",
    "Truth_Table[( 'disjoint from', 'subset of', 'identical to')] = 'False'\n",
    "Truth_Table[( 'superset of', 'subset of', 'identical to')] = 'Possible'\n",
    "Truth_Table[( 'subset of', 'identical to', 'identical to')] = 'False'\n",
    "Truth_Table[( 'identical to', 'identical to', 'identical to')] = 'True'\n",
    "Truth_Table[( 'overlaps with', 'identical to', 'identical to')] = 'False'\n",
    "Truth_Table[( 'disjoint from', 'identical to', 'identical to')] = 'False'\n",
    "Truth_Table[( 'superset of', 'identical to', 'identical to')] = 'False'\n",
    "Truth_Table[( 'subset of', 'overlaps with', 'identical to')] = 'False'\n",
    "Truth_Table[( 'identical to', 'overlaps with', 'identical to')] = 'False'\n",
    "Truth_Table[( 'overlaps with', 'overlaps with', 'identical to')] = 'Possible'\n",
    "Truth_Table[( 'disjoint from', 'overlaps with', 'identical to')] = 'False'\n",
    "Truth_Table[( 'superset of', 'overlaps with', 'identical to')] = 'False'\n",
    "Truth_Table[( 'subset of', 'disjoint from', 'identical to')] = 'False'\n",
    "Truth_Table[( 'identical to', 'disjoint from', 'identical to')] = 'False'\n",
    "Truth_Table[( 'overlaps with', 'disjoint from', 'identical to')] = 'False'\n",
    "Truth_Table[( 'disjoint from', 'disjoint from', 'identical to')] = 'Possible'\n",
    "Truth_Table[( 'superset of', 'disjoint from', 'identical to')] = 'False'\n",
    "Truth_Table[( 'subset of', 'superset of', 'identical to')] = 'Possible'\n",
    "Truth_Table[( 'identical to', 'superset of', 'identical to')] = 'False'\n",
    "Truth_Table[( 'overlaps with', 'superset of', 'identical to')] = 'False'\n",
    "Truth_Table[( 'disjoint from', 'superset of', 'identical to')] = 'False'\n",
    "Truth_Table[( 'superset of', 'superset of', 'identical to')] = 'False'\n",
    "Truth_Table[( 'subset of', 'subset of', 'overlaps with')] = 'False'\n",
    "Truth_Table[( 'identical to', 'subset of', 'overlaps with')] = 'False'\n",
    "Truth_Table[( 'overlaps with', 'subset of', 'overlaps with')] = 'Possible'\n",
    "Truth_Table[( 'disjoint from', 'subset of', 'overlaps with')] = 'Possible'\n",
    "Truth_Table[( 'superset of', 'subset of', 'overlaps with')] = 'Possible'\n",
    "Truth_Table[( 'subset of', 'identical to', 'overlaps with')] = 'False'\n",
    "Truth_Table[( 'identical to', 'identical to', 'overlaps with')] = 'False'\n",
    "Truth_Table[( 'overlaps with', 'identical to', 'overlaps with')] = 'True'\n",
    "Truth_Table[( 'disjoint from', 'identical to', 'overlaps with')] = 'False'\n",
    "Truth_Table[( 'superset of', 'identical to', 'overlaps with')] = 'False'\n",
    "Truth_Table[( 'subset of', 'overlaps with', 'overlaps with')] = 'Possible'\n",
    "Truth_Table[( 'identical to', 'overlaps with', 'overlaps with')] = 'True'\n",
    "Truth_Table[( 'overlaps with', 'overlaps with', 'overlaps with')] = 'Possible'\n",
    "Truth_Table[( 'disjoint from', 'overlaps with', 'overlaps with')] = 'Possible'\n",
    "Truth_Table[( 'superset of', 'overlaps with', 'overlaps with')] = 'Possible'\n",
    "Truth_Table[( 'subset of', 'disjoint from', 'overlaps with')] = 'False'\n",
    "Truth_Table[( 'identical to', 'disjoint from', 'overlaps with')] = 'False'\n",
    "Truth_Table[( 'overlaps with', 'disjoint from', 'overlaps with')] = 'Possible'\n",
    "Truth_Table[( 'disjoint from', 'disjoint from', 'overlaps with')] = 'Possible'\n",
    "Truth_Table[( 'superset of', 'disjoint from', 'overlaps with')] = 'Possible'\n",
    "Truth_Table[( 'subset of', 'superset of', 'overlaps with')] = 'Possible'\n",
    "Truth_Table[( 'identical to', 'superset of', 'overlaps with')] = 'False'\n",
    "Truth_Table[( 'overlaps with', 'superset of', 'overlaps with')] = 'Possible'\n",
    "Truth_Table[( 'disjoint from', 'superset of', 'overlaps with')] = 'False'\n",
    "Truth_Table[( 'superset of', 'superset of', 'overlaps with')] = 'False'\n",
    "Truth_Table[( 'subset of', 'subset of', 'disjoint from')] = 'False'\n",
    "Truth_Table[( 'identical to', 'subset of', 'disjoint from')] = 'False'\n",
    "Truth_Table[( 'overlaps with', 'subset of', 'disjoint from')] = 'False'\n",
    "Truth_Table[( 'disjoint from', 'subset of', 'disjoint from')] = 'Possible'\n",
    "Truth_Table[( 'superset of', 'subset of', 'disjoint from')] = 'False'\n",
    "Truth_Table[( 'subset of', 'identical to', 'disjoint from')] = 'False'\n",
    "Truth_Table[( 'identical to', 'identical to', 'disjoint from')] = 'False'\n",
    "Truth_Table[( 'overlaps with', 'identical to', 'disjoint from')] = 'False'\n",
    "Truth_Table[( 'disjoint from', 'identical to', 'disjoint from')] = 'True'\n",
    "Truth_Table[( 'superset of', 'identical to', 'disjoint from')] = 'False'\n",
    "Truth_Table[( 'subset of', 'overlaps with', 'disjoint from')] = 'Possible'\n",
    "Truth_Table[( 'identical to', 'overlaps with', 'disjoint from')] = 'False'\n",
    "Truth_Table[( 'overlaps with', 'overlaps with', 'disjoint from')] = 'Possible'\n",
    "Truth_Table[( 'disjoint from', 'overlaps with', 'disjoint from')] = 'Possible'\n",
    "Truth_Table[( 'superset of', 'overlaps with', 'disjoint from')] = 'False'\n",
    "Truth_Table[( 'subset of', 'disjoint from', 'disjoint from')] = 'True'\n",
    "Truth_Table[( 'identical to', 'disjoint from', 'disjoint from')] = 'True'\n",
    "Truth_Table[( 'overlaps with', 'disjoint from', 'disjoint from')] = 'Possible'\n",
    "Truth_Table[( 'disjoint from', 'disjoint from', 'disjoint from')] = 'Possible'\n",
    "Truth_Table[( 'superset of', 'disjoint from', 'disjoint from')] = 'Possible'\n",
    "Truth_Table[( 'subset of', 'superset of', 'disjoint from')] = 'Possible'\n",
    "Truth_Table[( 'identical to', 'superset of', 'disjoint from')] = 'False'\n",
    "Truth_Table[( 'overlaps with', 'superset of', 'disjoint from')] = 'Possible'\n",
    "Truth_Table[( 'disjoint from', 'superset of', 'disjoint from')] = 'True'\n",
    "Truth_Table[( 'superset of', 'superset of', 'disjoint from')] = 'False'\n",
    "Truth_Table[( 'subset of', 'subset of', 'superset of')] = 'False'\n",
    "Truth_Table[( 'identical to', 'subset of', 'superset of')] = 'False'\n",
    "Truth_Table[( 'overlaps with', 'subset of', 'superset of')] = 'Possible'\n",
    "Truth_Table[( 'disjoint from', 'subset of', 'superset of')] = 'False'\n",
    "Truth_Table[( 'superset of', 'subset of', 'superset of')] = 'Possible'\n",
    "Truth_Table[( 'subset of', 'identical to', 'superset of')] = 'False'\n",
    "Truth_Table[( 'identical to', 'identical to', 'superset of')] = 'False'\n",
    "Truth_Table[( 'overlaps with', 'identical to', 'superset of')] = 'False'\n",
    "Truth_Table[( 'disjoint from', 'identical to', 'superset of')] = 'False'\n",
    "Truth_Table[( 'superset of', 'identical to', 'superset of')] = 'True'\n",
    "Truth_Table[( 'subset of', 'overlaps with', 'superset of')] = 'False'\n",
    "Truth_Table[( 'identical to', 'overlaps with', 'superset of')] = 'False'\n",
    "Truth_Table[( 'overlaps with', 'overlaps with', 'superset of')] = 'Possible'\n",
    "Truth_Table[( 'disjoint from', 'overlaps with', 'superset of')] = 'False'\n",
    "Truth_Table[( 'superset of', 'overlaps with', 'superset of')] = 'Possible'\n",
    "Truth_Table[( 'subset of', 'disjoint from', 'superset of')] = 'False'\n",
    "Truth_Table[( 'identical to', 'disjoint from', 'superset of')] = 'False'\n",
    "Truth_Table[( 'overlaps with', 'disjoint from', 'superset of')] = 'Possible'\n",
    "Truth_Table[( 'disjoint from', 'disjoint from', 'superset of')] = 'Possible'\n",
    "Truth_Table[( 'superset of', 'disjoint from', 'superset of')] = 'Possible'\n",
    "Truth_Table[( 'subset of', 'superset of', 'superset of')] = 'Possible'\n",
    "Truth_Table[( 'identical to', 'superset of', 'superset of')] = 'True'\n",
    "Truth_Table[( 'overlaps with', 'superset of', 'superset of')] = 'Possible'\n",
    "Truth_Table[( 'disjoint from', 'superset of', 'superset of')] = 'False'\n",
    "Truth_Table[( 'superset of', 'superset of', 'superset of')] = 'True'\n",
    "\n",
    "# instances\n",
    "Truth_Table[('element of', 'subset of', 'element of')]='True'\n",
    "Truth_Table[('element of', 'subset of', 'not element of')]='False'\n",
    "Truth_Table[('not element of', 'subset of', 'element of')]='Possible'\n",
    "Truth_Table[('not element of', 'subset of', 'not element of')]='Possible'\n",
    "Truth_Table[('element of', 'identical to', 'element of')]='True'\n",
    "Truth_Table[('element of', 'identical to', 'not element of')]='False'\n",
    "Truth_Table[('not element of', 'identical to', 'element of')]='False'\n",
    "Truth_Table[('not element of', 'identical to', 'not element of')]='True'\n",
    "Truth_Table[('element of', 'overlaps with', 'element of')]='Possible'\n",
    "Truth_Table[('element of', 'overlaps with', 'not element of')]='Possible'\n",
    "Truth_Table[('not element of', 'overlaps with', 'element of')]='Possible'\n",
    "Truth_Table[('not element of', 'overlaps with', 'not element of')]='Possible'\n",
    "Truth_Table[('element of', 'disjoint from', 'element of')]='False'\n",
    "Truth_Table[('element of', 'disjoint from', 'not element of')]='True'\n",
    "Truth_Table[('not element of', 'disjoint from', 'element of')]='Possible'\n",
    "Truth_Table[('not element of', 'disjoint from', 'not element of')]='Possible'\n",
    "Truth_Table[('element of', 'superset of', 'element of')]='Possible'\n",
    "Truth_Table[('element of', 'superset of', 'not element of')]='Possible'\n",
    "Truth_Table[('not element of', 'superset of', 'element of')]='False'\n",
    "Truth_Table[('not element of', 'superset of', 'not element of')]='True'\n",
    "\n"
   ]
  },
  {
   "cell_type": "code",
   "execution_count": 2,
   "metadata": {},
   "outputs": [
    {
     "name": "stdout",
     "output_type": "stream",
     "text": [
      "True\n"
     ]
    }
   ],
   "source": [
    "major_premise = 'subset of'\n",
    "minor_premise = 'subset of'\n",
    "conclusion = 'subset of'\n",
    "truth_value = Truth_Table[(major_premise,minor_premise,conclusion)]\n",
    "print(truth_value)\n",
    "\n",
    "def truth_value_additive(major_premise,minor_premise,conclusion):\n",
    "    return Truth_Table[(major_premise,minor_premise,conclusion)]\n",
    "\n",
    "def all_true_specific(major_premise,minor_premise):\n",
    "    return [x for x in specific_statement_options if Truth_Table[(major_premise,minor_premise,x)]=='True']\n",
    "\n",
    "def all_possible_specific(major_premise,minor_premise):\n",
    "    return [x for x in specific_statement_options if Truth_Table[(major_premise,minor_premise,x)]=='Possible']\n",
    "\n",
    "def all_false_specific(major_premise,minor_premise):\n",
    "    return [x for x in specific_statement_options if Truth_Table[(major_premise,minor_premise,x)]=='False']\n"
   ]
  },
  {
   "cell_type": "code",
   "execution_count": 3,
   "metadata": {},
   "outputs": [
    {
     "data": {
      "text/plain": [
       "'Possible'"
      ]
     },
     "execution_count": 3,
     "metadata": {},
     "output_type": "execute_result"
    }
   ],
   "source": [
    "truth_value_additive('subset of','superset of','overlaps with')"
   ]
  },
  {
   "cell_type": "code",
   "execution_count": 4,
   "metadata": {},
   "outputs": [
    {
     "data": {
      "text/plain": [
       "[]"
      ]
     },
     "execution_count": 4,
     "metadata": {},
     "output_type": "execute_result"
    }
   ],
   "source": [
    "all_true_specific('subset of','overlaps with')"
   ]
  },
  {
   "cell_type": "code",
   "execution_count": 5,
   "metadata": {},
   "outputs": [],
   "source": [
    "reverse_implications = dict()\n",
    "reverse_implications['subset of']='superset of'\n",
    "reverse_implications['identical to']='identical to'\n",
    "reverse_implications['overlaps with']='overlaps with'\n",
    "reverse_implications['disjoint from']='disjoint from'\n",
    "reverse_implications['superset of']='subset of'\n",
    "\n",
    "# instances\n",
    "reverse_implications['element of'] = 'containing'\n",
    "reverse_implications['not element of'] = 'not containing'\n",
    "reverse_implications['containing'] = 'element of'\n",
    "reverse_implications['not containing'] = 'not element of'\n"
   ]
  },
  {
   "cell_type": "code",
   "execution_count": 6,
   "metadata": {},
   "outputs": [],
   "source": [
    "generic_statement_options = {'All','Some','No','Some_not'} # universal affirmative, particular affirmative, universal negative, particular negative\n",
    "generic_to_specific = dict()\n",
    "generic_to_specific['All'] = {'subset of','identical to'}  \n",
    "generic_to_specific['No'] = {'disjoint from'}\n",
    "generic_to_specific['Some'] = {'overlaps with','subset of','identical to','superset of'} # generic_to_specific['All'].union({'superset of','overlaps with'})\n",
    "generic_to_specific['Some_not'] = {'overlaps with','disjoint from','superset of'} # generic_to_specific['No'].union({'superset of','overlaps with'})\n"
   ]
  },
  {
   "cell_type": "code",
   "execution_count": null,
   "metadata": {},
   "outputs": [],
   "source": [
    "# Mutually exclusive:\n",
    "def mutually_exclusive(listofsets):\n",
    "    return [[x,'disjoint from',y] for x in listofsets for y in listofsets if x!=y]"
   ]
  },
  {
   "cell_type": "code",
   "execution_count": 6,
   "metadata": {},
   "outputs": [
    {
     "data": {
      "text/plain": [
       "[['A', 'disjoint from', 'B'], ['B', 'disjoint from', 'A']]"
      ]
     },
     "execution_count": 6,
     "metadata": {},
     "output_type": "execute_result"
    }
   ],
   "source": [
    "mutually_exclusive(['A','B']) .   "
   ]
  },
  {
   "cell_type": "code",
   "execution_count": null,
   "metadata": {},
   "outputs": [],
   "source": [
    "def collectively_exhaustive(listofsubsets,superset):\n",
    "    # all of these subsets are subsets of superset. \n",
    "    # the union of all these subsets is the superset.\n",
    "    # i.e if x is an instance in superset, and x is not an instance of a certain number of these subsets, it is an instance\n",
    "    # of at least one of the others.\n",
    "    # MECE: if x is an instance in superset, and x is an instance of a set, then x is NOT an instance of any of the others\n",
    "    # MECE: if x is an instance in superset, and x is not an instance of a set, then x is an instance of exactly one of the\n",
    "    # remaining subsets.\n",
    "    \n",
    "    \n",
    "    "
   ]
  },
  {
   "cell_type": "code",
   "execution_count": 7,
   "metadata": {},
   "outputs": [
    {
     "name": "stdout",
     "output_type": "stream",
     "text": [
      "[('identical to', 'disjoint from', 'disjoint from'), ('subset of', 'disjoint from', 'disjoint from')] ['True', 'True']\n"
     ]
    }
   ],
   "source": [
    "# generic premises and conclusion: tautology, fallacy, or possible if\n",
    "# take in generic premises, make powersets of major and minor premise possibilities,\n",
    "# get the truth value for each, and get the joint conclusion: \n",
    "# always true (tautology), sometimes true or possible, and always false\n",
    "import itertools\n",
    "\n",
    "generic_major_premise = 'All'\n",
    "generic_minor_premise = 'No'\n",
    "generic_conclusion = 'No'\n",
    "\n",
    "possibilities = list(itertools.product(generic_to_specific[generic_major_premise],generic_to_specific[generic_minor_premise],generic_to_specific[generic_conclusion]))\n",
    "\n",
    "truth_value_list = []\n",
    "for p in possibilities:\n",
    "    truth_value_list.append(truth_value_additive(p[0],p[1],p[2]))\n",
    "print(possibilities,truth_value_list)"
   ]
  },
  {
   "cell_type": "code",
   "execution_count": 8,
   "metadata": {},
   "outputs": [],
   "source": [
    "def generic_truth_value_additive(generic_major_premise,generic_minor_premise,generic_conclusion):\n",
    "    possibilities = list(itertools.product(generic_to_specific[generic_major_premise],generic_to_specific[generic_minor_premise],generic_to_specific[generic_conclusion]))\n",
    "    truth_value_list = []\n",
    "    for p in possibilities:\n",
    "        truth_value_list.append(truth_value_additive(p[0],p[1],p[2]))\n",
    "    print(possibilities,truth_value_list)\n",
    "    if ('True' in truth_value_list) and ('False' not in truth_value_list) and ('Possible' not in truth_value_list):\n",
    "        return 'True'\n",
    "    elif ('False' in truth_value_list) and ('True' in truth_value_list):\n",
    "        return 'Possible'\n",
    "    elif ('Possible' in truth_value_list):\n",
    "        return 'Possible'\n",
    "    elif ('False' in truth_value_list) and ('Possible' not in truth_value_list) and ('True' not in truth_value_list):\n",
    "        return 'False'\n",
    "    else:\n",
    "        return 'Not valid truth values'\n",
    "  "
   ]
  },
  {
   "cell_type": "code",
   "execution_count": 9,
   "metadata": {},
   "outputs": [
    {
     "name": "stdout",
     "output_type": "stream",
     "text": [
      "[('identical to', 'disjoint from', 'disjoint from'), ('subset of', 'disjoint from', 'disjoint from'), ('overlaps with', 'disjoint from', 'disjoint from'), ('superset of', 'disjoint from', 'disjoint from')] ['True', 'True', 'Possible', 'Possible']\n"
     ]
    },
    {
     "data": {
      "text/plain": [
       "'Possible'"
      ]
     },
     "execution_count": 9,
     "metadata": {},
     "output_type": "execute_result"
    }
   ],
   "source": [
    "generic_truth_value_additive('Some','No','No')"
   ]
  },
  {
   "cell_type": "code",
   "execution_count": 10,
   "metadata": {},
   "outputs": [],
   "source": [
    "# reverse implications, additive only (A,B) - (B,C) - (A,C)\n",
    "# define sets\n",
    "sets = ['A','B','C']\n",
    "\n",
    "first_statement = ['B','subset of','A']\n",
    "second_statement = ['C','overlaps with','B']\n",
    "third_statement = ['C','disjoint from','A']\n",
    "\n",
    "additive_set_order_check = dict()\n",
    "additive_set_order_check['first'] = (0,1)\n",
    "additive_set_order_check['second'] = (1,2)\n",
    "additive_set_order_check['third'] = (0,2)\n",
    "# check if a statement needs to be reversed\n",
    "def check_reverse_specific(statement,stype,sets):\n",
    "        if (statement[0]==sets[additive_set_order_check[stype][0]]) and (statement[2]==sets[additive_set_order_check[stype][1]]):\n",
    "            print('straight')\n",
    "            return statement\n",
    "        else:\n",
    "            print('reverse')\n",
    "            return [statement[2],reverse_implications[statement[1]],statement[0]]\n",
    "            \n",
    "# Ideally, should auto calculate order or sets. or alternatively, calculate the reverse of each statement as an inference.\n",
    "\n",
    "\n"
   ]
  },
  {
   "cell_type": "code",
   "execution_count": 11,
   "metadata": {},
   "outputs": [
    {
     "ename": "NameError",
     "evalue": "name 'infG' is not defined",
     "output_type": "error",
     "traceback": [
      "\u001b[1;31m---------------------------------------------------------------------------\u001b[0m",
      "\u001b[1;31mNameError\u001b[0m                                 Traceback (most recent call last)",
      "\u001b[1;32m<ipython-input-11-f0f61fda9fe2>\u001b[0m in \u001b[0;36m<module>\u001b[1;34m\u001b[0m\n\u001b[0;32m      1\u001b[0m \u001b[1;31m# Given a set of statements in the form ['A', 'disjoint from','B'], make all inferences, find all contradictions.\u001b[0m\u001b[1;33m\u001b[0m\u001b[1;33m\u001b[0m\u001b[1;33m\u001b[0m\u001b[0m\n\u001b[0;32m      2\u001b[0m \u001b[1;32mimport\u001b[0m \u001b[0mnetworkx\u001b[0m \u001b[1;32mas\u001b[0m \u001b[0mnx\u001b[0m\u001b[1;33m\u001b[0m\u001b[1;33m\u001b[0m\u001b[0m\n\u001b[1;32m----> 3\u001b[1;33m \u001b[1;32mdel\u001b[0m\u001b[1;33m(\u001b[0m\u001b[0minfG\u001b[0m\u001b[1;33m)\u001b[0m\u001b[1;33m\u001b[0m\u001b[1;33m\u001b[0m\u001b[0m\n\u001b[0m\u001b[0;32m      4\u001b[0m \u001b[0mstatement_set\u001b[0m \u001b[1;33m=\u001b[0m \u001b[1;33m[\u001b[0m\u001b[1;33m[\u001b[0m\u001b[1;34m'A'\u001b[0m\u001b[1;33m,\u001b[0m\u001b[1;34m'subset of'\u001b[0m\u001b[1;33m,\u001b[0m\u001b[1;34m'B'\u001b[0m\u001b[1;33m]\u001b[0m\u001b[1;33m,\u001b[0m\u001b[1;33m[\u001b[0m\u001b[1;34m'B'\u001b[0m\u001b[1;33m,\u001b[0m\u001b[1;34m'subset of'\u001b[0m\u001b[1;33m,\u001b[0m\u001b[1;34m'C'\u001b[0m\u001b[1;33m]\u001b[0m\u001b[1;33m,\u001b[0m\u001b[1;33m[\u001b[0m\u001b[1;34m'D'\u001b[0m\u001b[1;33m,\u001b[0m\u001b[1;34m'identical to'\u001b[0m\u001b[1;33m,\u001b[0m\u001b[1;34m'C'\u001b[0m\u001b[1;33m]\u001b[0m\u001b[1;33m]\u001b[0m\u001b[1;33m\u001b[0m\u001b[1;33m\u001b[0m\u001b[0m\n\u001b[0;32m      5\u001b[0m \u001b[1;31m# make a graph?\u001b[0m\u001b[1;33m\u001b[0m\u001b[1;33m\u001b[0m\u001b[1;33m\u001b[0m\u001b[0m\n",
      "\u001b[1;31mNameError\u001b[0m: name 'infG' is not defined"
     ]
    }
   ],
   "source": [
    "# Given a set of statements in the form ['A', 'disjoint from','B'], make all inferences, find all contradictions. \n",
    "import networkx as nx\n",
    "del(infG)\n",
    "statement_set = [['A','subset of','B'],['B','subset of','C'],['D','identical to','C']]\n",
    "# make a graph? \n",
    "infG = nx.DiGraph()\n",
    "# get list of nodes from elt 0 and 2 from each statement\n",
    "setnodes = set()\n",
    "fromnodes = set()\n",
    "tonodes = set()\n",
    "for statement in statement_set:\n",
    "    fromnodes.add(statement[0])\n",
    "    tonodes.add(statement[2])\n",
    "    infG.add_edge(statement[0],statement[2],rel = statement[1])\n",
    "setnodes = fromnodes.union(tonodes)\n",
    "print(fromnodes,tonodes, setnodes)\n",
    "roots = fromnodes-tonodes\n",
    "ends = tonodes - fromnodes\n",
    "print(roots,ends)"
   ]
  },
  {
   "cell_type": "code",
   "execution_count": null,
   "metadata": {},
   "outputs": [],
   "source": [
    "import matplotlib.pyplot as plt\n",
    "#nx.draw_spectral(infG,with_labels=True,edge_labels = 'rel' font_size=18,node_size=1200)"
   ]
  },
  {
   "cell_type": "code",
   "execution_count": null,
   "metadata": {},
   "outputs": [],
   "source": [
    "pos = nx.spectral_layout(infG)\n",
    "nx.draw(infG, pos, with_labels=True)\n",
    "edge_labels = nx.get_edge_attributes(infG,'rel')\n",
    "nx.draw_networkx_edge_labels(infG, pos, labels = edge_labels)\n",
    "#plt.savefig('this.png')\n",
    "plt.show()\n",
    "#nx.get_edge_attributes(infG,'rel')"
   ]
  },
  {
   "cell_type": "code",
   "execution_count": null,
   "metadata": {},
   "outputs": [],
   "source": [
    "# getting reverse implications and redrawing graph\n",
    "infGr = nx.DiGraph()\n",
    "for statement in statement_set:\n",
    "    infGr.add_edge(statement[2],statement[0],rel = reverse_implications[statement[1]])\n",
    "pos = nx.spectral_layout(infGr)\n",
    "nx.draw(infGr, pos, with_labels=True)\n",
    "edge_labels = nx.get_edge_attributes(infGr,'rel')\n",
    "nx.draw_networkx_edge_labels(infGr, pos, labels = edge_labels)\n",
    "#plt.savefig('this.png')\n",
    "plt.show()\n",
    "\n",
    "# note this rewrites the latest edges, and doesn't show multiple edges between nodes, which is annoying. "
   ]
  },
  {
   "cell_type": "code",
   "execution_count": null,
   "metadata": {},
   "outputs": [],
   "source": [
    "def make_all_inferences(infGc):\n",
    "    roots = {n for n in infG.nodes if list(infG.predecessors(n))==[]}\n",
    "    ends = {n for n in infG.nodes if list(infG.successors(n))==[]}\n",
    "    \n",
    "    infG1 = infGc.copy()\n",
    "    \n",
    "    prev_paths = ['']\n",
    "    no_more_inf_flag = 0\n",
    "    contradiction_found = 0\n",
    "    while no_more_inf_flag==0:\n",
    "        # calculating paths between roots and ends\n",
    "        paths = dict()\n",
    "        num_infs= 0\n",
    "        for r in roots:\n",
    "            paths[r] = dict()\n",
    "            for e in ends:\n",
    "                paths[r][e] = list(nx.all_simple_paths(infG1,r,e))\n",
    "\n",
    "        paths[r][e]= [p for p in paths[r][e] if p not in prev_paths]\n",
    "        prev_paths = prev_paths + paths[r][e]\n",
    "        \n",
    "        \n",
    "        \n",
    "        for r in roots:\n",
    "            for e in ends:\n",
    "                for p in paths[r][e]:\n",
    "                    print(p)\n",
    "                    for i in range(len(p)-2):\n",
    "                        print(p[i],p[i+1],p[i+2])\n",
    "                        inf = all_true_specific(infG1.edges[(p[i],p[i+1])]['rel'],infG1.edges[(p[i+1],p[i+2])]['rel'])\n",
    "                        if len(inf)>0:\n",
    "                            # catch contradictions\n",
    "                            if (p[i],p[i+2]) in infG1.edges():\n",
    "                                if infG1.edges[(p[i],p[i+2])]['rel'] not in inf:\n",
    "                                    print('Contradicting relationship between ',p[i],' and ',p[i+2],' already exists as ',infG1.edges[(p[i],p[i+2])]['rel'])\n",
    "                                    contradiction_found = 1\n",
    "                            else:\n",
    "                                print('Since ',p[i],infG1.edges[(p[i],p[i+1])]['rel'],p[i+1],', and ',p[i+1],infG1.edges[(p[i+1],p[i+2])]['rel'],p[i+2],', this means')\n",
    "                                print(p[i],inf[0],p[i+2])\n",
    "                                infG1.add_edge(p[i],p[i+2],rel=inf[0])\n",
    "                                fromnodes.add(p[i])\n",
    "                                tonodes.add(p[i+2])\n",
    "                                num_infs= num_infs+1\n",
    "        if (num_infs==0) or (contradiction_found==1):\n",
    "            no_more_inf_flag = 1\n",
    "\n",
    "    if contradiction_found==1:\n",
    "        print('not updating graph since contradiction found')\n",
    "        del(infG1)\n",
    "    else: \n",
    "        infGc = infG1.copy()\n",
    "        del(infG1)\n",
    "\n",
    "    edges = list(infGc.edges())\n",
    "    for edge in edges:\n",
    "        print(edge,infGc.edges[edge]['rel'])\n",
    "    return (infGc,contradiction_found)"
   ]
  },
  {
   "cell_type": "code",
   "execution_count": null,
   "metadata": {},
   "outputs": [],
   "source": [
    "(infG,cd_found) = make_all_inferences(infG)\n",
    "if cd_found==1:\n",
    "    print('not changing graph until contradiction resolved')\n",
    "else:\n",
    "    print('Updated graph')"
   ]
  },
  {
   "cell_type": "code",
   "execution_count": null,
   "metadata": {},
   "outputs": [],
   "source": [
    "del(infG2)"
   ]
  },
  {
   "cell_type": "code",
   "execution_count": null,
   "metadata": {},
   "outputs": [],
   "source": [
    "infG2 = nx.MultiDiGraph()\n",
    "for (u,v) in infG.edges():\n",
    "    infG2.add_edge(u,v,0,rel=infG.edges[(u,v)]['rel'])\n",
    "    infG2.add_edge(v,u,1,rel=reverse_implications[infG.edges[(u,v)]['rel']])"
   ]
  },
  {
   "cell_type": "code",
   "execution_count": null,
   "metadata": {},
   "outputs": [],
   "source": [
    "list(nx.all_simple_paths(infG2,'D','A'))"
   ]
  },
  {
   "cell_type": "code",
   "execution_count": 14,
   "metadata": {},
   "outputs": [],
   "source": [
    "def get_s_or_r_multi(infG3,u,v):\n",
    "    if infG3.edges.get((u,v,0),'')=='':\n",
    "        return 1\n",
    "    else:\n",
    "        return 0\n",
    "\n",
    "def get_rel_multidigraph(infG3,u,v):\n",
    "    return infG3.edges[(u,v,get_s_or_r_multi(infG3,u,v))]['rel']\n",
    "    "
   ]
  },
  {
   "cell_type": "code",
   "execution_count": null,
   "metadata": {},
   "outputs": [],
   "source": [
    "roots = {n for n in infG.nodes if list(infG.predecessors(n))==[]}\n",
    "ends = {n for n in infG.nodes if list(infG.successors(n))==[]}\n",
    "print(roots,ends)\n",
    "\n",
    "prev_paths = ['']\n",
    "paths = dict()\n",
    "for r in roots:\n",
    "    paths[r] = dict()\n",
    "    for e in ends:\n",
    "        paths[r][e] = list(nx.all_simple_paths(infG2,r,e))\n",
    "print(paths)"
   ]
  },
  {
   "cell_type": "code",
   "execution_count": null,
   "metadata": {},
   "outputs": [],
   "source": [
    "all_true_specific(get_rel_multidigraph(infG2,'D','C'),get_rel_multidigraph(infG2,'C','B'))"
   ]
  },
  {
   "cell_type": "code",
   "execution_count": 13,
   "metadata": {},
   "outputs": [],
   "source": [
    "def make_all_inferences_multi(infGc):\n",
    "    # make multidigraph\n",
    "    infG2 = nx.MultiDiGraph()\n",
    "    roots = list(infG.nodes())\n",
    "    ends = list(infG.nodes())\n",
    "    if str(type(infGc))==\"<class 'networkx.classes.multidigraph.MultiDiGraph'>\": \n",
    "        for (u,v) in infGc.edges():\n",
    "            if get_s_or_r_multi(infGc,u,v)==0:\n",
    "                infG2.add_edge(u,v,0,rel=get_rel_multidigraph(infGc,u,v))\n",
    "                infG2.add_edge(v,u,1,rel=reverse_implications[get_rel_multidigraph(infGc,u,v)])\n",
    "            else:\n",
    "                infG2.add_edge(u,v,1,rel=get_rel_multidigraph(infGc,u,v))\n",
    "                infG2.add_edge(v,u,0,rel=reverse_implications[get_rel_multidigraph(infGc,u,v)])\n",
    "    elif str(type(infGc))==\"<class 'networkx.classes.digraph.DiGraph'>\":\n",
    "        #roots = {n for n in infG.nodes if list(infG.predecessors(n))==[]}\n",
    "        #ends = {n for n in infG.nodes if list(infG.successors(n))==[]}\n",
    "        \n",
    "        for (u,v) in infGc.edges():\n",
    "            infG2.add_edge(u,v,0,rel=infGc.edges[(u,v)]['rel'])\n",
    "            infG2.add_edge(v,u,1,rel=reverse_implications[infGc.edges[(u,v)]['rel']])\n",
    "    else:\n",
    "        print('Only directed graphs or multidirected graphs accepted')\n",
    "        return ('','')\n",
    "\n",
    "    prev_paths = []\n",
    "    no_more_inf_flag = 0\n",
    "    contradiction_found = 0\n",
    "    while no_more_inf_flag==0:\n",
    "        # calculating paths between roots and ends\n",
    "        paths = dict()\n",
    "        num_infs= 0\n",
    "        for r in roots:\n",
    "            paths[r] = dict()\n",
    "            for e in ends:\n",
    "                paths[r][e] = list(nx.all_simple_paths(infG2,r,e))\n",
    "\n",
    "        paths[r][e]= [p for p in paths[r][e] if p not in prev_paths]\n",
    "        prev_paths = prev_paths + paths[r][e]\n",
    "        #print(prev_paths)\n",
    "        \n",
    "        \n",
    "        for r in roots:\n",
    "            for e in ends:\n",
    "                for p in paths[r][e]:\n",
    "                    #print(p)\n",
    "                    for i in range(len(p)-2):\n",
    "                        #print(p[i],p[i+1],p[i+2])\n",
    "                        #print(get_rel_multidigraph(infG2,p[i],p[i+1]))\n",
    "                        #print(get_rel_multidigraph(infG2,p[i+1],p[i+2]))\n",
    "                        inf = all_true_specific(get_rel_multidigraph(infG2,p[i],p[i+1]),get_rel_multidigraph(infG2,p[i+1],p[i+2]))\n",
    "                        if len(inf)>0:\n",
    "                            # catch contradictions\n",
    "                            if (p[i],p[i+2]) in infG2.edges():\n",
    "                                if get_rel_multidigraph(infG2,p[i],p[i+2]) not in inf:\n",
    "                                    print('Contradicting relationship between ',p[i],' and ',p[i+2],' already exists as ',get_rel_multidigraph(infG2,p[i],p[i+2]))\n",
    "                                    contradiction_found = 1\n",
    "                            else:\n",
    "                                print('Since ',p[i],get_rel_multidigraph(infG2,p[i],p[i+1]),p[i+1],', and ',p[i+1],get_rel_multidigraph(infG2,p[i+1],p[i+2]),p[i+2],', this means')\n",
    "                                print(p[i],inf[0],p[i+2])\n",
    "                                infG2.add_edge(p[i],p[i+2],0,rel=inf[0])\n",
    "                                fromnodes.add(p[i])\n",
    "                                tonodes.add(p[i+2])\n",
    "                                num_infs= num_infs+1\n",
    "        if (num_infs==0) or (contradiction_found==1):\n",
    "            no_more_inf_flag = 1\n",
    "\n",
    "    if contradiction_found==1:\n",
    "        print('not updating graph since contradiction found')\n",
    "        del(infG2)\n",
    "    else: \n",
    "        infGc = infG2.copy()\n",
    "        del(infG2)\n",
    "\n",
    "    edges = list(infGc.edges())\n",
    "    for (u,v) in edges:\n",
    "        print('(',u,',',v,')',get_rel_multidigraph(infGc,u,v))\n",
    "    return (infGc,contradiction_found)"
   ]
  },
  {
   "cell_type": "code",
   "execution_count": null,
   "metadata": {},
   "outputs": [],
   "source": [
    "(infG,cd) = make_all_inferences_multi(infG)"
   ]
  },
  {
   "cell_type": "code",
   "execution_count": null,
   "metadata": {},
   "outputs": [],
   "source": [
    "roots = list(infG.nodes())\n",
    "ends = list(infG.nodes())"
   ]
  },
  {
   "cell_type": "code",
   "execution_count": null,
   "metadata": {},
   "outputs": [],
   "source": [
    "for r in roots:\n",
    "    for e in ends:\n",
    "        print(list(nx.all_simple_paths(infG,r,e)))"
   ]
  },
  {
   "cell_type": "code",
   "execution_count": null,
   "metadata": {},
   "outputs": [],
   "source": [
    "print(generic_to_specific['All'].intersection(generic_to_specific['Some']))\n",
    "print(generic_to_specific['Some'].intersection(generic_to_specific['Some_not']))\n",
    "print(generic_to_specific['Some_not'].intersection(generic_to_specific['No']))\n",
    "print(generic_to_specific['No'].intersection(generic_to_specific['All']))\n",
    "print(generic_to_specific['All'].intersection(generic_to_specific['Some_not']))\n",
    "print(generic_to_specific['Some'].intersection(generic_to_specific['No']))"
   ]
  },
  {
   "cell_type": "code",
   "execution_count": null,
   "metadata": {},
   "outputs": [],
   "source": [
    "def validate_statement(statement_set,new_statement):\n",
    "    # validating each new statement against existing statement set: assuming that the existing statement is already done with chain inferencing. \n",
    "    # statement set for each inference graph in possible ones should be considered, and if we can find the ones that satisfy. display the ones that don't and reduce possibilities. \n",
    "    # if a statement is encountered (specific or generic) that is completely new nodes, add (mark citation)\n",
    "    # if a statement is encountered (specific or generic) that uses one new node and one existing, add (mark citation)\n",
    "    # if a statement is encountered that uses the same two nodes in same order: \n",
    "    # if new statement and any old statement with same nodes are specific and different it is a contradiction and needs to be resolved.\n",
    "    # consider saving for each edge which statements it is inferred from so a chain can be established and displayed\n",
    "    # if new statement is specific and the combination of old ones is generic-specific combination, specific statement should be in generic_to_specific[dict] intersection of previous statements\n",
    "    # if new statement is generic and the old ones are a combination, the intersection of the new with the old should be displayed and verified. if intersection is nullset, throw up contradiction to resolve. \n",
    "    # if a statement with reverse nodes is encountered, reverse and follow above instructions. "
   ]
  },
  {
   "cell_type": "code",
   "execution_count": 15,
   "metadata": {},
   "outputs": [
    {
     "name": "stdout",
     "output_type": "stream",
     "text": [
      "[['disjoint from'], ['identical to', 'subset of'], ['identical to', 'subset of', 'overlaps with', 'superset of']] \n",
      "\n",
      "\n",
      "\n",
      "[['disjoint from', 'identical to', 'identical to'], ['disjoint from', 'identical to', 'subset of'], ['disjoint from', 'identical to', 'overlaps with'], ['disjoint from', 'identical to', 'superset of'], ['disjoint from', 'subset of', 'identical to'], ['disjoint from', 'subset of', 'subset of'], ['disjoint from', 'subset of', 'overlaps with'], ['disjoint from', 'subset of', 'superset of']]\n",
      "{0: [['A', 'disjoint from', 'B'], ['B', 'identical to', 'C'], ['C', 'identical to', 'D']], 1: [['A', 'disjoint from', 'B'], ['B', 'identical to', 'C'], ['C', 'subset of', 'D']], 2: [['A', 'disjoint from', 'B'], ['B', 'identical to', 'C'], ['C', 'overlaps with', 'D']], 3: [['A', 'disjoint from', 'B'], ['B', 'identical to', 'C'], ['C', 'superset of', 'D']], 4: [['A', 'disjoint from', 'B'], ['B', 'subset of', 'C'], ['C', 'identical to', 'D']], 5: [['A', 'disjoint from', 'B'], ['B', 'subset of', 'C'], ['C', 'subset of', 'D']], 6: [['A', 'disjoint from', 'B'], ['B', 'subset of', 'C'], ['C', 'overlaps with', 'D']], 7: [['A', 'disjoint from', 'B'], ['B', 'subset of', 'C'], ['C', 'superset of', 'D']]}\n",
      "{'C', 'B', 'A'} {'D', 'C', 'B'} {'A', 'D', 'C', 'B'}\n",
      "{'A'} {'D'}\n"
     ]
    },
    {
     "data": {
      "image/png": "[encoded data removed]",
      "text/plain": [
       "<Figure size 432x288 with 1 Axes>"
      ]
     },
     "metadata": {},
     "output_type": "display_data"
    },
    {
     "name": "stdout",
     "output_type": "stream",
     "text": [
      "Since  A disjoint from B , and  B identical to C , this means\n",
      "A disjoint from C\n",
      "Since  B identical to C , and  C identical to D , this means\n",
      "B identical to D\n",
      "Since  C identical to B , and  B disjoint from A , this means\n",
      "C disjoint from A\n",
      "Since  D identical to C , and  C identical to B , this means\n",
      "D identical to B\n",
      "Since  A disjoint from C , and  C identical to D , this means\n",
      "A disjoint from D\n",
      "Since  D identical to C , and  C disjoint from A , this means\n",
      "D disjoint from A\n",
      "( A , B ) disjoint from\n",
      "( A , C ) disjoint from\n",
      "( A , D ) disjoint from\n",
      "( B , A ) disjoint from\n",
      "( B , C ) identical to\n",
      "( B , D ) identical to\n",
      "( C , B ) identical to\n",
      "( C , D ) identical to\n",
      "( C , A ) disjoint from\n",
      "( D , C ) identical to\n",
      "( D , B ) identical to\n",
      "( D , A ) disjoint from\n",
      "{'C', 'B', 'A'} {'D', 'C', 'B'} {'A', 'D', 'C', 'B'}\n",
      "{'A'} {'D'}\n"
     ]
    },
    {
     "data": {
      "image/png": "[encoded data removed]",
      "text/plain": [
       "<Figure size 432x288 with 1 Axes>"
      ]
     },
     "metadata": {},
     "output_type": "display_data"
    },
    {
     "name": "stdout",
     "output_type": "stream",
     "text": [
      "Since  A disjoint from B , and  B identical to C , this means\n",
      "A disjoint from C\n",
      "Since  B identical to C , and  C subset of D , this means\n",
      "B subset of D\n",
      "Since  C identical to B , and  B disjoint from A , this means\n",
      "C disjoint from A\n",
      "Since  D superset of C , and  C identical to B , this means\n",
      "D superset of B\n",
      "( A , B ) disjoint from\n",
      "( A , C ) disjoint from\n",
      "( B , A ) disjoint from\n",
      "( B , C ) identical to\n",
      "( B , D ) subset of\n",
      "( C , B ) identical to\n",
      "( C , D ) subset of\n",
      "( C , A ) disjoint from\n",
      "( D , C ) superset of\n",
      "( D , B ) superset of\n",
      "{'C', 'B', 'A'} {'D', 'C', 'B'} {'A', 'D', 'C', 'B'}\n",
      "{'A'} {'D'}\n"
     ]
    },
    {
     "data": {
      "image/png": "[encoded data removed]",
      "text/plain": [
       "<Figure size 432x288 with 1 Axes>"
      ]
     },
     "metadata": {},
     "output_type": "display_data"
    },
    {
     "name": "stdout",
     "output_type": "stream",
     "text": [
      "Since  A disjoint from B , and  B identical to C , this means\n",
      "A disjoint from C\n",
      "Since  B identical to C , and  C overlaps with D , this means\n",
      "B overlaps with D\n",
      "Since  C identical to B , and  B disjoint from A , this means\n",
      "C disjoint from A\n",
      "Since  D overlaps with C , and  C identical to B , this means\n",
      "D overlaps with B\n",
      "( A , B ) disjoint from\n",
      "( A , C ) disjoint from\n",
      "( B , A ) disjoint from\n",
      "( B , C ) identical to\n",
      "( B , D ) overlaps with\n",
      "( C , B ) identical to\n",
      "( C , D ) overlaps with\n",
      "( C , A ) disjoint from\n",
      "( D , C ) overlaps with\n",
      "( D , B ) overlaps with\n",
      "{'C', 'B', 'A'} {'D', 'C', 'B'} {'A', 'D', 'C', 'B'}\n",
      "{'A'} {'D'}\n"
     ]
    },
    {
     "data": {
      "image/png": "[encoded data removed]",
      "text/plain": [
       "<Figure size 432x288 with 1 Axes>"
      ]
     },
     "metadata": {},
     "output_type": "display_data"
    },
    {
     "name": "stdout",
     "output_type": "stream",
     "text": [
      "Since  A disjoint from B , and  B identical to C , this means\n",
      "A disjoint from C\n",
      "Since  B identical to C , and  C superset of D , this means\n",
      "B superset of D\n",
      "Since  C identical to B , and  B disjoint from A , this means\n",
      "C disjoint from A\n",
      "Since  D subset of C , and  C identical to B , this means\n",
      "D subset of B\n",
      "Since  A disjoint from C , and  C superset of D , this means\n",
      "A disjoint from D\n",
      "Since  D subset of C , and  C disjoint from A , this means\n",
      "D disjoint from A\n",
      "( A , B ) disjoint from\n",
      "( A , C ) disjoint from\n",
      "( A , D ) disjoint from\n",
      "( B , A ) disjoint from\n",
      "( B , C ) identical to\n",
      "( B , D ) superset of\n",
      "( C , B ) identical to\n",
      "( C , D ) superset of\n",
      "( C , A ) disjoint from\n",
      "( D , C ) subset of\n",
      "( D , B ) subset of\n",
      "( D , A ) disjoint from\n",
      "{'C', 'B', 'A'} {'D', 'C', 'B'} {'A', 'D', 'C', 'B'}\n",
      "{'A'} {'D'}\n"
     ]
    },
    {
     "data": {
      "image/png": "[encoded data removed]",
      "text/plain": [
       "<Figure size 432x288 with 1 Axes>"
      ]
     },
     "metadata": {},
     "output_type": "display_data"
    },
    {
     "name": "stdout",
     "output_type": "stream",
     "text": [
      "Since  B subset of C , and  C identical to D , this means\n",
      "B subset of D\n",
      "Since  D identical to C , and  C superset of B , this means\n",
      "D superset of B\n",
      "( A , B ) disjoint from\n",
      "( B , A ) disjoint from\n",
      "( B , C ) subset of\n",
      "( B , D ) subset of\n",
      "( C , B ) superset of\n",
      "( C , D ) identical to\n",
      "( D , C ) identical to\n",
      "( D , B ) superset of\n",
      "{'C', 'B', 'A'} {'D', 'C', 'B'} {'A', 'D', 'C', 'B'}\n",
      "{'A'} {'D'}\n"
     ]
    },
    {
     "data": {
      "image/png": "[encoded data removed]",
      "text/plain": [
       "<Figure size 432x288 with 1 Axes>"
      ]
     },
     "metadata": {},
     "output_type": "display_data"
    },
    {
     "name": "stdout",
     "output_type": "stream",
     "text": [
      "Since  B subset of C , and  C subset of D , this means\n",
      "B subset of D\n",
      "Since  D superset of C , and  C superset of B , this means\n",
      "D superset of B\n",
      "( A , B ) disjoint from\n",
      "( B , A ) disjoint from\n",
      "( B , C ) subset of\n",
      "( B , D ) subset of\n",
      "( C , B ) superset of\n",
      "( C , D ) subset of\n",
      "( D , C ) superset of\n",
      "( D , B ) superset of\n",
      "{'C', 'B', 'A'} {'D', 'C', 'B'} {'A', 'D', 'C', 'B'}\n",
      "{'A'} {'D'}\n"
     ]
    },
    {
     "data": {
      "image/png": "[encoded data removed]",
      "text/plain": [
       "<Figure size 432x288 with 1 Axes>"
      ]
     },
     "metadata": {},
     "output_type": "display_data"
    },
    {
     "name": "stdout",
     "output_type": "stream",
     "text": [
      "( A , B ) disjoint from\n",
      "( B , A ) disjoint from\n",
      "( B , C ) subset of\n",
      "( C , B ) superset of\n",
      "( C , D ) overlaps with\n",
      "( D , C ) overlaps with\n",
      "{'C', 'B', 'A'} {'D', 'C', 'B'} {'A', 'D', 'C', 'B'}\n",
      "{'A'} {'D'}\n"
     ]
    },
    {
     "data": {
      "image/png": "[encoded data removed]",
      "text/plain": [
       "<Figure size 432x288 with 1 Axes>"
      ]
     },
     "metadata": {},
     "output_type": "display_data"
    },
    {
     "name": "stdout",
     "output_type": "stream",
     "text": [
      "( A , B ) disjoint from\n",
      "( B , A ) disjoint from\n",
      "( B , C ) subset of\n",
      "( C , B ) superset of\n",
      "( C , D ) superset of\n",
      "( D , C ) subset of\n"
     ]
    }
   ],
   "source": [
    "# Generic statements sets \n",
    "import itertools\n",
    "#def powerset_generic_to_specific(generic_statement_set):\n",
    "generic_statement_set = [['A','All','B'],['B','All','C'],['C','Some','D']]\n",
    "\n",
    "# add one more step here for multiple generic statements between two nodes - compatible (All,Some), (Some, Some_not), (Some_not, no). incompatible (no,all), (all, some_not), (some, no)\n",
    "# the incompatible types should be filtered out during entry\n",
    "\n",
    "\n",
    "\n",
    "# set of converted generic to specific sets\n",
    "possibilities_set = [list(generic_to_specific[statement[1]]) if statement[1] in generic_statement_options else [statement[1]] for statement in generic_statement_set]\n",
    "node_set = [[statement[0],statement[2]] for statement in generic_statement_set]\n",
    "print(possibilities_set,'\\n\\n\\n')\n",
    "\n",
    "def flattentup(tup):\n",
    "    flatlist = []\n",
    "    for elt in tup:\n",
    "        #print(elt,type(elt))\n",
    "        if type(elt) is not tuple:\n",
    "            #print('elt appended')\n",
    "            flatlist.append(elt)\n",
    "        else:\n",
    "            #print('calling recursive')\n",
    "            flatlist = flatlist + flattentup(elt)\n",
    "    return flatlist\n",
    "\n",
    "#combinations = list(itertools.product([ps for ps in possibilities_set]))\n",
    "#print(combinations)\n",
    "\n",
    "combinations = possibilities_set[0]\n",
    "for i in possibilities_set[1:len(possibilities_set)]:\n",
    "    combinations = list(itertools.product(combinations,i))\n",
    "#print(combinations)\n",
    "\n",
    "combinationslist = [flattentup(elt) for elt in combinations]\n",
    "print(combinationslist)\n",
    "\n",
    "infgraphdict =dict()\n",
    "for i in range(len(combinationslist)):\n",
    "    infgraphdict[i] = []\n",
    "    for j in range(len(node_set)):\n",
    "        infgraphdict[i].append([node_set[j][0],combinationslist[i][j],node_set[j][1]])\n",
    "print(infgraphdict)\n",
    "\n",
    "import networkx as nx\n",
    "import matplotlib.pyplot as plt\n",
    "\n",
    "infdict = dict()\n",
    "for i in infgraphdict.keys():\n",
    "\n",
    "    statement_set = infgraphdict[i]\n",
    "    # make a graph? \n",
    "    infG = nx.DiGraph()\n",
    "    # get list of nodes from elt 0 and 2 from each statement\n",
    "    setnodes = set()\n",
    "    fromnodes = set()\n",
    "    tonodes = set()\n",
    "    for statement in statement_set:\n",
    "        fromnodes.add(statement[0])\n",
    "        tonodes.add(statement[2])\n",
    "        infG.add_edge(statement[0],statement[2],rel = statement[1])\n",
    "    setnodes = fromnodes.union(tonodes)\n",
    "    print(fromnodes,tonodes, setnodes)\n",
    "    roots = fromnodes-tonodes\n",
    "    ends = tonodes - fromnodes\n",
    "    print(roots,ends)\n",
    "    pos = nx.spectral_layout(infG)\n",
    "    nx.draw(infG, pos, with_labels=True)\n",
    "    edge_labels = nx.get_edge_attributes(infG,'rel')\n",
    "    nx.draw_networkx_edge_labels(infG, pos, labels = edge_labels)\n",
    "    #plt.savefig('this.png')\n",
    "    plt.show()\n",
    "    \n",
    "    (infdict[i],contradiction_found) = make_all_inferences_multi(infG)\n",
    "    del(infG)"
   ]
  },
  {
   "cell_type": "code",
   "execution_count": 39,
   "metadata": {},
   "outputs": [
    {
     "name": "stdout",
     "output_type": "stream",
     "text": [
      "{('A', 'B'): [['A', 'disjoint from', 'B']], ('A', 'C'): [['A', 'disjoint from', 'C']], ('A', 'D'): [['A', 'disjoint from', 'D']], ('B', 'A'): [['B', 'disjoint from', 'A']], ('B', 'C'): [['B', 'identical to', 'C'], ['B', 'subset of', 'C']], ('B', 'D'): [['B', 'identical to', 'D'], ['B', 'subset of', 'D'], ['B', 'overlaps with', 'D'], ['B', 'superset of', 'D']], ('C', 'B'): [['C', 'identical to', 'B'], ['C', 'superset of', 'B']], ('C', 'D'): [['C', 'identical to', 'D'], ['C', 'subset of', 'D'], ['C', 'overlaps with', 'D'], ['C', 'superset of', 'D']], ('C', 'A'): [['C', 'disjoint from', 'A']], ('D', 'C'): [['D', 'identical to', 'C'], ['D', 'superset of', 'C'], ['D', 'overlaps with', 'C'], ['D', 'subset of', 'C']], ('D', 'B'): [['D', 'identical to', 'B'], ['D', 'superset of', 'B'], ['D', 'overlaps with', 'B'], ['D', 'subset of', 'B']], ('D', 'A'): [['D', 'disjoint from', 'A']]}\n"
     ]
    }
   ],
   "source": [
    "# get possible relationships for each edge\n",
    "\n",
    "edge_poss_dict = dict()\n",
    "\n",
    "for i in infdict.keys():\n",
    "    #print(i)\n",
    "    for edge in infdict[i].edges():\n",
    "        #print(edge)\n",
    "        if edge not in edge_poss_dict.keys():\n",
    "            #print('adding new key')\n",
    "            edge_poss_dict[edge] = list()\n",
    "            #print(edge_poss_dict[edge])\n",
    "            #print(type(edge_poss_dict[edge]))\n",
    "        t = [edge[0],get_rel_multidigraph(infdict[i],edge[0],edge[1]),edge[1]]\n",
    "        if t not in edge_poss_dict[edge]:\n",
    "            edge_poss_dict[edge].append(t)\n",
    "        #print(edge_poss_dict[edge])\n",
    "\n",
    "\n",
    "print(edge_poss_dict)\n",
    "\n",
    "# consider converting possibles to smaller generic statement for readability. "
   ]
  },
  {
   "cell_type": "code",
   "execution_count": 27,
   "metadata": {},
   "outputs": [
    {
     "data": {
      "text/plain": [
       "{0: <networkx.classes.multidigraph.MultiDiGraph at 0x5f6fd4e0f0>,\n",
       " 1: <networkx.classes.multidigraph.MultiDiGraph at 0x5f73061978>,\n",
       " 2: <networkx.classes.multidigraph.MultiDiGraph at 0x5f730c9b00>,\n",
       " 3: <networkx.classes.multidigraph.MultiDiGraph at 0x5f7312abe0>,\n",
       " 4: <networkx.classes.multidigraph.MultiDiGraph at 0x5f730d1550>,\n",
       " 5: <networkx.classes.multidigraph.MultiDiGraph at 0x5f730d13c8>,\n",
       " 6: <networkx.classes.multidigraph.MultiDiGraph at 0x5f741c0f28>,\n",
       " 7: <networkx.classes.multidigraph.MultiDiGraph at 0x5f7427aba8>}"
      ]
     },
     "execution_count": 27,
     "metadata": {},
     "output_type": "execute_result"
    }
   ],
   "source": [
    "infdict"
   ]
  },
  {
   "cell_type": "code",
   "execution_count": 24,
   "metadata": {},
   "outputs": [],
   "source": [
    "del(edge_poss_dict)"
   ]
  },
  {
   "cell_type": "code",
   "execution_count": 3,
   "metadata": {},
   "outputs": [
    {
     "name": "stdout",
     "output_type": "stream",
     "text": [
      "[(0, 1), (0, 2), (1, 0), (1, 2), (2, 0), (2, 1)]\n"
     ]
    }
   ],
   "source": [
    "print([(x,y) for x in range(3) for y in range(3) if x != y])"
   ]
  },
  {
   "cell_type": "code",
   "execution_count": null,
   "metadata": {},
   "outputs": [],
   "source": []
  }
 ],
 "metadata": {
  "kernelspec": {
   "display_name": "Python 3",
   "language": "python",
   "name": "python3"
  },
  "language_info": {
   "codemirror_mode": {
    "name": "ipython",
    "version": 3
   },
   "file_extension": ".py",
   "mimetype": "text/x-python",
   "name": "python",
   "nbconvert_exporter": "python",
   "pygments_lexer": "ipython3",
   "version": "3.7.1"
  }
 },
 "nbformat": 4,
 "nbformat_minor": 2
}
