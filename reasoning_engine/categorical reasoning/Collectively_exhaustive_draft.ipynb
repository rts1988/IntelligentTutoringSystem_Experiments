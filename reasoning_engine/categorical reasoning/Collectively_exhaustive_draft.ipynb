{
 "cells": [
  {
   "cell_type": "markdown",
   "metadata": {},
   "source": [
    "# Collectively exhaustive \n",
    "\n",
    "1. accept a collectively exhaustive statement, and statements about the subsets and their relationship to one another.\n",
    "2. express as series of possible specific relationships between individual subsets, superset, and complementary unions.\n",
    "3. work out with several instance statements which sets an instance is/ could be/ can never be a subset of.\n"
   ]
  },
  {
   "cell_type": "code",
   "execution_count": null,
   "metadata": {},
   "outputs": [],
   "source": [
    "# redefining logical statements as dict of dicts to include probabilities and sources.\n",
    "statement = dict()\n",
    "statement[0] = dict()\n",
    "statement[0]['relationship'] = 'collectively exhaustive'\n",
    "statement[0]['from'] = 'U'\n",
    "statement[0]['to'] = ['A','B','C']\n",
    "statement[0]['sources'] = []\n",
    "statement[0]['inferred_from'] = [] # tuple (statement no, rule)\n",
    "statement[0]['probability'] = 1\n",
    "\n",
    "statement[1] = dict()\n",
    "statement[1]['relationship'] = 'overlaps with'\n",
    "statement[1]['from'] = 'A'\n",
    "statement[1]['to'] = 'B'\n",
    "statement[1]['sources'] = []\n",
    "statement[1]['inferred_from'] = [] # tuple (statement no, rule)\n",
    "statement[1]['probability'] = 1\n",
    "\n",
    "statement[2] = dict()\n",
    "statement[2]['relationship'] = 'overlaps with'\n",
    "statement[2]['from'] = 'B'\n",
    "statement[2]['to'] = 'C'\n",
    "statement[2]['sources'] = []\n",
    "statement[2]['inferred_from'] = [] # tuple (statement no, rule)\n",
    "statement[2]['probability'] = 1\n",
    "\n",
    "statement[3] = dict()\n",
    "statement[3]['relationship'] = 'disjoint from'\n",
    "statement[3]['from'] = 'A'\n",
    "statement[3]['to'] = 'C'\n",
    "statement[3]['sources'] = []\n",
    "statement[3]['inferred_from'] = [] # tuple (statement no, rule)\n",
    "statement[3]['probability'] = 1\n",
    "\n",
    "# consider converting to pandas dataframe later"
   ]
  },
  {
   "cell_type": "markdown",
   "metadata": {},
   "source": [
    "Unpacking the collectively exhaustive statement like any other generic statement. by adding more statements ready to be inferred. \n",
    "\n",
    "1. if collectively exhaustive, check statement one by one for validity (no contradictions so far)\n",
    "A is either a subset or identical to U (Some A are U)\n",
    "B is either a subset or identical to U (Some B are U)\n",
    "\n",
    "A could be either subset, identical, overlap with, disjoint from or superset of B, and viceversa. \n",
    "\n",
    "2. unpack the other statements, get reduced specific statements set\n",
    "\n",
    "3. make statements based on this for complementary unions\n",
    "\n",
    "4. get powerset, and multidigraphs\n",
    "\n",
    "5. make inferences"
   ]
  }
 ],
 "metadata": {
  "kernelspec": {
   "display_name": "Python 3",
   "language": "python",
   "name": "python3"
  },
  "language_info": {
   "codemirror_mode": {
    "name": "ipython",
    "version": 3
   },
   "file_extension": ".py",
   "mimetype": "text/x-python",
   "name": "python",
   "nbconvert_exporter": "python",
   "pygments_lexer": "ipython3",
   "version": "3.7.1"
  }
 },
 "nbformat": 4,
 "nbformat_minor": 2
}
