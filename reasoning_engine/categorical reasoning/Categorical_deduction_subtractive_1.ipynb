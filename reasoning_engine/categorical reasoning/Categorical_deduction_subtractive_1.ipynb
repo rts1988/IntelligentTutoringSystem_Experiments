{
 "cells": [
  {
   "cell_type": "markdown",
   "metadata": {},
   "source": [
    "# Categorical deduction (subtraction)\n",
    "\n",
    "1. Take two statements (specific like disjoint/overlap or non specific like some A are B etc., convert to syllogism friendly.\n",
    "2. Make all possible inferences\n",
    "3. take another statement, check if true\n",
    "4. take multiple statements, convert to chain"
   ]
  },
  {
   "cell_type": "code",
   "execution_count": 1,
   "metadata": {},
   "outputs": [],
   "source": [
    "# Syllogism specific statements \n",
    "# First statement A __ B. \n",
    "# Second statement B __ C.\n",
    "# Third statement A ___ C -> look up tables to check if true, possible, or false.\n",
    "\n",
    "specific_statement_options = {'disjoint from','overlaps with','subset of','superset of','identical to'}\n",
    "\n",
    "# make a dictionary. key is a tuple with first statement type, second statement type and third statement type and value is True, Possible, False\n",
    "Truth_Table = dict()\n",
    "Truth_Table[( 'subset of', 'subset of', 'subset of')] = 'True'\n",
    "Truth_Table[( 'identical to', 'subset of', 'subset of')] = 'True'\n",
    "Truth_Table[( 'overlaps with', 'subset of', 'subset of')] = 'Possible'\n",
    "Truth_Table[( 'disjoint from', 'subset of', 'subset of')] = 'Possible'\n",
    "Truth_Table[( 'superset of', 'subset of', 'subset of')] = 'Possible'\n",
    "Truth_Table[( 'subset of', 'identical to', 'subset of')] = 'True'\n",
    "Truth_Table[( 'identical to', 'identical to', 'subset of')] = 'False'\n",
    "Truth_Table[( 'overlaps with', 'identical to', 'subset of')] = 'False'\n",
    "Truth_Table[( 'disjoint from', 'identical to', 'subset of')] = 'False'\n",
    "Truth_Table[( 'superset of', 'identical to', 'subset of')] = 'False'\n",
    "Truth_Table[( 'subset of', 'overlaps with', 'subset of')] = 'Possible'\n",
    "Truth_Table[( 'identical to', 'overlaps with', 'subset of')] = 'False'\n",
    "Truth_Table[( 'overlaps with', 'overlaps with', 'subset of')] = 'Possible'\n",
    "Truth_Table[( 'disjoint from', 'overlaps with', 'subset of')] = 'Possible'\n",
    "Truth_Table[( 'superset of', 'overlaps with', 'subset of')] = 'False'\n",
    "Truth_Table[( 'subset of', 'disjoint from', 'subset of')] = 'False'\n",
    "Truth_Table[( 'identical to', 'disjoint from', 'subset of')] = 'False'\n",
    "Truth_Table[( 'overlaps with', 'disjoint from', 'subset of')] = 'False'\n",
    "Truth_Table[( 'disjoint from', 'disjoint from', 'subset of')] = 'Possible'\n",
    "Truth_Table[( 'superset of', 'disjoint from', 'subset of')] = 'False'\n",
    "Truth_Table[( 'subset of', 'superset of', 'subset of')] = 'Possible'\n",
    "Truth_Table[( 'identical to', 'superset of', 'subset of')] = 'False'\n",
    "Truth_Table[( 'overlaps with', 'superset of', 'subset of')] = 'False'\n",
    "Truth_Table[( 'disjoint from', 'superset of', 'subset of')] = 'False'\n",
    "Truth_Table[( 'superset of', 'superset of', 'subset of')] = 'False'\n",
    "Truth_Table[( 'subset of', 'subset of', 'identical to')] = 'False'\n",
    "Truth_Table[( 'identical to', 'subset of', 'identical to')] = 'False'\n",
    "Truth_Table[( 'overlaps with', 'subset of', 'identical to')] = 'False'\n",
    "Truth_Table[( 'disjoint from', 'subset of', 'identical to')] = 'False'\n",
    "Truth_Table[( 'superset of', 'subset of', 'identical to')] = 'Possible'\n",
    "Truth_Table[( 'subset of', 'identical to', 'identical to')] = 'False'\n",
    "Truth_Table[( 'identical to', 'identical to', 'identical to')] = 'True'\n",
    "Truth_Table[( 'overlaps with', 'identical to', 'identical to')] = 'False'\n",
    "Truth_Table[( 'disjoint from', 'identical to', 'identical to')] = 'False'\n",
    "Truth_Table[( 'superset of', 'identical to', 'identical to')] = 'False'\n",
    "Truth_Table[( 'subset of', 'overlaps with', 'identical to')] = 'False'\n",
    "Truth_Table[( 'identical to', 'overlaps with', 'identical to')] = 'False'\n",
    "Truth_Table[( 'overlaps with', 'overlaps with', 'identical to')] = 'Possible'\n",
    "Truth_Table[( 'disjoint from', 'overlaps with', 'identical to')] = 'False'\n",
    "Truth_Table[( 'superset of', 'overlaps with', 'identical to')] = 'False'\n",
    "Truth_Table[( 'subset of', 'disjoint from', 'identical to')] = 'False'\n",
    "Truth_Table[( 'identical to', 'disjoint from', 'identical to')] = 'False'\n",
    "Truth_Table[( 'overlaps with', 'disjoint from', 'identical to')] = 'False'\n",
    "Truth_Table[( 'disjoint from', 'disjoint from', 'identical to')] = 'Possible'\n",
    "Truth_Table[( 'superset of', 'disjoint from', 'identical to')] = 'False'\n",
    "Truth_Table[( 'subset of', 'superset of', 'identical to')] = 'Possible'\n",
    "Truth_Table[( 'identical to', 'superset of', 'identical to')] = 'False'\n",
    "Truth_Table[( 'overlaps with', 'superset of', 'identical to')] = 'False'\n",
    "Truth_Table[( 'disjoint from', 'superset of', 'identical to')] = 'False'\n",
    "Truth_Table[( 'superset of', 'superset of', 'identical to')] = 'False'\n",
    "Truth_Table[( 'subset of', 'subset of', 'overlaps with')] = 'False'\n",
    "Truth_Table[( 'identical to', 'subset of', 'overlaps with')] = 'False'\n",
    "Truth_Table[( 'overlaps with', 'subset of', 'overlaps with')] = 'Possible'\n",
    "Truth_Table[( 'disjoint from', 'subset of', 'overlaps with')] = 'Possible'\n",
    "Truth_Table[( 'superset of', 'subset of', 'overlaps with')] = 'Possible'\n",
    "Truth_Table[( 'subset of', 'identical to', 'overlaps with')] = 'False'\n",
    "Truth_Table[( 'identical to', 'identical to', 'overlaps with')] = 'False'\n",
    "Truth_Table[( 'overlaps with', 'identical to', 'overlaps with')] = 'True'\n",
    "Truth_Table[( 'disjoint from', 'identical to', 'overlaps with')] = 'False'\n",
    "Truth_Table[( 'superset of', 'identical to', 'overlaps with')] = 'False'\n",
    "Truth_Table[( 'subset of', 'overlaps with', 'overlaps with')] = 'Possible'\n",
    "Truth_Table[( 'identical to', 'overlaps with', 'overlaps with')] = 'True'\n",
    "Truth_Table[( 'overlaps with', 'overlaps with', 'overlaps with')] = 'Possible'\n",
    "Truth_Table[( 'disjoint from', 'overlaps with', 'overlaps with')] = 'Possible'\n",
    "Truth_Table[( 'superset of', 'overlaps with', 'overlaps with')] = 'Possible'\n",
    "Truth_Table[( 'subset of', 'disjoint from', 'overlaps with')] = 'False'\n",
    "Truth_Table[( 'identical to', 'disjoint from', 'overlaps with')] = 'False'\n",
    "Truth_Table[( 'overlaps with', 'disjoint from', 'overlaps with')] = 'Possible'\n",
    "Truth_Table[( 'disjoint from', 'disjoint from', 'overlaps with')] = 'Possible'\n",
    "Truth_Table[( 'superset of', 'disjoint from', 'overlaps with')] = 'Possible'\n",
    "Truth_Table[( 'subset of', 'superset of', 'overlaps with')] = 'Possible'\n",
    "Truth_Table[( 'identical to', 'superset of', 'overlaps with')] = 'False'\n",
    "Truth_Table[( 'overlaps with', 'superset of', 'overlaps with')] = 'Possible'\n",
    "Truth_Table[( 'disjoint from', 'superset of', 'overlaps with')] = 'False'\n",
    "Truth_Table[( 'superset of', 'superset of', 'overlaps with')] = 'False'\n",
    "Truth_Table[( 'subset of', 'subset of', 'disjoint from')] = 'False'\n",
    "Truth_Table[( 'identical to', 'subset of', 'disjoint from')] = 'False'\n",
    "Truth_Table[( 'overlaps with', 'subset of', 'disjoint from')] = 'False'\n",
    "Truth_Table[( 'disjoint from', 'subset of', 'disjoint from')] = 'Possible'\n",
    "Truth_Table[( 'superset of', 'subset of', 'disjoint from')] = 'False'\n",
    "Truth_Table[( 'subset of', 'identical to', 'disjoint from')] = 'False'\n",
    "Truth_Table[( 'identical to', 'identical to', 'disjoint from')] = 'False'\n",
    "Truth_Table[( 'overlaps with', 'identical to', 'disjoint from')] = 'False'\n",
    "Truth_Table[( 'disjoint from', 'identical to', 'disjoint from')] = 'True'\n",
    "Truth_Table[( 'superset of', 'identical to', 'disjoint from')] = 'False'\n",
    "Truth_Table[( 'subset of', 'overlaps with', 'disjoint from')] = 'Possible'\n",
    "Truth_Table[( 'identical to', 'overlaps with', 'disjoint from')] = 'False'\n",
    "Truth_Table[( 'overlaps with', 'overlaps with', 'disjoint from')] = 'Possible'\n",
    "Truth_Table[( 'disjoint from', 'overlaps with', 'disjoint from')] = 'Possible'\n",
    "Truth_Table[( 'superset of', 'overlaps with', 'disjoint from')] = 'False'\n",
    "Truth_Table[( 'subset of', 'disjoint from', 'disjoint from')] = 'True'\n",
    "Truth_Table[( 'identical to', 'disjoint from', 'disjoint from')] = 'True'\n",
    "Truth_Table[( 'overlaps with', 'disjoint from', 'disjoint from')] = 'Possible'\n",
    "Truth_Table[( 'disjoint from', 'disjoint from', 'disjoint from')] = 'Possible'\n",
    "Truth_Table[( 'superset of', 'disjoint from', 'disjoint from')] = 'Possible'\n",
    "Truth_Table[( 'subset of', 'superset of', 'disjoint from')] = 'Possible'\n",
    "Truth_Table[( 'identical to', 'superset of', 'disjoint from')] = 'False'\n",
    "Truth_Table[( 'overlaps with', 'superset of', 'disjoint from')] = 'Possible'\n",
    "Truth_Table[( 'disjoint from', 'superset of', 'disjoint from')] = 'True'\n",
    "Truth_Table[( 'superset of', 'superset of', 'disjoint from')] = 'False'\n",
    "Truth_Table[( 'subset of', 'subset of', 'superset of')] = 'False'\n",
    "Truth_Table[( 'identical to', 'subset of', 'superset of')] = 'False'\n",
    "Truth_Table[( 'overlaps with', 'subset of', 'superset of')] = 'Possible'\n",
    "Truth_Table[( 'disjoint from', 'subset of', 'superset of')] = 'False'\n",
    "Truth_Table[( 'superset of', 'subset of', 'superset of')] = 'Possible'\n",
    "Truth_Table[( 'subset of', 'identical to', 'superset of')] = 'False'\n",
    "Truth_Table[( 'identical to', 'identical to', 'superset of')] = 'False'\n",
    "Truth_Table[( 'overlaps with', 'identical to', 'superset of')] = 'False'\n",
    "Truth_Table[( 'disjoint from', 'identical to', 'superset of')] = 'False'\n",
    "Truth_Table[( 'superset of', 'identical to', 'superset of')] = 'True'\n",
    "Truth_Table[( 'subset of', 'overlaps with', 'superset of')] = 'False'\n",
    "Truth_Table[( 'identical to', 'overlaps with', 'superset of')] = 'False'\n",
    "Truth_Table[( 'overlaps with', 'overlaps with', 'superset of')] = 'Possible'\n",
    "Truth_Table[( 'disjoint from', 'overlaps with', 'superset of')] = 'False'\n",
    "Truth_Table[( 'superset of', 'overlaps with', 'superset of')] = 'Possible'\n",
    "Truth_Table[( 'subset of', 'disjoint from', 'superset of')] = 'False'\n",
    "Truth_Table[( 'identical to', 'disjoint from', 'superset of')] = 'False'\n",
    "Truth_Table[( 'overlaps with', 'disjoint from', 'superset of')] = 'Possible'\n",
    "Truth_Table[( 'disjoint from', 'disjoint from', 'superset of')] = 'Possible'\n",
    "Truth_Table[( 'superset of', 'disjoint from', 'superset of')] = 'Possible'\n",
    "Truth_Table[( 'subset of', 'superset of', 'superset of')] = 'Possible'\n",
    "Truth_Table[( 'identical to', 'superset of', 'superset of')] = 'True'\n",
    "Truth_Table[( 'overlaps with', 'superset of', 'superset of')] = 'Possible'\n",
    "Truth_Table[( 'disjoint from', 'superset of', 'superset of')] = 'False'\n",
    "Truth_Table[( 'superset of', 'superset of', 'superset of')] = 'True'\n",
    "\n"
   ]
  },
  {
   "cell_type": "code",
   "execution_count": 2,
   "metadata": {},
   "outputs": [
    {
     "name": "stdout",
     "output_type": "stream",
     "text": [
      "True\n"
     ]
    }
   ],
   "source": [
    "major_premise = 'subset of'\n",
    "minor_premise = 'subset of'\n",
    "conclusion = 'subset of'\n",
    "truth_value = Truth_Table[(major_premise,minor_premise,conclusion)]\n",
    "print(truth_value)\n",
    "\n",
    "def truth_value_additive(major_premise,minor_premise,conclusion):\n",
    "    return Truth_Table[(major_premise,minor_premise,conclusion)]\n",
    "\n",
    "def all_true_specific(major_premise,minor_premise):\n",
    "    return [x for x in specific_statement_options if Truth_Table[(major_premise,minor_premise,x)]=='True']\n",
    "\n",
    "def all_possible_specific(major_premise,minor_premise):\n",
    "    return [x for x in specific_statement_options if Truth_Table[(major_premise,minor_premise,x)]=='Possible']\n",
    "\n",
    "def all_false_specific(major_premise,minor_premise):\n",
    "    return [x for x in specific_statement_options if Truth_Table[(major_premise,minor_premise,x)]=='False']\n"
   ]
  },
  {
   "cell_type": "code",
   "execution_count": 3,
   "metadata": {},
   "outputs": [
    {
     "data": {
      "text/plain": [
       "'Possible'"
      ]
     },
     "execution_count": 3,
     "metadata": {},
     "output_type": "execute_result"
    }
   ],
   "source": [
    "truth_value_additive('subset of','superset of','overlaps with')"
   ]
  },
  {
   "cell_type": "code",
   "execution_count": 4,
   "metadata": {},
   "outputs": [
    {
     "data": {
      "text/plain": [
       "[]"
      ]
     },
     "execution_count": 4,
     "metadata": {},
     "output_type": "execute_result"
    }
   ],
   "source": [
    "all_true_specific('subset of','overlaps with')"
   ]
  },
  {
   "cell_type": "code",
   "execution_count": 5,
   "metadata": {},
   "outputs": [],
   "source": [
    "reverse_implications = dict()\n",
    "reverse_implications['subset of']='superset of'\n",
    "reverse_implications['identical to']='identical to'\n",
    "reverse_implications['overlaps with']='overlaps with'\n",
    "reverse_implications['disjoint from']='disjoint from'\n",
    "reverse_implications['superset of']='subset of'\n"
   ]
  },
  {
   "cell_type": "code",
   "execution_count": 6,
   "metadata": {},
   "outputs": [],
   "source": [
    "generic_statement_options = {'All','Some','No','Some_not'} # universal affirmative, particular affirmative, universal negative, particular negative\n",
    "generic_to_specific = dict()\n",
    "generic_to_specific['All'] = {'subset of','identical to'}  \n",
    "generic_to_specific['No'] = {'disjoint from'}\n",
    "generic_to_specific['Some'] = {'overlaps with','subset of','identical to','superset of'} # generic_to_specific['All'].union({'superset of','overlaps with'})\n",
    "generic_to_specific['Some_not'] = {'overlaps with','disjoint from','superset of'} # generic_to_specific['No'].union({'superset of','overlaps with'})\n"
   ]
  },
  {
   "cell_type": "code",
   "execution_count": null,
   "metadata": {},
   "outputs": [],
   "source": [
    "# generic premises and conclusion: tautology, fallacy, or possible if\n",
    "# take in generic premises, make powersets of major and minor premise possibilities,\n",
    "# get the truth value for each, and get the joint conclusion: \n",
    "# always true (tautology), sometimes true or possible, and always false\n",
    "import itertools\n",
    "\n",
    "generic_major_premise = 'All'\n",
    "generic_minor_premise = 'No'\n",
    "generic_conclusion = 'No'\n",
    "\n",
    "possibilities = list(itertools.product(generic_to_specific[generic_major_premise],generic_to_specific[generic_minor_premise],generic_to_specific[generic_conclusion]))\n",
    "\n",
    "truth_value_list = []\n",
    "for p in possibilities:\n",
    "    truth_value_list.append(truth_value_additive(p[0],p[1],p[2]))\n",
    "print(possibilities,truth_value_list)"
   ]
  },
  {
   "cell_type": "code",
   "execution_count": null,
   "metadata": {},
   "outputs": [],
   "source": [
    "def generic_truth_value_additive(generic_major_premise,generic_minor_premise,generic_conclusion):\n",
    "    possibilities = list(itertools.product(generic_to_specific[generic_major_premise],generic_to_specific[generic_minor_premise],generic_to_specific[generic_conclusion]))\n",
    "    truth_value_list = []\n",
    "    for p in possibilities:\n",
    "        truth_value_list.append(truth_value_additive(p[0],p[1],p[2]))\n",
    "    print(possibilities,truth_value_list)\n",
    "    if ('True' in truth_value_list) and ('False' not in truth_value_list) and ('Possible' not in truth_value_list):\n",
    "        return 'True'\n",
    "    elif ('False' in truth_value_list) and ('True' in truth_value_list):\n",
    "        return 'Possible'\n",
    "    elif ('Possible' in truth_value_list):\n",
    "        return 'Possible'\n",
    "    elif ('False' in truth_value_list) and ('Possible' not in truth_value_list) and ('True' not in truth_value_list):\n",
    "        return 'False'\n",
    "    else:\n",
    "        return 'Not valid truth values'\n",
    "    \n",
    "\n",
    "    "
   ]
  },
  {
   "cell_type": "code",
   "execution_count": null,
   "metadata": {},
   "outputs": [],
   "source": [
    "generic_truth_value_additive('Some','No','No')"
   ]
  },
  {
   "cell_type": "code",
   "execution_count": null,
   "metadata": {},
   "outputs": [],
   "source": [
    "# reverse implications, additive only (A,B) - (B,C) - (A,C)\n",
    "# define sets\n",
    "sets = ['A','B','C']\n",
    "\n",
    "first_statement = ['B','subset of','A']\n",
    "second_statement = ['C','overlaps with','B']\n",
    "third_statement = ['C','disjoint from','A']\n",
    "\n",
    "additive_set_order_check = dict()\n",
    "additive_set_order_check['first'] = (0,1)\n",
    "additive_set_order_check['second'] = (1,2)\n",
    "additive_set_order_check['third'] = (0,2)\n",
    "# check if a statement needs to be reversed\n",
    "def check_reverse_specific(statement,stype,sets):\n",
    "        if (statement[0]==sets[additive_set_order_check[stype][0]]) and (statement[2]==sets[additive_set_order_check[stype][1]]):\n",
    "            print('straight')\n",
    "            return statement\n",
    "        else:\n",
    "            print('reverse')\n",
    "            return [statement[2],reverse_implications[statement[1]],statement[0]]\n",
    "            \n",
    "# Ideally, should auto calculate order or sets. or alternatively, calculate the reverse of each statement as an inference.\n",
    "\n",
    "\n"
   ]
  },
  {
   "cell_type": "code",
   "execution_count": null,
   "metadata": {},
   "outputs": [],
   "source": [
    "def validate_statement_set(statement_set):\n",
    "    # check for only one type of specific statement between two nodes. check against other statements between those two nodes for compatibility\n",
    "    # reverse relationships also should be checked for validation.\n",
    "    # Are we ever going to accept a group of statements? \n",
    "    "
   ]
  },
  {
   "cell_type": "code",
   "execution_count": 8,
   "metadata": {},
   "outputs": [
    {
     "name": "stdout",
     "output_type": "stream",
     "text": [
      "{'A', 'B', 'D'} {'A', 'C', 'B'} {'A', 'C', 'B', 'D'}\n",
      "{'D'} {'C'}\n"
     ]
    }
   ],
   "source": [
    "# Given a set of statements in the form ['A', 'disjoint from','B'], make all inferences, find all contradictions. \n",
    "import networkx as nx\n",
    "#del(infG)\n",
    "statement_set = [['A','subset of','B'],['B','subset of','A'],['D','identical to','C']]\n",
    "# make a graph? \n",
    "infG = nx.DiGraph()\n",
    "# get list of nodes from elt 0 and 2 from each statement\n",
    "setnodes = set()\n",
    "fromnodes = set()\n",
    "tonodes = set()\n",
    "for statement in statement_set:\n",
    "    fromnodes.add(statement[0])\n",
    "    tonodes.add(statement[2])\n",
    "    infG.add_edge(statement[0],statement[2],rel = statement[1])\n",
    "setnodes = fromnodes.union(tonodes)\n",
    "print(fromnodes,tonodes, setnodes)\n",
    "roots = fromnodes-tonodes\n",
    "ends = tonodes - fromnodes\n",
    "print(roots,ends)"
   ]
  },
  {
   "cell_type": "code",
   "execution_count": 9,
   "metadata": {},
   "outputs": [],
   "source": [
    "import matplotlib.pyplot as plt\n",
    "#nx.draw_spectral(infG,with_labels=True,edge_labels = 'rel' font_size=18,node_size=1200)"
   ]
  },
  {
   "cell_type": "code",
   "execution_count": 10,
   "metadata": {},
   "outputs": [
    {
     "data": {
      "image/png": "[encoded data removed]",
      "text/plain": [
       "<Figure size 432x288 with 1 Axes>"
      ]
     },
     "metadata": {},
     "output_type": "display_data"
    }
   ],
   "source": [
    "pos = nx.spectral_layout(infG)\n",
    "nx.draw(infG, pos, with_labels=True)\n",
    "edge_labels = nx.get_edge_attributes(infG,'rel')\n",
    "nx.draw_networkx_edge_labels(infG, pos, labels = edge_labels)\n",
    "#plt.savefig('this.png')\n",
    "plt.show()\n",
    "#nx.get_edge_attributes(infG,'rel')"
   ]
  },
  {
   "cell_type": "code",
   "execution_count": 11,
   "metadata": {},
   "outputs": [
    {
     "data": {
      "image/png": "[encoded data removed]",
      "text/plain": [
       "<Figure size 432x288 with 1 Axes>"
      ]
     },
     "metadata": {},
     "output_type": "display_data"
    }
   ],
   "source": [
    "# getting reverse implications and redrawing graph\n",
    "infGr = nx.DiGraph()\n",
    "for statement in statement_set:\n",
    "    infGr.add_edge(statement[2],statement[0],rel = reverse_implications[statement[1]])\n",
    "pos = nx.spectral_layout(infGr)\n",
    "nx.draw(infGr, pos, with_labels=True)\n",
    "edge_labels = nx.get_edge_attributes(infGr,'rel')\n",
    "nx.draw_networkx_edge_labels(infGr, pos, labels = edge_labels)\n",
    "#plt.savefig('this.png')\n",
    "plt.show()\n",
    "\n",
    "# note this rewrites the latest edges, and doesn't show multiple edges between nodes, which is annoying. "
   ]
  },
  {
   "cell_type": "code",
   "execution_count": 12,
   "metadata": {},
   "outputs": [],
   "source": [
    "def make_all_inferences(infGc):\n",
    "    roots = {n for n in infG.nodes if list(infG.predecessors(n))==[]}\n",
    "    ends = {n for n in infG.nodes if list(infG.successors(n))==[]}\n",
    "    \n",
    "    infG1 = infGc.copy()\n",
    "    \n",
    "    prev_paths = ['']\n",
    "    no_more_inf_flag = 0\n",
    "    contradiction_found = 0\n",
    "    while no_more_inf_flag==0:\n",
    "        # calculating paths between roots and ends\n",
    "        paths = dict()\n",
    "        num_infs= 0\n",
    "        for r in roots:\n",
    "            paths[r] = dict()\n",
    "            for e in ends:\n",
    "                paths[r][e] = list(nx.all_simple_paths(infG1,r,e))\n",
    "\n",
    "        paths[r][e]= [p for p in paths[r][e] if p not in prev_paths]\n",
    "        prev_paths = prev_paths + paths[r][e]\n",
    "        \n",
    "        \n",
    "        \n",
    "        for r in roots:\n",
    "            for e in ends:\n",
    "                for p in paths[r][e]:\n",
    "                    print(p)\n",
    "                    for i in range(len(p)-2):\n",
    "                        print(p[i],p[i+1],p[i+2])\n",
    "                        inf = all_true_specific(infG1.edges[(p[i],p[i+1])]['rel'],infG1.edges[(p[i+1],p[i+2])]['rel'])\n",
    "                        if len(inf)>0:\n",
    "                            # catch contradictions\n",
    "                            if (p[i],p[i+2]) in infG1.edges():\n",
    "                                if infG1.edges[(p[i],p[i+2])]['rel'] not in inf:\n",
    "                                    print('Contradicting relationship between ',p[i],' and ',p[i+2],' already exists as ',infG1.edges[(p[i],p[i+2])]['rel'])\n",
    "                                    contradiction_found = 1\n",
    "                            else:\n",
    "                                print('Since ',p[i],infG1.edges[(p[i],p[i+1])]['rel'],p[i+1],', and ',p[i+1],infG1.edges[(p[i+1],p[i+2])]['rel'],p[i+2],', this means')\n",
    "                                print(p[i],inf[0],p[i+2])\n",
    "                                infG1.add_edge(p[i],p[i+2],rel=inf[0])\n",
    "                                fromnodes.add(p[i])\n",
    "                                tonodes.add(p[i+2])\n",
    "                                num_infs= num_infs+1\n",
    "        if (num_infs==0) or (contradiction_found==1):\n",
    "            no_more_inf_flag = 1\n",
    "\n",
    "    if contradiction_found==1:\n",
    "        print('not updating graph since contradiction found')\n",
    "        del(infG1)\n",
    "    else: \n",
    "        infGc = infG1.copy()\n",
    "        del(infG1)\n",
    "\n",
    "    edges = list(infGc.edges())\n",
    "    for edge in edges:\n",
    "        print(edge,infGc.edges[edge]['rel'])\n",
    "    return (infGc,contradiction_found)"
   ]
  },
  {
   "cell_type": "code",
   "execution_count": 13,
   "metadata": {},
   "outputs": [
    {
     "name": "stdout",
     "output_type": "stream",
     "text": [
      "['D', 'C']\n",
      "('A', 'B') subset of\n",
      "('B', 'A') subset of\n",
      "('D', 'C') identical to\n",
      "Updated graph\n"
     ]
    }
   ],
   "source": [
    "(infG,cd_found) = make_all_inferences(infG)\n",
    "if cd_found==1:\n",
    "    print('not changing graph until contradiction resolved')\n",
    "else:\n",
    "    print('Updated graph')"
   ]
  },
  {
   "cell_type": "code",
   "execution_count": null,
   "metadata": {},
   "outputs": [],
   "source": [
    "del(infG2)"
   ]
  },
  {
   "cell_type": "code",
   "execution_count": 14,
   "metadata": {},
   "outputs": [],
   "source": [
    "infG2 = nx.MultiDiGraph()\n",
    "for (u,v) in infG.edges():\n",
    "    infG2.add_edge(u,v,0,rel=infG.edges[(u,v)]['rel'])\n",
    "    infG2.add_edge(v,u,1,rel=reverse_implications[infG.edges[(u,v)]['rel']])"
   ]
  },
  {
   "cell_type": "code",
   "execution_count": 15,
   "metadata": {},
   "outputs": [
    {
     "data": {
      "text/plain": [
       "[]"
      ]
     },
     "execution_count": 15,
     "metadata": {},
     "output_type": "execute_result"
    }
   ],
   "source": [
    "list(nx.all_simple_paths(infG2,'D','A'))"
   ]
  },
  {
   "cell_type": "code",
   "execution_count": 16,
   "metadata": {},
   "outputs": [],
   "source": [
    "def get_s_or_r_multi(infG3,u,v):\n",
    "    if infG3.edges.get((u,v,0),'')=='':\n",
    "        return 1\n",
    "    else:\n",
    "        return 0\n",
    "\n",
    "def get_rel_multidigraph(infG3,u,v):\n",
    "    return infG3.edges[(u,v,get_s_or_r_multi(infG3,u,v))]['rel']\n",
    "    "
   ]
  },
  {
   "cell_type": "code",
   "execution_count": 17,
   "metadata": {},
   "outputs": [
    {
     "name": "stdout",
     "output_type": "stream",
     "text": [
      "{'D'} {'C'}\n",
      "{'D': {'C': [['D', 'C']]}}\n"
     ]
    }
   ],
   "source": [
    "roots = {n for n in infG.nodes if list(infG.predecessors(n))==[]}\n",
    "ends = {n for n in infG.nodes if list(infG.successors(n))==[]}\n",
    "print(roots,ends)\n",
    "\n",
    "prev_paths = ['']\n",
    "paths = dict()\n",
    "for r in roots:\n",
    "    paths[r] = dict()\n",
    "    for e in ends:\n",
    "        paths[r][e] = list(nx.all_simple_paths(infG2,r,e))\n",
    "print(paths)"
   ]
  },
  {
   "cell_type": "code",
   "execution_count": 18,
   "metadata": {},
   "outputs": [
    {
     "ename": "KeyError",
     "evalue": "'B'",
     "output_type": "error",
     "traceback": [
      "\u001b[1;31m---------------------------------------------------------------------------\u001b[0m",
      "\u001b[1;31mKeyError\u001b[0m                                  Traceback (most recent call last)",
      "\u001b[1;32m<ipython-input-18-6fb0ade2700e>\u001b[0m in \u001b[0;36m<module>\u001b[1;34m\u001b[0m\n\u001b[1;32m----> 1\u001b[1;33m \u001b[0mall_true_specific\u001b[0m\u001b[1;33m(\u001b[0m\u001b[0mget_rel_multidigraph\u001b[0m\u001b[1;33m(\u001b[0m\u001b[0minfG2\u001b[0m\u001b[1;33m,\u001b[0m\u001b[1;34m'D'\u001b[0m\u001b[1;33m,\u001b[0m\u001b[1;34m'C'\u001b[0m\u001b[1;33m)\u001b[0m\u001b[1;33m,\u001b[0m\u001b[0mget_rel_multidigraph\u001b[0m\u001b[1;33m(\u001b[0m\u001b[0minfG2\u001b[0m\u001b[1;33m,\u001b[0m\u001b[1;34m'C'\u001b[0m\u001b[1;33m,\u001b[0m\u001b[1;34m'B'\u001b[0m\u001b[1;33m)\u001b[0m\u001b[1;33m)\u001b[0m\u001b[1;33m\u001b[0m\u001b[1;33m\u001b[0m\u001b[0m\n\u001b[0m",
      "\u001b[1;32m<ipython-input-16-bba80724bfcf>\u001b[0m in \u001b[0;36mget_rel_multidigraph\u001b[1;34m(infG3, u, v)\u001b[0m\n\u001b[0;32m      6\u001b[0m \u001b[1;33m\u001b[0m\u001b[0m\n\u001b[0;32m      7\u001b[0m \u001b[1;32mdef\u001b[0m \u001b[0mget_rel_multidigraph\u001b[0m\u001b[1;33m(\u001b[0m\u001b[0minfG3\u001b[0m\u001b[1;33m,\u001b[0m\u001b[0mu\u001b[0m\u001b[1;33m,\u001b[0m\u001b[0mv\u001b[0m\u001b[1;33m)\u001b[0m\u001b[1;33m:\u001b[0m\u001b[1;33m\u001b[0m\u001b[1;33m\u001b[0m\u001b[0m\n\u001b[1;32m----> 8\u001b[1;33m     \u001b[1;32mreturn\u001b[0m \u001b[0minfG3\u001b[0m\u001b[1;33m.\u001b[0m\u001b[0medges\u001b[0m\u001b[1;33m[\u001b[0m\u001b[1;33m(\u001b[0m\u001b[0mu\u001b[0m\u001b[1;33m,\u001b[0m\u001b[0mv\u001b[0m\u001b[1;33m,\u001b[0m\u001b[0mget_s_or_r_multi\u001b[0m\u001b[1;33m(\u001b[0m\u001b[0minfG3\u001b[0m\u001b[1;33m,\u001b[0m\u001b[0mu\u001b[0m\u001b[1;33m,\u001b[0m\u001b[0mv\u001b[0m\u001b[1;33m)\u001b[0m\u001b[1;33m)\u001b[0m\u001b[1;33m]\u001b[0m\u001b[1;33m[\u001b[0m\u001b[1;34m'rel'\u001b[0m\u001b[1;33m]\u001b[0m\u001b[1;33m\u001b[0m\u001b[1;33m\u001b[0m\u001b[0m\n\u001b[0m\u001b[0;32m      9\u001b[0m \u001b[1;33m\u001b[0m\u001b[0m\n",
      "\u001b[1;32m~\\Anaconda3\\lib\\site-packages\\networkx\\classes\\reportviews.py\u001b[0m in \u001b[0;36m__getitem__\u001b[1;34m(self, e)\u001b[0m\n\u001b[0;32m   1105\u001b[0m     \u001b[1;32mdef\u001b[0m \u001b[0m__getitem__\u001b[0m\u001b[1;33m(\u001b[0m\u001b[0mself\u001b[0m\u001b[1;33m,\u001b[0m \u001b[0me\u001b[0m\u001b[1;33m)\u001b[0m\u001b[1;33m:\u001b[0m\u001b[1;33m\u001b[0m\u001b[1;33m\u001b[0m\u001b[0m\n\u001b[0;32m   1106\u001b[0m         \u001b[0mu\u001b[0m\u001b[1;33m,\u001b[0m \u001b[0mv\u001b[0m\u001b[1;33m,\u001b[0m \u001b[0mk\u001b[0m \u001b[1;33m=\u001b[0m \u001b[0me\u001b[0m\u001b[1;33m\u001b[0m\u001b[1;33m\u001b[0m\u001b[0m\n\u001b[1;32m-> 1107\u001b[1;33m         \u001b[1;32mreturn\u001b[0m \u001b[0mself\u001b[0m\u001b[1;33m.\u001b[0m\u001b[0m_adjdict\u001b[0m\u001b[1;33m[\u001b[0m\u001b[0mu\u001b[0m\u001b[1;33m]\u001b[0m\u001b[1;33m[\u001b[0m\u001b[0mv\u001b[0m\u001b[1;33m]\u001b[0m\u001b[1;33m[\u001b[0m\u001b[0mk\u001b[0m\u001b[1;33m]\u001b[0m\u001b[1;33m\u001b[0m\u001b[1;33m\u001b[0m\u001b[0m\n\u001b[0m\u001b[0;32m   1108\u001b[0m \u001b[1;33m\u001b[0m\u001b[0m\n\u001b[0;32m   1109\u001b[0m     \u001b[1;32mdef\u001b[0m \u001b[0m__call__\u001b[0m\u001b[1;33m(\u001b[0m\u001b[0mself\u001b[0m\u001b[1;33m,\u001b[0m \u001b[0mnbunch\u001b[0m\u001b[1;33m=\u001b[0m\u001b[1;32mNone\u001b[0m\u001b[1;33m,\u001b[0m \u001b[0mdata\u001b[0m\u001b[1;33m=\u001b[0m\u001b[1;32mFalse\u001b[0m\u001b[1;33m,\u001b[0m \u001b[0mkeys\u001b[0m\u001b[1;33m=\u001b[0m\u001b[1;32mFalse\u001b[0m\u001b[1;33m,\u001b[0m \u001b[0mdefault\u001b[0m\u001b[1;33m=\u001b[0m\u001b[1;32mNone\u001b[0m\u001b[1;33m)\u001b[0m\u001b[1;33m:\u001b[0m\u001b[1;33m\u001b[0m\u001b[1;33m\u001b[0m\u001b[0m\n",
      "\u001b[1;31mKeyError\u001b[0m: 'B'"
     ]
    }
   ],
   "source": [
    "all_true_specific(get_rel_multidigraph(infG2,'D','C'),get_rel_multidigraph(infG2,'C','B'))"
   ]
  },
  {
   "cell_type": "code",
   "execution_count": 19,
   "metadata": {},
   "outputs": [],
   "source": [
    "def make_all_inferences_multi(infGc):\n",
    "    # make multidigraph\n",
    "    infG2 = nx.MultiDiGraph()\n",
    "    roots = list(infG.nodes())\n",
    "    ends = list(infG.nodes())\n",
    "    if str(type(infGc))==\"<class 'networkx.classes.multidigraph.MultiDiGraph'>\": \n",
    "        for (u,v) in infGc.edges():\n",
    "            if get_s_or_r_multi(infGc,u,v)==0:\n",
    "                infG2.add_edge(u,v,0,rel=get_rel_multidigraph(infGc,u,v))\n",
    "                infG2.add_edge(v,u,1,rel=reverse_implications[get_rel_multidigraph(infGc,u,v)])\n",
    "            else:\n",
    "                infG2.add_edge(u,v,1,rel=get_rel_multidigraph(infGc,u,v))\n",
    "                infG2.add_edge(v,u,0,rel=reverse_implications[get_rel_multidigraph(infGc,u,v)])\n",
    "    elif str(type(infGc))==\"<class 'networkx.classes.digraph.DiGraph'>\":\n",
    "        #roots = {n for n in infG.nodes if list(infG.predecessors(n))==[]}\n",
    "        #ends = {n for n in infG.nodes if list(infG.successors(n))==[]}\n",
    "        \n",
    "        for (u,v) in infGc.edges():\n",
    "            infG2.add_edge(u,v,0,rel=infGc.edges[(u,v)]['rel'])\n",
    "            infG2.add_edge(v,u,1,rel=reverse_implications[infGc.edges[(u,v)]['rel']])\n",
    "    else:\n",
    "        print('Only directed graphs or multidirected graphs accepted')\n",
    "        return ('','')\n",
    "\n",
    "    prev_paths = []\n",
    "    no_more_inf_flag = 0\n",
    "    contradiction_found = 0\n",
    "    while no_more_inf_flag==0:\n",
    "        # calculating paths between roots and ends\n",
    "        paths = dict()\n",
    "        num_infs= 0\n",
    "        for r in roots:\n",
    "            paths[r] = dict()\n",
    "            for e in ends:\n",
    "                paths[r][e] = list(nx.all_simple_paths(infG2,r,e))\n",
    "\n",
    "        paths[r][e]= [p for p in paths[r][e] if p not in prev_paths]\n",
    "        prev_paths = prev_paths + paths[r][e]\n",
    "        #print(prev_paths)\n",
    "        \n",
    "        \n",
    "        for r in roots:\n",
    "            for e in ends:\n",
    "                for p in paths[r][e]:\n",
    "                    #print(p)\n",
    "                    for i in range(len(p)-2):\n",
    "                        #print(p[i],p[i+1],p[i+2])\n",
    "                        #print(get_rel_multidigraph(infG2,p[i],p[i+1]))\n",
    "                        #print(get_rel_multidigraph(infG2,p[i+1],p[i+2]))\n",
    "                        inf = all_true_specific(get_rel_multidigraph(infG2,p[i],p[i+1]),get_rel_multidigraph(infG2,p[i+1],p[i+2]))\n",
    "                        if len(inf)>0:\n",
    "                            # catch contradictions\n",
    "                            if (p[i],p[i+2]) in infG2.edges():\n",
    "                                if get_rel_multidigraph(infG2,p[i],p[i+2]) not in inf:\n",
    "                                    print('Contradicting relationship between ',p[i],' and ',p[i+2],' already exists as ',get_rel_multidigraph(infG2,p[i],p[i+2]))\n",
    "                                    contradiction_found = 1\n",
    "                            else:\n",
    "                                print('Since ',p[i],get_rel_multidigraph(infG2,p[i],p[i+1]),p[i+1],', and ',p[i+1],get_rel_multidigraph(infG2,p[i+1],p[i+2]),p[i+2],', this means')\n",
    "                                print(p[i],inf[0],p[i+2])\n",
    "                                infG2.add_edge(p[i],p[i+2],0,rel=inf[0])\n",
    "                                fromnodes.add(p[i])\n",
    "                                tonodes.add(p[i+2])\n",
    "                                num_infs= num_infs+1\n",
    "        if (num_infs==0) or (contradiction_found==1):\n",
    "            no_more_inf_flag = 1\n",
    "\n",
    "    if contradiction_found==1:\n",
    "        print('not updating graph since contradiction found')\n",
    "        del(infG2)\n",
    "    else: \n",
    "        infGc = infG2.copy()\n",
    "        del(infG2)\n",
    "\n",
    "    edges = list(infGc.edges())\n",
    "    for (u,v) in edges:\n",
    "        print('(',u,',',v,')',get_rel_multidigraph(infGc,u,v))\n",
    "    return (infGc,contradiction_found)"
   ]
  },
  {
   "cell_type": "code",
   "execution_count": 20,
   "metadata": {},
   "outputs": [
    {
     "name": "stdout",
     "output_type": "stream",
     "text": [
      "( A , B ) subset of\n",
      "( A , B ) subset of\n",
      "( B , A ) subset of\n",
      "( B , A ) subset of\n",
      "( D , C ) identical to\n",
      "( C , D ) identical to\n"
     ]
    }
   ],
   "source": [
    "(infG,cd) = make_all_inferences_multi(infG)"
   ]
  },
  {
   "cell_type": "code",
   "execution_count": null,
   "metadata": {},
   "outputs": [],
   "source": [
    "roots = list(infG.nodes())\n",
    "ends = list(infG.nodes())"
   ]
  },
  {
   "cell_type": "code",
   "execution_count": null,
   "metadata": {},
   "outputs": [],
   "source": [
    "for r in roots:\n",
    "    for e in ends:\n",
    "        print(list(nx.all_simple_paths(infG,r,e)))"
   ]
  },
  {
   "cell_type": "code",
   "execution_count": null,
   "metadata": {},
   "outputs": [],
   "source": []
  }
 ],
 "metadata": {
  "kernelspec": {
   "display_name": "Python 3",
   "language": "python",
   "name": "python3"
  },
  "language_info": {
   "codemirror_mode": {
    "name": "ipython",
    "version": 3
   },
   "file_extension": ".py",
   "mimetype": "text/x-python",
   "name": "python",
   "nbconvert_exporter": "python",
   "pygments_lexer": "ipython3",
   "version": "3.7.1"
  }
 },
 "nbformat": 4,
 "nbformat_minor": 2
}
