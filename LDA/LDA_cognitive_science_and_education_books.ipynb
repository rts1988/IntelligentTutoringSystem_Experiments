{
 "cells": [
  {
   "cell_type": "markdown",
   "metadata": {},
   "source": [
    "## Divide up my cognitive science and education books into subtopics based on entire document texts\n",
    "\n",
    "- Dataset: C:/Users/Arati/Documents/personal docs/cognitive science and education\n",
    "all txt files (34 total)\n",
    "\n",
    "- Features: Bag of words\n",
    "\n",
    "- Method: LDA sklearn, then repeat with gensim\n",
    "\n",
    "### 1. Load dataset into list of strings for each document"
   ]
  },
  {
   "cell_type": "code",
   "execution_count": 7,
   "metadata": {},
   "outputs": [
    {
     "name": "stdout",
     "output_type": "stream",
     "text": [
      "added  52 Small Changes for the Mind.txt  to corpus.\n",
      "added  A Mind For Numbers_ How to Excel at Math and Science (Even If You Flunked Algebra).txt  to corpus.\n",
      "added  Affective Neuroscience_ The Foundations of Human and Animal Emotions (Series in Affective Science).txt  to corpus.\n",
      "added  Building a Better Teacher_ How Teaching Works (and How to Teach It to Everyone).txt  to corpus.\n",
      "added  Classroom Assessment Techniques_ A Handbook for College Teachers.txt  to corpus.\n",
      "added  Cleverlands.txt  to corpus.\n",
      "added  Essential Questions_ Opening Doors to Student Understanding.txt  to corpus.\n",
      "added  Flow_ The Psychology of Optimal Experience (Harper Perennial Modern Classics).txt  to corpus.\n",
      "added  Hare Brain, Tortoise Mind.txt  to corpus.\n",
      "added  How the Mind Works.txt  to corpus.\n",
      "added  How to Create a Mind_ The Secret of Human Thought Revealed.txt  to corpus.\n",
      "added  How We Learn_ The Surprising Truth About When, Where, and Why It Happens.txt  to corpus.\n",
      "added  Learn Like Einstein_ Memorize More, Read Faster, Focus Better, and Master Anything With Ease… Become An Expert in Record Time (Accelerated Learning).txt  to corpus.\n",
      "added  Learning How to Learn.txt  to corpus.\n",
      "added  Make It Stick.txt  to corpus.\n",
      "added  Making Thinking Visible_ How to Promote Engagement, Understanding, and Independence for All Learners.txt  to corpus.\n",
      "added  Mastery_ The Keys to Success and Long-Term Fulfillment.txt  to corpus.\n",
      "added  Mindshift_ Break Through Obstacles to Learning and Discover Your Hidden Potential.txt  to corpus.\n",
      "added  No One Ever Taught Me How to Learn_ How to Unlock Your Learning Potential and Become Unstoppable.txt  to corpus.\n",
      "added  Remember Everything You Read.txt  to corpus.\n",
      "added  The 4-Hour Chef_ The Simple Path to Cooking Like a Pro, Learning Anything, and Living the Good Life.txt  to corpus.\n",
      "added  The Art of Learning_ A Journey in the Pursuit of Excellence.txt  to corpus.\n",
      "added  The Blank Slate.txt  to corpus.\n",
      "added  The Magic of Mental Diagrams_ Expand Your Memory, Enhance Your Concentration, and Learn to Apply Logic.txt  to corpus.\n",
      "added  The Mechanism of Mind_ Understand how your mind works to maximise memory and creative potential.txt  to corpus.\n",
      "added  The Power of Mindful Learning (A Merloyd Lawrence Book).txt  to corpus.\n",
      "added  The Science of Accelerated Learning_ Advanced Strategies for Quicker Comprehension, Greater Retention, and Systematic Expertise.txt  to corpus.\n",
      "added  The Science of Rapid Skill Acquisition_ Advanced Methods to Learn, Remember, and Master New Skills, Information, and Abilities.txt  to corpus.\n",
      "added  The Stuff of Thought_ Language as a Window into Human Nature.txt  to corpus.\n",
      "added  The Tell-Tale Brain_ A Neuroscientist_s Quest for What Makes Us Human.txt  to corpus.\n",
      "added  The Test.txt  to corpus.\n",
      "added  The Theory of Knowledge_ A Jargon-Free Guide to Epistemology.txt  to corpus.\n",
      "added  Understanding by Design, Expanded 2nd Edition.txt  to corpus.\n",
      "added  Why Don_t Students Like School_.txt  to corpus.\n",
      "Total  34 files added to corpus\n"
     ]
    }
   ],
   "source": [
    "import os\n",
    "path = 'C:/Users/Arati/Documents/personal docs/cognitive science and education/'\n",
    "fnames = []\n",
    "rawtxt = {}\n",
    "for r, d, f in os.walk(path):\n",
    "    for file in f:\n",
    "        if '.txt' in file:\n",
    "            fnames.append(os.path.join(r, file))\n",
    "            with open(os.path.join(r,file), \"r\",encoding = \"utf-8\") as myfile:\n",
    "                rawtxt[file] = myfile.read()\n",
    "            print('added ',file, ' to corpus.')\n",
    "print('Total ',len(fnames), 'files added to corpus')"
   ]
  },
  {
   "cell_type": "markdown",
   "metadata": {},
   "source": [
    "## Making a bag of words (frequency distribution) for each document."
   ]
  },
  {
   "cell_type": "code",
   "execution_count": 44,
   "metadata": {},
   "outputs": [
    {
     "name": "stdout",
     "output_type": "stream",
     "text": [
      "['2nd', '52', 'abilities', 'accelerated', 'acquisition_', 'advanced', 'affective', 'algebra', 'animal', 'apply', 'art', 'assessment', 'better', 'blank', 'book', 'brain', 'brain_', 'break', 'building', 'changes', 'chef_', 'classics', 'classroom', 'cleverlands', 'college', 'comprehension', 'concentration', 'cooking', 'create', 'creative', 'design', 'diagrams_', 'discover', 'don_t', 'doors', 'ease', 'edition', 'einstein_', 'emotions', 'engagement', 'enhance', 'epistemology', 'essential', 'excel', 'excellence', 'expand', 'expanded', 'experience', 'expert', 'expertise', 'faster', 'flow_', 'flunked', 'focus', 'foundations', 'free', 'fulfillment', 'good', 'greater', 'guide', 'handbook', 'happens', 'hare', 'harper', 'hidden', 'hour', 'human', 'independence', 'information', 'jargon', 'journey', 'keys', 'knowledge_', 'language', 'lawrence', 'learn', 'learn_', 'learners', 'learning', 'learning_', 'life', 'like', 'living', 'logic', 'long', 'magic', 'make', 'makes', 'making', 'master', 'mastery_', 'math', 'maximise', 'mechanism', 'memorize', 'memory', 'mental', 'merloyd', 'methods', 'mind', 'mind_', 'mindful', 'mindshift_', 'modern', 'nature', 'neuroscience_', 'neuroscientist_s', 'new', 'numbers_', 'obstacles', 'opening', 'optimal', 'path', 'perennial', 'potential', 'power', 'pro', 'promote', 'psychology', 'pursuit', 'quest', 'questions_', 'quicker', 'rapid', 'read', 'record', 'remember', 'retention', 'revealed', 'school_', 'science', 'secret', 'series', 'simple', 'skill', 'skills', 'slate', 'small', 'stick', 'strategies', 'student', 'students', 'stuff', 'success', 'surprising', 'systematic', 'tale', 'taught', 'teach', 'teacher_', 'teachers', 'teaching', 'techniques_', 'tell', 'term', 'test', 'theory', 'thinking', 'thought', 'thought_', 'time', 'tortoise', 'truth', 'understand', 'understanding', 'unlock', 'unstoppable', 'visible_', 'window', 'works']\n"
     ]
    }
   ],
   "source": [
    "from sklearn.feature_extraction.text import TfidfVectorizer, CountVectorizer\n",
    "no_features= 1500\n",
    "tf_vectorizer = CountVectorizer(max_df=0.99, min_df=1, max_features=no_features, stop_words='english')\n",
    "tf = tf_vectorizer.fit_transform(rawtxt)\n",
    "tf_feature_names = tf_vectorizer.get_feature_names()\n",
    "print(tf_feature_names)"
   ]
  },
  {
   "cell_type": "markdown",
   "metadata": {},
   "source": [
    "### LDA for cognitive science and education books"
   ]
  },
  {
   "cell_type": "code",
   "execution_count": 49,
   "metadata": {},
   "outputs": [],
   "source": [
    "\n",
    "no_topics = 3\n",
    "from sklearn.decomposition import LatentDirichletAllocation\n",
    "lda = LatentDirichletAllocation(n_components=no_topics, max_iter=5, learning_method='online', learning_offset=50.,random_state=0).fit(tf)"
   ]
  },
  {
   "cell_type": "code",
   "execution_count": 50,
   "metadata": {},
   "outputs": [
    {
     "data": {
      "text/plain": [
       "LatentDirichletAllocation(batch_size=128, doc_topic_prior=None,\n",
       "                          evaluate_every=-1, learning_decay=0.7,\n",
       "                          learning_method='online', learning_offset=50.0,\n",
       "                          max_doc_update_iter=100, max_iter=5,\n",
       "                          mean_change_tol=0.001, n_components=3, n_jobs=None,\n",
       "                          perp_tol=0.1, random_state=0, topic_word_prior=None,\n",
       "                          total_samples=1000000.0, verbose=0)"
      ]
     },
     "execution_count": 50,
     "metadata": {},
     "output_type": "execute_result"
    }
   ],
   "source": [
    "lda"
   ]
  },
  {
   "cell_type": "code",
   "execution_count": 51,
   "metadata": {
    "scrolled": true
   },
   "outputs": [
    {
     "name": "stdout",
     "output_type": "stream",
     "text": [
      "Topic 0\n",
      "learning learn read master potential like remember unstoppable book thought_\n",
      "Topic 1\n",
      "science works mind human affective understanding memory learning_ opening mechanism\n",
      "Topic 2\n",
      "mind like tortoise promote changes epistemology classroom engagement theory human\n"
     ]
    }
   ],
   "source": [
    "def display_topics(model, feature_names, no_top_words):\n",
    "    for topic_idx, topic in enumerate(model.components_):\n",
    "        print(\"Topic\",topic_idx)\n",
    "        print(\" \".join([feature_names[i] for i in topic.argsort()[:-no_top_words - 1:-1]]))\n",
    "\n",
    "no_top_words = 10\n",
    "\n",
    "display_topics(lda, tf_feature_names, no_top_words)"
   ]
  },
  {
   "cell_type": "code",
   "execution_count": 52,
   "metadata": {},
   "outputs": [
    {
     "name": "stdout",
     "output_type": "stream",
     "text": [
      "Book:  C:/Users/Arati/Documents/personal docs/cognitive science and education/52 Small Changes for the Mind.txt\n",
      "Topic distribution:  [0.07275846 0.0769751  0.85026644]\n",
      "Book:  C:/Users/Arati/Documents/personal docs/cognitive science and education/A Mind For Numbers_ How to Excel at Math and Science (Even If You Flunked Algebra).txt\n",
      "Topic distribution:  [0.0462383  0.90680906 0.04695264]\n",
      "Book:  C:/Users/Arati/Documents/personal docs/cognitive science and education/Affective Neuroscience_ The Foundations of Human and Animal Emotions (Series in Affective Science).txt\n",
      "Topic distribution:  [0.03689184 0.92558741 0.03752075]\n",
      "Book:  C:/Users/Arati/Documents/personal docs/cognitive science and education/Building a Better Teacher_ How Teaching Works (and How to Teach It to Everyone).txt\n",
      "Topic distribution:  [0.05297766 0.89369916 0.05332318]\n",
      "Book:  C:/Users/Arati/Documents/personal docs/cognitive science and education/Classroom Assessment Techniques_ A Handbook for College Teachers.txt\n",
      "Topic distribution:  [0.05249361 0.05232665 0.89517974]\n",
      "Book:  C:/Users/Arati/Documents/personal docs/cognitive science and education/Cleverlands.txt\n",
      "Topic distribution:  [0.18418463 0.61947363 0.19634174]\n",
      "Book:  C:/Users/Arati/Documents/personal docs/cognitive science and education/Essential Questions_ Opening Doors to Student Understanding.txt\n",
      "Topic distribution:  [0.05300564 0.89412293 0.05287143]\n",
      "Book:  C:/Users/Arati/Documents/personal docs/cognitive science and education/Flow_ The Psychology of Optimal Experience (Harper Perennial Modern Classics).txt\n",
      "Topic distribution:  [0.91785636 0.04058914 0.0415545 ]\n",
      "Book:  C:/Users/Arati/Documents/personal docs/cognitive science and education/Hare Brain, Tortoise Mind.txt\n",
      "Topic distribution:  [0.07270288 0.07654612 0.850751  ]\n",
      "Book:  C:/Users/Arati/Documents/personal docs/cognitive science and education/How the Mind Works.txt\n",
      "Topic distribution:  [0.11793902 0.75694993 0.12511106]\n",
      "Book:  C:/Users/Arati/Documents/personal docs/cognitive science and education/How to Create a Mind_ The Secret of Human Thought Revealed.txt\n",
      "Topic distribution:  [0.05293621 0.05539585 0.89166794]\n",
      "Book:  C:/Users/Arati/Documents/personal docs/cognitive science and education/How We Learn_ The Surprising Truth About When, Where, and Why It Happens.txt\n",
      "Topic distribution:  [0.07782688 0.8471601  0.07501301]\n",
      "Book:  C:/Users/Arati/Documents/personal docs/cognitive science and education/Learn Like Einstein_ Memorize More, Read Faster, Focus Better, and Master Anything With Ease… Become An Expert in Record Time (Accelerated Learning).txt\n",
      "Topic distribution:  [0.95370331 0.02297594 0.02332075]\n",
      "Book:  C:/Users/Arati/Documents/personal docs/cognitive science and education/Learning How to Learn.txt\n",
      "Topic distribution:  [0.76478165 0.1197564  0.11546195]\n",
      "Book:  C:/Users/Arati/Documents/personal docs/cognitive science and education/Make It Stick.txt\n",
      "Topic distribution:  [0.12250401 0.75020321 0.12729278]\n",
      "Book:  C:/Users/Arati/Documents/personal docs/cognitive science and education/Making Thinking Visible_ How to Promote Engagement, Understanding, and Independence for All Learners.txt\n",
      "Topic distribution:  [0.0403268  0.04183453 0.91783867]\n",
      "Book:  C:/Users/Arati/Documents/personal docs/cognitive science and education/Mastery_ The Keys to Success and Long-Term Fulfillment.txt\n",
      "Topic distribution:  [0.05368814 0.89292814 0.05338371]\n",
      "Book:  C:/Users/Arati/Documents/personal docs/cognitive science and education/Mindshift_ Break Through Obstacles to Learning and Discover Your Hidden Potential.txt\n",
      "Topic distribution:  [0.90822839 0.04603618 0.04573542]\n",
      "Book:  C:/Users/Arati/Documents/personal docs/cognitive science and education/No One Ever Taught Me How to Learn_ How to Unlock Your Learning Potential and Become Unstoppable.txt\n",
      "Topic distribution:  [0.89483085 0.05309904 0.05207011]\n",
      "Book:  C:/Users/Arati/Documents/personal docs/cognitive science and education/Remember Everything You Read.txt\n",
      "Topic distribution:  [0.75992915 0.11859477 0.12147608]\n",
      "Book:  C:/Users/Arati/Documents/personal docs/cognitive science and education/The 4-Hour Chef_ The Simple Path to Cooking Like a Pro, Learning Anything, and Living the Good Life.txt\n",
      "Topic distribution:  [0.9375323  0.03058455 0.03188315]\n",
      "Book:  C:/Users/Arati/Documents/personal docs/cognitive science and education/The Art of Learning_ A Journey in the Pursuit of Excellence.txt\n",
      "Topic distribution:  [0.06157595 0.87527967 0.06314438]\n",
      "Book:  C:/Users/Arati/Documents/personal docs/cognitive science and education/The Blank Slate.txt\n",
      "Topic distribution:  [0.75055036 0.12403248 0.12541716]\n",
      "Book:  C:/Users/Arati/Documents/personal docs/cognitive science and education/The Magic of Mental Diagrams_ Expand Your Memory, Enhance Your Concentration, and Learn to Apply Logic.txt\n",
      "Topic distribution:  [0.03509707 0.9307436  0.03415933]\n",
      "Book:  C:/Users/Arati/Documents/personal docs/cognitive science and education/The Mechanism of Mind_ Understand how your mind works to maximise memory and creative potential.txt\n",
      "Topic distribution:  [0.03712641 0.92567134 0.03720225]\n",
      "Book:  C:/Users/Arati/Documents/personal docs/cognitive science and education/The Power of Mindful Learning (A Merloyd Lawrence Book).txt\n",
      "Topic distribution:  [0.89503988 0.05239573 0.05256439]\n",
      "Book:  C:/Users/Arati/Documents/personal docs/cognitive science and education/The Science of Accelerated Learning_ Advanced Strategies for Quicker Comprehension, Greater Retention, and Systematic Expertise.txt\n",
      "Topic distribution:  [0.03197616 0.9363954  0.03162843]\n",
      "Book:  C:/Users/Arati/Documents/personal docs/cognitive science and education/The Science of Rapid Skill Acquisition_ Advanced Methods to Learn, Remember, and Master New Skills, Information, and Abilities.txt\n",
      "Topic distribution:  [0.94573407 0.02750561 0.02676033]\n",
      "Book:  C:/Users/Arati/Documents/personal docs/cognitive science and education/The Stuff of Thought_ Language as a Window into Human Nature.txt\n",
      "Topic distribution:  [0.88967568 0.05562174 0.05470258]\n",
      "Book:  C:/Users/Arati/Documents/personal docs/cognitive science and education/The Tell-Tale Brain_ A Neuroscientist_s Quest for What Makes Us Human.txt\n",
      "Topic distribution:  [0.04682353 0.90608063 0.04709584]\n",
      "Book:  C:/Users/Arati/Documents/personal docs/cognitive science and education/The Test.txt\n",
      "Topic distribution:  [0.61914162 0.18560628 0.1952521 ]\n",
      "Book:  C:/Users/Arati/Documents/personal docs/cognitive science and education/The Theory of Knowledge_ A Jargon-Free Guide to Epistemology.txt\n",
      "Topic distribution:  [0.05263892 0.05210563 0.89525545]\n",
      "Book:  C:/Users/Arati/Documents/personal docs/cognitive science and education/Understanding by Design, Expanded 2nd Edition.txt\n",
      "Topic distribution:  [0.06210855 0.87649055 0.0614009 ]\n",
      "Book:  C:/Users/Arati/Documents/personal docs/cognitive science and education/Why Don_t Students Like School_.txt\n",
      "Topic distribution:  [0.07771379 0.07283104 0.84945517]\n"
     ]
    }
   ],
   "source": [
    "Y = lda.fit_transform(tf)\n",
    "for i in range(len(fnames)):\n",
    "    print('Book: ',fnames[i])\n",
    "    print('Topic distribution: ',Y[i,:])"
   ]
  },
  {
   "cell_type": "markdown",
   "metadata": {},
   "source": [
    "### Results\n",
    "- Books about learning better for self-directed learners are in topic 0\n",
    "- Books about neuroscience and cognitive science and the science of learning are in topic 1\n",
    "- Books about teaching for better learning are in topic 2"
   ]
  },
  {
   "cell_type": "code",
   "execution_count": null,
   "metadata": {},
   "outputs": [],
   "source": []
  }
 ],
 "metadata": {
  "kernelspec": {
   "display_name": "Python 3",
   "language": "python",
   "name": "python3"
  },
  "language_info": {
   "codemirror_mode": {
    "name": "ipython",
    "version": 3
   },
   "file_extension": ".py",
   "mimetype": "text/x-python",
   "name": "python",
   "nbconvert_exporter": "python",
   "pygments_lexer": "ipython3",
   "version": "3.7.1"
  }
 },
 "nbformat": 4,
 "nbformat_minor": 2
}
