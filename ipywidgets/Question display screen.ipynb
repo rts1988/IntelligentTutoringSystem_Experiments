{
 "cells": [
  {
   "cell_type": "code",
   "execution_count": 1,
   "metadata": {},
   "outputs": [],
   "source": [
    "from ipywidgets import interactive_output, Layout\n",
    "import ipywidgets as widgets\n",
    "from IPython.display import clear_output\n",
    "\n",
    "objective = ('Level1: Remember','flashback')\n",
    "conceptcluster = ['abandonment', 'abandonment depression', 'abuse', 'awareness', 'client', 'contempt', 'decade', 'depression', 'emotional flashback', 'fear', 'feeling', 'flashback', 'home', 'matter', 'mother', 'parent', 'safety', 'sensation', 'shame', 'someone', 'toxic shame']\n",
    "\n",
    "def next_q_loader():\n",
    "    print('Loading next question')\n",
    "    \n",
    "def get_hints_list(concept_list):\n",
    "    return ['hint1','hint2','hint3']\n",
    "\n",
    "    "
   ]
  },
  {
   "cell_type": "code",
   "execution_count": 26,
   "metadata": {},
   "outputs": [
    {
     "name": "stdout",
     "output_type": "stream",
     "text": [
      "Loading next question\n"
     ]
    }
   ],
   "source": [
    "box_layout = Layout(display='flex',\n",
    "                    flex_flow='column',\n",
    "                    align_items='stretch',\n",
    "                    border='solid',\n",
    "                    width='50%')\n",
    "\n",
    "home_button = widgets.Button(description='Home',icon = 'home' )\n",
    "\n",
    "def on_home_button_clicked(a):\n",
    "    display('Home button clicked')\n",
    "home_button.on_click(on_home_button_clicked)\n",
    "\n",
    "submit_counter = 0\n",
    "answer_saved = 'No answer saved'\n",
    "\n",
    "submit_button = widgets.Button(description = 'Submit',icon='check')\n",
    "def on_submit_button_clicked(a):\n",
    "    global submit_counter,answer_saved, ui, ui_after_submit,output\n",
    "    #objective = (level_dropdown.value,concept_dropdown.value)\n",
    "    answer_saved = answer_prompt.value\n",
    "    submit_counter= submit_counter + 1\n",
    "    clear_output()\n",
    "    ui = ui_after_submit\n",
    "    display(ui,output)\n",
    "    print('Saved answer: '+answer_saved)\n",
    "    \n",
    "submit_button.on_click(on_submit_button_clicked)\n",
    "\n",
    "hint_counter = 0\n",
    "question_counter = 1\n",
    "\n",
    "hints_list = get_hints_list(['flashback'])\n",
    "hint_button = widgets.Button(description = 'Show hint ('+str(len(hints_list))+')',icon = 'smile')\n",
    "def on_hint_button_clicked(a):\n",
    "    global hints_list, hint_counter\n",
    "    if hint_counter<len(hints_list):\n",
    "        print(hints_list[hint_counter])\n",
    "        hint_counter = hint_counter+1\n",
    "        hint_button.description = 'Show hint ('+str(len(hints_list)-hint_counter)+')'\n",
    "    if hint_counter==len(hints_list):\n",
    "        hint_button.disabled = True\n",
    "hint_button.on_click(on_hint_button_clicked)\n",
    "\n",
    "cancel_button = widgets.Button(description= 'Cancel',icon = 'close')\n",
    "def on_cancel_button_clicked(a):\n",
    "    global submit_counter,answer_saved, ui, ui_before_submit\n",
    "    clear_output()\n",
    "    ui = ui_before_submit\n",
    "    display(ui,output)\n",
    "    if submit_counter >0:\n",
    "        answer_saved = 'No answer saved'\n",
    "        print('Canceled previous selection.')\n",
    "        submit_counter = 0\n",
    "    \n",
    "cancel_button.on_click(on_cancel_button_clicked)\n",
    "\n",
    "skip_button = widgets.Button(description= 'Skip Q',icon = 'hand-peace')\n",
    "def on_skip_button_clicked(a):\n",
    "    global submit_counter,answer_saved\n",
    "    answer_saved = 'No answer saved'\n",
    "    clear_output()\n",
    "    next_q_loader()\n",
    "    if submit_counter >0:\n",
    "        answer_saved = 'No answer saved'\n",
    "        submit_counter = 0\n",
    "skip_button.on_click(on_skip_button_clicked)\n",
    "\n",
    "next_button = widgets.Button(description= 'Next Q',icon = 'hand-peace')\n",
    "def on_next_button_clicked(a):\n",
    "    clear_output()\n",
    "    next_q_loader()\n",
    "next_button.on_click(on_next_button_clicked)\n",
    "\n",
    "\n",
    "header = widgets.HTML('<h2>Active study: '+objective[0]+' '+objective[1]+'</h2>')\n",
    "question_prompt = widgets.HTML('Question prompt example?')\n",
    "answer_prompt = widgets.RadioButtons(options = ['These','are','example','answer','options'])\n",
    "qbox = widgets.VBox([question_prompt,answer_prompt],layout = box_layout)\n",
    "hint = widgets.HTML('this is a hint')\n",
    "\n",
    "ui_before_submit = widgets.VBox([home_button,header,qbox,widgets.HBox([hint_button,submit_button,skip_button])])\n",
    "ui_after_submit = widgets.VBox([home_button,header,qbox,widgets.HBox([hint_button,cancel_button,next_button])])\n",
    "\n",
    "ui = ui_before_submit\n",
    "#ui_with_hint\n",
    "output = widgets.Output()\n",
    "\n",
    "display(ui,output)"
   ]
  },
  {
   "cell_type": "code",
   "execution_count": 18,
   "metadata": {},
   "outputs": [
    {
     "data": {
      "text/plain": [
       "'These'"
      ]
     },
     "execution_count": 18,
     "metadata": {},
     "output_type": "execute_result"
    }
   ],
   "source": [
    "answer_saved"
   ]
  },
  {
   "cell_type": "code",
   "execution_count": 25,
   "metadata": {},
   "outputs": [
    {
     "name": "stdout",
     "output_type": "stream",
     "text": [
      "a\n"
     ]
    }
   ],
   "source": [
    "f = 'alegnlgneg'\n",
    "print(f[0:1])"
   ]
  },
  {
   "cell_type": "code",
   "execution_count": null,
   "metadata": {},
   "outputs": [],
   "source": []
  }
 ],
 "metadata": {
  "kernelspec": {
   "display_name": "Python 3",
   "language": "python",
   "name": "python3"
  },
  "language_info": {
   "codemirror_mode": {
    "name": "ipython",
    "version": 3
   },
   "file_extension": ".py",
   "mimetype": "text/x-python",
   "name": "python",
   "nbconvert_exporter": "python",
   "pygments_lexer": "ipython3",
   "version": "3.7.1"
  }
 },
 "nbformat": 4,
 "nbformat_minor": 2
}
