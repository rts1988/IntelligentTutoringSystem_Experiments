{
 "cells": [
  {
   "cell_type": "markdown",
   "metadata": {},
   "source": [
    "# Question display screen\n",
    "1. include back button: unsaves the previous q answer - display warning.\n",
    "2. next_q_loader that does different types of form questions: radio button, select/ multiselect, textboxautofill, \n",
    "3. link to predicate storage\n",
    "4. next\n",
    "5. add box that shows history of questions and answers on the right?\n",
    "6. hint should be html"
   ]
  },
  {
   "cell_type": "code",
   "execution_count": 31,
   "metadata": {},
   "outputs": [],
   "source": [
    "from ipywidgets import interactive_output, Layout\n",
    "import ipywidgets as widgets\n",
    "from IPython.display import clear_output\n",
    "import random\n",
    "\n",
    "objective = ('Level1: Remember:','flashback')\n",
    "central_concept = objective[1]\n",
    "conceptcluster = ['abandonment', 'abandonment depression', 'abuse', 'awareness', 'client', 'contempt', 'decade', 'depression', 'emotional flashback', 'fear', 'feeling', 'flashback', 'home', 'matter', 'mother', 'parent', 'safety', 'sensation', 'shame', 'someone', 'toxic shame']\n",
    "\n",
    "conceptcuedict = dict(zip(conceptcluster,['start']*(len(conceptcluster))))\n",
    "#hints_list = get_hints_list(['flashback'])\n",
    "qa_history = []\n",
    "hints_list = ['hint1','hint2','hint3','hint4']\n",
    "\n",
    "question_counter = 1\n",
    "def construct_qbox(qdetails):\n",
    "    global review_question_stem_dict,central_concept,conceptcluster\n",
    "#     lenq = len([k for k in review_question_stem_dict[q_key].keys()])\n",
    "    # select one at random\n",
    "#     keyn = random.choice(list(range(lenq)))\n",
    "    \n",
    "    # get length of questions for this cue\n",
    "    question_string = ''\n",
    "    # there is a better more pythonic way to do the loop below, surely\n",
    "    for s in qdetails['prompt']:\n",
    "        if s=='central_concept':\n",
    "            question_string = question_string + central_concept\n",
    "        else:\n",
    "            question_string = question_string + s\n",
    "    question_prompt= widgets.HTML(question_string)\n",
    "    if type(qdetails['answer_options'])==list:\n",
    "        answer_options = qdetails['answer_options']\n",
    "    if qdetails['answer_options']=='neighbors':\n",
    "        answer_options= [a for a in conceptcluster if a is not central_concept]\n",
    "        answer_options.sort()\n",
    "        answer_options = answer_options+ ['None of the above']\n",
    "    question_style = qdetails['question_style']\n",
    "    if question_style=='RadioButton':\n",
    "        answer_prompt = widgets.RadioButtons(options=answer_options)\n",
    "    elif question_style=='DropDown':\n",
    "        answer_prompt = widgets.DropDown(options=answer_options)\n",
    "    elif question_style=='SelectMultiple':\n",
    "        answer_prompt = widgets.SelectMultiple(options=answer_options)\n",
    "    elif question_style=='Combobox':\n",
    "        answer_prompt = widgets.Combobox(options=answer_options,ensure_options=False)\n",
    "    return (question_prompt,answer_prompt)\n",
    "\n",
    "def store_answer(question_string,answer_saved,central_concept):\n",
    "    global review_question_stem_dict, qa_history, conceptcuedict\n",
    "    # history list of strings adds this\n",
    "    qa_history = qa_history + [question_string+': ',answer_saved]\n",
    "#     conceptcuedict[central_concept] = \n",
    "    # store answer in database\n",
    "    if review_question_stem_dict[]\n",
    "    \n",
    "# def get_next_q(answer_cue)"
   ]
  },
  {
   "cell_type": "code",
   "execution_count": 28,
   "metadata": {},
   "outputs": [],
   "source": [
    "question_cue= dict()\n",
    "question_cue['start'] = ['set_or_instance','synonyms']\n",
    "question_cue[('role','central_concept','set','True')] = ['instances','subsets','supersets']\n",
    "question_cue[('role','central_concept','instance','True')] = ['sets']\n",
    "\n",
    "\n",
    "review_question_stem_dict = dict()\n",
    "review_question_stem_dict['set_or_instance'] = dict()\n",
    "\n",
    "review_question_stem_dict['set_or_instance'][0] = dict()\n",
    "review_question_stem_dict['set_or_instance'][0]['prompt'] = ['Can there be more than one ','central_concept',' in the universe?']\n",
    "review_question_stem_dict['set_or_instance'][0]['question_style'] = 'RadioButton' \n",
    "review_question_stem_dict['set_or_instance'][0]['answer_options'] = ['Yes','No']\n",
    "review_question_stem_dict['set_or_instance'][0]['predicate_storage'] = dict()\n",
    "review_question_stem_dict['set_or_instance'][0]['predicate_storage']['Yes'] = ('role','central_concept','set','True')\n",
    "review_question_stem_dict['set_or_instance'][0]['predicate_storage']['No'] = ('role','central_concept','instance','True')\n",
    "\n",
    "review_question_stem_dict['set_or_instance'][1] = dict()\n",
    "review_question_stem_dict['set_or_instance'][1]['prompt'] = ['Is ','central_concept',' a common noun or proper noun?']\n",
    "review_question_stem_dict['set_or_instance'][1]['question_style'] = 'RadioButton' \n",
    "review_question_stem_dict['set_or_instance'][1]['answer_options'] = ['Common noun','Proper noun']\n",
    "review_question_stem_dict['set_or_instance'][1]['predicate_storage'] = dict()\n",
    "review_question_stem_dict['set_or_instance'][1]['predicate_storage']['Common noun'] = ('store','role','central_concept','set','True')\n",
    "review_question_stem_dict['set_or_instance'][1]['predicate_storage']['Proper noun'] = ('store','role','central_concept','instance','True')\n",
    "\n",
    "\n",
    "review_question_stem_dict['synonyms'] = dict()\n",
    "\n",
    "review_question_stem_dict['synonyms'][0] = dict()\n",
    "review_question_stem_dict['synonyms'][0]['prompt'] = ['What are some other terms for ','central_concept','?']\n",
    "review_question_stem_dict['synonyms'][0]['question_style'] = 'Combobox'\n",
    "review_question_stem_dict['synonyms'][0]['answer_options'] = 'neighbors'\n",
    "review_question_stem_dict['synonyms'][0]['predicate_storage'] = ('aka','central_concept','answer','True')\n",
    "\n",
    "review_question_stem_dict['synonyms'][1] = dict()\n",
    "review_question_stem_dict['synonyms'][1]['prompt'] = ['What is ','central_concept','also known as?']\n",
    "review_question_stem_dict['synonyms'][1]['question_style'] = 'Combobox'\n",
    "review_question_stem_dict['synonyms'][1]['answer_options'] = 'neighbors'\n",
    "review_question_stem_dict['synonyms'][1]['predicate_storage'] = ('aka','central_concept','answer','True')\n",
    "\n",
    "review_question_stem_dict['instances'] = dict()\n",
    "\n",
    "review_question_stem_dict['instances'][0] = dict()\n",
    "review_question_stem_dict['instances'][0]['prompt'] = ['What are some examples of ','central_concept','?']\n",
    "review_question_stem_dict['instances'][0]['question_style'] = 'Combobox'\n",
    "review_question_stem_dict['instances'][0]['answer_options'] = 'neighbors'\n",
    "review_question_stem_dict['instances'][0]['predicate_storage'] = ('is_instance_of','answer','central_concept','True')\n"
   ]
  },
  {
   "cell_type": "code",
   "execution_count": 33,
   "metadata": {},
   "outputs": [
    {
     "data": {
      "application/vnd.jupyter.widget-view+json": {
       "model_id": "f8b01f25faaf4af8b77b3a16c0be68ce",
       "version_major": 2,
       "version_minor": 0
      },
      "text/plain": [
       "VBox(children=(Button(description='Home', icon='home', style=ButtonStyle()), HTML(value='<h2>Active study: Lev…"
      ]
     },
     "metadata": {},
     "output_type": "display_data"
    },
    {
     "data": {
      "application/vnd.jupyter.widget-view+json": {
       "model_id": "a3ea6c33530b4584be7b6a908aa1ca87",
       "version_major": 2,
       "version_minor": 0
      },
      "text/plain": [
       "Output()"
      ]
     },
     "metadata": {},
     "output_type": "display_data"
    }
   ],
   "source": [
    "qcue = 'set_or_instance'\n",
    "submit_counter = 0\n",
    "answer_saved = 'No answer saved'\n",
    "hint_counter = 0\n",
    "box_layout = Layout(display='flex',\n",
    "                    flex_flow='column',\n",
    "                    align_items='stretch',\n",
    "                    border='solid',\n",
    "                    width='50%')\n",
    "\n",
    "home_button = widgets.Button(description='Home',icon = 'home' )\n",
    "\n",
    "def on_home_button_clicked(a):\n",
    "    display('Home button clicked')\n",
    "home_button.on_click(on_home_button_clicked)\n",
    "\n",
    "\n",
    "submit_button = widgets.Button(description = 'Submit',icon='check')\n",
    "def on_submit_button_clicked(a):\n",
    "    global submit_counter,answer_saved, ui, ui_after_submit,output\n",
    "    #objective = (level_dropdown.value,concept_dropdown.value)\n",
    "    if type(answer_prompt.value)==str:\n",
    "        answer_saved = answer_prompt.value\n",
    "    if type(answer_prompt.value)==tuple:\n",
    "        answer_saved = answer_prompt.value[0]\n",
    "    submit_counter= submit_counter + 1\n",
    "    clear_output()\n",
    "    ui = ui_after_submit\n",
    "    display(ui,output)\n",
    "    print('Saved answer: '+answer_saved)\n",
    "    \n",
    "submit_button.on_click(on_submit_button_clicked)\n",
    "\n",
    "\n",
    "\n",
    "hint_button = widgets.Button(description = 'Show hint ('+str(len(hints_list))+')',icon = 'smile')\n",
    "def on_hint_button_clicked(a):\n",
    "    global hints_list, hint_counter\n",
    "    if hint_counter<len(hints_list):\n",
    "        print(hints_list[hint_counter])\n",
    "        hint_counter = hint_counter+1\n",
    "        hint_button.description = 'Show hint ('+str(len(hints_list)-hint_counter)+')'\n",
    "    if hint_counter==len(hints_list):\n",
    "        hint_button.disabled = True\n",
    "hint_button.on_click(on_hint_button_clicked)\n",
    "\n",
    "cancel_button = widgets.Button(description= 'Cancel',icon = 'close')\n",
    "def on_cancel_button_clicked(a):\n",
    "    global submit_counter,answer_saved, ui, ui_before_submit\n",
    "    clear_output()\n",
    "    ui = ui_before_submit\n",
    "    display(ui,output)\n",
    "    if submit_counter >0:\n",
    "        answer_saved = 'No answer saved'\n",
    "        print('Canceled previous selection.')\n",
    "        submit_counter = 0\n",
    "    \n",
    "cancel_button.on_click(on_cancel_button_clicked)\n",
    "\n",
    "skip_button = widgets.Button(description= 'Skip Q',icon = 'hand-peace')\n",
    "def on_skip_button_clicked(a):\n",
    "    global submit_counter,answer_saved\n",
    "    answer_saved = 'No answer saved'\n",
    "    clear_output()\n",
    "    next_q_loader()\n",
    "    if submit_counter >0:\n",
    "        answer_saved = 'No answer saved'\n",
    "        submit_counter = 0\n",
    "skip_button.on_click(on_skip_button_clicked)\n",
    "\n",
    "next_button = widgets.Button(description= 'Next Q',icon = 'hand-peace')\n",
    "def on_next_button_clicked(a):\n",
    "    clear_output()\n",
    "    save_answer(question_prompt.value,answer_saved)\n",
    "next_button.on_click(on_next_button_clicked)\n",
    "\n",
    "header = widgets.HTML('<h2>Active study: '+objective[0]+' '+objective[1]+'</h2>')\n",
    "#choose_next_question(conceptcuedict[''])\n",
    "(question_prompt,answer_prompt) = construct_qbox(qcue)\n",
    "qbox = widgets.VBox([question_prompt,answer_prompt],layout = box_layout)\n",
    "\n",
    "hint = widgets.HTML('this is a hint')\n",
    "\n",
    "ui_before_submit = widgets.VBox([home_button,header,qbox,widgets.HBox([hint_button,submit_button,skip_button])])\n",
    "ui_after_submit = widgets.VBox([home_button,header,qbox,widgets.HBox([hint_button,cancel_button,next_button])])\n",
    "\n",
    "ui = ui_before_submit\n",
    "#ui_with_hint\n",
    "output = widgets.Output()\n",
    "\n",
    "\n",
    "\n",
    "display(ui,output)\n",
    "\n"
   ]
  },
  {
   "cell_type": "code",
   "execution_count": 14,
   "metadata": {},
   "outputs": [
    {
     "data": {
      "text/plain": [
       "'emotional flashback'"
      ]
     },
     "execution_count": 14,
     "metadata": {},
     "output_type": "execute_result"
    }
   ],
   "source": []
  },
  {
   "cell_type": "code",
   "execution_count": 28,
   "metadata": {},
   "outputs": [
    {
     "data": {
      "text/plain": [
       "'7.4.2'"
      ]
     },
     "execution_count": 28,
     "metadata": {},
     "output_type": "execute_result"
    }
   ],
   "source": [
    "widgets.__version__"
   ]
  },
  {
   "cell_type": "code",
   "execution_count": 10,
   "metadata": {},
   "outputs": [
    {
     "name": "stdout",
     "output_type": "stream",
     "text": [
      "['a', 'b', 'd', 'x']\n"
     ]
    }
   ],
   "source": [
    "f = ['a','b','x','d']\n",
    "f.sort()\n",
    "print(f)"
   ]
  },
  {
   "cell_type": "code",
   "execution_count": 32,
   "metadata": {},
   "outputs": [
    {
     "data": {
      "text/plain": [
       "{'abandonment': 'start',\n",
       " 'abandonment depression': 'start',\n",
       " 'abuse': 'start',\n",
       " 'awareness': 'start',\n",
       " 'client': 'start',\n",
       " 'contempt': 'start',\n",
       " 'decade': 'start',\n",
       " 'depression': 'start',\n",
       " 'emotional flashback': 'start',\n",
       " 'fear': 'start',\n",
       " 'feeling': 'start',\n",
       " 'flashback': 'start',\n",
       " 'home': 'start',\n",
       " 'matter': 'start',\n",
       " 'mother': 'start',\n",
       " 'parent': 'start',\n",
       " 'safety': 'start',\n",
       " 'sensation': 'start',\n",
       " 'shame': 'start',\n",
       " 'someone': 'start',\n",
       " 'toxic shame': 'start'}"
      ]
     },
     "execution_count": 32,
     "metadata": {},
     "output_type": "execute_result"
    }
   ],
   "source": [
    "conceptcuedict"
   ]
  },
  {
   "cell_type": "code",
   "execution_count": null,
   "metadata": {},
   "outputs": [],
   "source": [
    "# question is asked\n",
    "# question is answered\n",
    "# answer is stored\n",
    "# inferences are run on answer\n",
    "# question cue place is changed for central_concept and answer concepts\n",
    "# next question is loaded"
   ]
  }
 ],
 "metadata": {
  "kernelspec": {
   "display_name": "Python 3",
   "language": "python",
   "name": "python3"
  },
  "language_info": {
   "codemirror_mode": {
    "name": "ipython",
    "version": 3
   },
   "file_extension": ".py",
   "mimetype": "text/x-python",
   "name": "python",
   "nbconvert_exporter": "python",
   "pygments_lexer": "ipython3",
   "version": "3.7.1"
  }
 },
 "nbformat": 4,
 "nbformat_minor": 2
}
