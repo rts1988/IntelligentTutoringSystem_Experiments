{
 "cells": [
  {
   "cell_type": "code",
   "execution_count": 5,
   "metadata": {},
   "outputs": [],
   "source": [
    "from ipywidgets import interact, interactive, fixed, interact_manual, interactive_output\n",
    "import ipywidgets as widgets\n",
    "from IPython.display import clear_output\n",
    "import pickle\n",
    "import pandas as pd\n",
    "#from ipywidgets import Layout, Button, Box\n",
    "\n",
    "\n",
    "filename = 'CPTSD'\n",
    "with open('../processed_data/'+filename + 'conceptimp.pickle','rb') as f1:\n",
    "    dfConceptimp = pickle.load(f1)\n",
    "# consider saving as csv next time"
   ]
  },
  {
   "cell_type": "code",
   "execution_count": 6,
   "metadata": {},
   "outputs": [],
   "source": [
    "# button = widgets.Button(description=\"Click Me!\",icon='hand-o-right')\n",
    "# button2 = widgets.Button(description = 'Done!')\n",
    "# output = widgets.Output()\n",
    "\n",
    "# display(widgets.HBox([button, button2]), output)\n",
    "\n",
    "# def on_button_clicked(b):\n",
    "#     display('Button clicked.')\n",
    "#     display(type(b))\n",
    "# def on_done_clicked(c):\n",
    "#     clear_output()\n",
    "#     output.clear_output()\n",
    "#     display(widgets.HBox([button, button2]), output)\n",
    "# button.on_click(on_button_clicked)\n",
    "# button2.on_click(on_done_clicked)"
   ]
  },
  {
   "cell_type": "markdown",
   "metadata": {},
   "source": [
    "#Display HTML heading font size: Select objective:\n",
    "Image with bloom's pyramid as stand in. will add a custom made diagram\n",
    "Horizontal box with main verb phrase, categorized by level in some way . When selected, display description of verbs\n",
    "Get concepts and display in descending TFIDF mode from uploaded material  \n",
    "When selecting the concept, display stats about the concept: Frequency in the materials, distribution (spread), cluster mode concept map for the concept\n",
    "Material selection (back), Review questions (next)\n",
    "\n",
    "\n",
    "Events:\n",
    "level dropdown select value changes: \n",
    "concept dropdown value changes\n",
    "submit button clicked\n",
    "cancel button clicked\n",
    "home button clicked\n",
    "next button clicked\n",
    "    "
   ]
  },
  {
   "cell_type": "code",
   "execution_count": 16,
   "metadata": {},
   "outputs": [
    {
     "data": {
      "application/vnd.jupyter.widget-view+json": {
       "model_id": "0db16f75ed5b495893b626bc01f3ba24",
       "version_major": 2,
       "version_minor": 0
      },
      "text/plain": [
       "Output()"
      ]
     },
     "metadata": {},
     "output_type": "display_data"
    }
   ],
   "source": [
    "\n",
    "\n",
    "level_desc_dict = {'Level1: Remember':'Recall basic facts and concepts','Level2: Understand':'Explain ideas and concepts',\n",
    "              'Level3: Apply':'Use information in new situations','Level4: Analyze':'Draw connections among ideas',\n",
    "              'Level5: Evaluate':'Judge a stand or decision','Level6: Create':'Produce new or original work'}\n",
    "\n",
    "home_button = widgets.Button(description='Home',icon = 'home' )\n",
    "\n",
    "submit_counter = 0\n",
    "\n",
    "def on_home_button_clicked(a):\n",
    "    display('Home button clicked')\n",
    "home_button.on_click(on_home_button_clicked)\n",
    "\n",
    "header = widgets.HTML(value = \"<h2>Select Objective:</h2>\",layout=widgets.Layout(width='500px'))\n",
    "desc = widgets.HTML(\"Select the highest objective and the concept you want to learn about. Refer to Bloom's taxonomy pyramid below to guide your choice. If the concept you are interested in is not included in the dropdown list, select more relevant material.\")\n",
    "level_desc = widgets.HTML('')\n",
    "concept_info = widgets.HTML('')\n",
    "file = open(\"images/Blooms_temp2.jpg\", \"rb\")\n",
    "image = file.read()\n",
    "blooms_pyramid = widgets.Image(value=image,format='jpg',width=650,height=366)\n",
    "level_sel_header = widgets.HTML(value = \"<h4>Select Expertise Level</h4>\")\n",
    "concept_sel_header = widgets.HTML(value = \"<h4>Select Central Concept</h4>\")\n",
    "\n",
    "level_dropdown = widgets.Dropdown(options = ['Level1: Remember','Level2: Understand','Level3: Apply','Level4: Analyze','Level5: Evaluate','Level6: Create'])\n",
    "\n",
    "concept_options = list(dfConceptimp.sort_values(by='TFIDFA',ascending=False).head(10)['Concept1'])\n",
    "concept_dropdown = widgets.Dropdown(options = concept_options)\n",
    "\n",
    "objective = ('Level1: Remember: Recall basic facts and concepts involving',concept_options[0])\n",
    "\n",
    "#objective_string = widgets.HTML(level_dropdown.value)\n",
    "\n",
    "submit_button = widgets.Button(description = 'Submit',icon='check')\n",
    "def on_submit_button_clicked(a):\n",
    "    global submit_counter,objective\n",
    "    if submit_counter ==0:\n",
    "        objective = (level_dropdown.value,concept_dropdown.value)\n",
    "        print('Saved: ',level_desc_dict[level_dropdown.value] ,'involving', concept_dropdown.value)\n",
    "    submit_counter = submit_counter + 1\n",
    "submit_button.on_click(on_submit_button_clicked)\n",
    "\n",
    "\n",
    "\n",
    "cancel_button = widgets.Button(description= 'Cancel',icon = 'close')\n",
    "def on_cancel_button_clicked(a):\n",
    "    global submit_counter,objective\n",
    "    clear_output()\n",
    "    display(ui,output)\n",
    "    if submit_counter >0:\n",
    "        objective = ('Level1: Remember',concept_options[0])\n",
    "        print('Canceled previous selection.')\n",
    "        submit_counter = 0\n",
    "cancel_button.on_click(on_cancel_button_clicked)\n",
    "        \n",
    "\n",
    "next_button = widgets.Button(description = 'Next: Review known concepts',icon='angle-double-right')    \n",
    "def on_next_button_clicked(a):\n",
    "    global objective\n",
    "    clear_output()\n",
    "    print('will execute next q asker for reviewing for objective',objective[0],objective[1])\n",
    "next_button.on_click(on_next_button_clicked)\n",
    "\n",
    "prev_button = widgets.Button(description = 'Back: Select learning materials',icon='angle-double-left')    \n",
    "def on_prev_button_clicked(a):\n",
    "    clear_output()\n",
    "    print('will execute materials uploading screen with already uploaded files shown')\n",
    "prev_button.on_click(on_prev_button_clicked)\n",
    "\n",
    "output = widgets.Output()\n",
    "# ui = widgets.VBox([home_button,header,desc,widgets.HBox([level_dropdown,concept_dropdown,submit_button]), blooms_pyramid])\n",
    "ui = widgets.VBox([home_button,header,desc,widgets.HBox([widgets.VBox([level_sel_header,level_dropdown]),widgets.VBox([concept_sel_header,concept_dropdown]),submit_button,cancel_button]),level_desc,widgets.HBox([prev_button,next_button])])\n",
    "\n",
    "def f(l,c):\n",
    "    global home_button,header,desc,level_dropdown,concept_dropdown,submit_button,cancel_button, blooms_pyramid,level_desc,prev_button,next_button\n",
    "    level_desc.value = 'Objective: '+level_desc_dict[l]+' involving the concept '+c\n",
    "    ui = widgets.VBox([home_button,header,desc,widgets.HBox([widgets.VBox([level_sel_header,level_dropdown]),widgets.VBox([concept_sel_header,concept_dropdown]),submit_button,cancel_button,level_desc]),widgets.HBox([prev_button,next_button])])\n",
    "    display(ui,output)\n",
    "\n",
    "    \n",
    "# interactive_output(on_select_level,{'x':level_dropdown})\n",
    "\n",
    "interactive_output(f,{'l': level_dropdown,'c': concept_dropdown})\n"
   ]
  },
  {
   "cell_type": "code",
   "execution_count": 8,
   "metadata": {},
   "outputs": [
    {
     "data": {
      "text/plain": [
       "str"
      ]
     },
     "execution_count": 8,
     "metadata": {},
     "output_type": "execute_result"
    }
   ],
   "source": [
    "type(level_dropdown.value)"
   ]
  },
  {
   "cell_type": "markdown",
   "metadata": {},
   "source": [
    "Next steps\n",
    "1. Stats for the selected concepts based on information from conceptimp and conceptpickle.\n",
    "2. Next button, back button\n",
    "3. increase description for each level to include examples based on concept list"
   ]
  }
 ],
 "metadata": {
  "kernelspec": {
   "display_name": "Python 3",
   "language": "python",
   "name": "python3"
  },
  "language_info": {
   "codemirror_mode": {
    "name": "ipython",
    "version": 3
   },
   "file_extension": ".py",
   "mimetype": "text/x-python",
   "name": "python",
   "nbconvert_exporter": "python",
   "pygments_lexer": "ipython3",
   "version": "3.7.1"
  }
 },
 "nbformat": 4,
 "nbformat_minor": 2
}
