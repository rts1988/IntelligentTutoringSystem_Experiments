{
 "cells": [
  {
   "cell_type": "markdown",
   "metadata": {},
   "source": [
    "# Asking salient questions"
   ]
  },
  {
   "cell_type": "markdown",
   "metadata": {},
   "source": [
    "Now that we can generate the concept map, and calculate the cognitive load per sentence, let's display text blurbs in order of increasing cognitive load as we traverse the created learning path. Based on the blurbs, we will ask questions of the student that are multiple choice. The answers will be passed through a basic inference engine. \n",
    "\n",
    "The questions are designed to fill general schema for different entity types in the STEM domain. Relationships are defined based on the roles these entities play. A memory map will be simulated for the student, and review and follow-up questions will be asked based on the memory map for that student. \n",
    "\n",
    "Further work will be done for more intelligent question asking, and being able to prompt critical and creative thinking, through relationship extraction and entity detection models. Directing and/or exploring based on learning goals defined based on Bloom's taxonomy will also be done. \n"
   ]
  },
  {
   "cell_type": "code",
   "execution_count": 4,
   "metadata": {},
   "outputs": [],
   "source": [
    "import nltk\n",
    "from nltk.corpus import stopwords \n",
    "stop_words = set(stopwords.words('english'))\n",
    "\n",
    "filename = 'Fundamental Concepts in Heterogeneous Catalysis'\n",
    "\n",
    "concepts = {}\n",
    "import pickle\n",
    "# Loading extracted concepts from file (see concept_extraction.ipynb)\n",
    "#concepts = {'sents':sents,'rawtxt':rawtxt,'sent_to_npflat':sent_to_npflat,'sent_to_tags':sent_to_tags,'sent_to_ltags':sent_to_ltags,'np_to_sent':np_to_sent,'Conceptdata':Conceptdata}\n",
    "with open(filename +'concepts.pickle', 'rb') as f:\n",
    "    concepts = pickle.load(f)\n",
    "\n",
    "# Loading idf dictionary (see Build_IDF_dictionary.ipynb)\n",
    "with open('idf_dict.pickle','rb') as f1:\n",
    "    idf_dict =pickle.load(f1)\n",
    "\n",
    "sents = concepts['sents']\n",
    "rawtxt = concepts['rawtxt']\n",
    "sent_to_npflat = concepts['sent_to_npflat']\n",
    "sent_to_tags= concepts['sent_to_tags']\n",
    "sent_to_ltags = concepts['sent_to_ltags']\n",
    "np_to_sent = concepts['np_to_sent']\n",
    "Conceptdata = concepts['Conceptdata']\n",
    "\n",
    "import math\n",
    "\n",
    "\n",
    "\n",
    "def get_idf(wrd,totaldocs=10788):\n",
    "    wrd = wrd.lower()\n",
    "    return idf_dict.get(wrd,math.log(totaldocs))\n"
   ]
  },
  {
   "cell_type": "code",
   "execution_count": 5,
   "metadata": {},
   "outputs": [],
   "source": [
    "def calc_cl_per_sentence(sent_to_npflat,maxidf=9.1):\n",
    "    sent_to_clt = []\n",
    "    for i in range(len(sent_to_npflat)):\n",
    "        npinsent = sent_to_npflat[i]\n",
    "        clt= 0\n",
    "        for np in npinsent:\n",
    "            tokens = np.split(' ')\n",
    "            idf = 0\n",
    "            for t in tokens:\n",
    "                if t not in stop_words:\n",
    "                    idf = idf + get_idf(t)/len(tokens)\n",
    "            if (idf>=maxidf):\n",
    "                clt = clt + 1\n",
    "        sent_to_clt.append(clt)\n",
    "    return sent_to_clt\n",
    "\n",
    "def plot_clt():\n",
    "    \n",
    "    from matplotlib import pyplot as plt\n",
    "    plt.xlabel('document sentence #')\n",
    "    plt.ylabel('Load added to working memory by sentence')\n",
    "    plt.title('Cognitive Load for '+filename)\n",
    "    plt.plot(list(range(1,len(sent_to_npflat)+1)),calc_cl_per_sentence(sent_to_npflat),drawstyle='steps')\n",
    "    plt.savefig('cltfig1.png')\n",
    "    return None"
   ]
  },
  {
   "cell_type": "code",
   "execution_count": 6,
   "metadata": {},
   "outputs": [
    {
     "name": "stdout",
     "output_type": "stream",
     "text": [
      "Mininum cognitive load sentence:  ﻿The discovery and development of efficient chemical reactions and processes converting fossil resources into a broad range of fuels and chemicals is one of the most significant scientific developments in chemistry so far.\n",
      "Maximum cognitive load sentence:  IndexActivity mapAdsorbate–adsorbate interactionsAdsorptionentropyequilibriaisothermsApparent activation energyArrhenius expressionBand diagramBEP relationsBoltzmannconstantdistributionformulaBorn–Oppenheimer approximationCatAppCauchy principle valueChemisorptionConfigurational entropyCoupling matrix elementd-bandcentermodeld-projected density of statesDegree of structure sensitivityDensity of statesDiffusionDipole momentEigenstatesEigenvaluesElectrochemical cellElectrostatic potentialEley–RidealEquilibrium constantExchange–correlation energyExternal potential Fermi levelFrozen density approximationGibbs free energydiagramHarmonic transition state theory (HTST)Heat capacityHeisenberg uncertainty principleHeyrovsky mechanismInterpolation principleKramers–Kronig relationsLangmuir isothermLaw of mass actionMean field modelMicrokinetic modelingMiller indicesMinimum energy pathNear-surface alloysNewns–Anderson modelNewtons's 2nd lawNormal hydrogen electrode NHEOverpotentialOxygenevolution reactionreduction reactionPauli repulsionPhysisorptionPolarizabilityPolarization curvePotential energydiagramsurfacePrefactorPromoterRate constantReaction coordinateReversible hydrogen electrode RHESabatieranalysismapprincipleSchrödinger equationSelectivity mapsSolar fuelsSteady-state approximationStirling's approximationStrong metal support interactions SMSISupportTafel plotTight binding modelTransition statescaling relationstheory TSTTransmission coefficientTurnover frequencyVan der Waals interactionsVariational principleVariational transition state theoryVolcano relationZero-point energy WILEY END USER LICENSE AGREEMENTGo to www.wiley.com/go/eula to access Wiley’s ebook EULA.\n"
     ]
    },
    {
     "data": {
      "image/png": "[encoded data removed]",
      "text/plain": [
       "<Figure size 432x288 with 1 Axes>"
      ]
     },
     "metadata": {
      "needs_background": "light"
     },
     "output_type": "display_data"
    }
   ],
   "source": [
    "sent_to_clt = calc_cl_per_sentence(sent_to_npflat)\n",
    "print('Mininum cognitive load sentence: ',sents[sent_to_clt.index(min(sent_to_clt))])\n",
    "print('Maximum cognitive load sentence: ',sents[sent_to_clt.index(max(sent_to_clt))])\n",
    "plot_clt()"
   ]
  },
  {
   "cell_type": "markdown",
   "metadata": {},
   "source": [
    "Functions to get blurbs for two concepts\n"
   ]
  },
  {
   "cell_type": "code",
   "execution_count": 8,
   "metadata": {},
   "outputs": [],
   "source": [
    "def get_sentence_indices(np1,np2,max_distance=3):\n",
    "    sents1 = np_to_sent[np1]\n",
    "    sents2 = np_to_sent[np2]\n",
    "    ind1 = 0\n",
    "    ind2 = 0\n",
    "    tuplist = []\n",
    "    lensents1 = len(sents1)\n",
    "    print(lensents1)\n",
    "    lensents2 = len(sents2)\n",
    "    print(lensents2)\n",
    "    while(ind1<lensents1 and ind2 <lensents2):\n",
    "        #print(ind1,ind2)\n",
    "        if (sents1[ind1]<sents2[ind2]):\n",
    "            #print('sent1 less than sent2')\n",
    "            if sents2[ind2]-sents1[ind1]<=max_distance:\n",
    "                tuplist.append((sents1[ind1],sents2[ind2]))\n",
    "                ind1 = ind1+1\n",
    "                ind2 = ind2 + 1\n",
    "            else:\n",
    "                #ind1 = bs.bisect_left(sents1,sents2[ind2])\n",
    "                ind1 = ind1 + 1\n",
    "        elif (sents1[ind1]>sents2[ind2]):\n",
    "            #print('sent2 less than sent1')\n",
    "            if sents1[ind1]-sents2[ind2] <= max_distance:\n",
    "                tuplist.append((sents2[ind2],sents1[ind1]))\n",
    "                ind1 = ind1 + 1\n",
    "                ind2 = ind2 + 1\n",
    "            else:\n",
    "                #ind2 = bs.bisect_left(sents2,sents1[ind1])\n",
    "                ind2 = ind2 + 1\n",
    "        else:\n",
    "            tuplist.append((sents1[ind1],sents2[ind2]))\n",
    "            ind1 = ind1+1\n",
    "            ind2 = ind2+1\n",
    "    return tuplist\n",
    "\n",
    "def get_blurbs(np1,np2,max_distance=3):\n",
    "    blurblist = []\n",
    "    tuplist = get_sentence_indices(np1,np2,max_distance)\n",
    "    print(tuplist)\n",
    "    for t in tuplist:\n",
    "        blurb = []\n",
    "        print(t)\n",
    "        blurb = ' '.join(sents[t[0]:t[1]+1]).replace('\\n', ' ').replace('\\r', '')\n",
    "        print(blurb)\n",
    "        blurblist.append(blurb)\n",
    "    return tuplist, blurblist"
   ]
  },
  {
   "cell_type": "code",
   "execution_count": 19,
   "metadata": {},
   "outputs": [
    {
     "name": "stdout",
     "output_type": "stream",
     "text": [
      "22\n",
      "18\n",
      "[(2391, 2391)]\n",
      "(2391, 2391)\n",
      "Given the value of the coupling strength V , the renormalized energy level ε a , and the structure Δ(ε ) and filling f of the band, we can determine the total energy.\n"
     ]
    }
   ],
   "source": [
    "tuplist, blurblist = get_blurbs('structure','f',1)"
   ]
  },
  {
   "cell_type": "code",
   "execution_count": null,
   "metadata": {},
   "outputs": [],
   "source": []
  }
 ],
 "metadata": {
  "kernelspec": {
   "display_name": "Python 3",
   "language": "python",
   "name": "python3"
  },
  "language_info": {
   "codemirror_mode": {
    "name": "ipython",
    "version": 3
   },
   "file_extension": ".py",
   "mimetype": "text/x-python",
   "name": "python",
   "nbconvert_exporter": "python",
   "pygments_lexer": "ipython3",
   "version": "3.7.1"
  }
 },
 "nbformat": 4,
 "nbformat_minor": 2
}
