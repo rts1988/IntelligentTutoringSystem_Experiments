{
 "cells": [
  {
   "cell_type": "markdown",
   "metadata": {},
   "source": [
    "# Clustering concepts"
   ]
  },
  {
   "cell_type": "markdown",
   "metadata": {},
   "source": [
    "Make a list of the path distance between each concept to another and feed it to a hierarchical clustering algorithm. \n"
   ]
  },
  {
   "cell_type": "code",
   "execution_count": 3,
   "metadata": {},
   "outputs": [],
   "source": [
    "import itertools\n",
    "from itertools import chain\n",
    "import nltk \n",
    "\n",
    "filename = 'WomanCode'\n",
    "\n",
    "concepts = {}\n",
    "import pickle\n",
    "# Loading extracted concepts from file (see concept_extraction.ipynb)\n",
    "#concepts = {'sents':sents,'rawtxt':rawtxt,'sent_to_npflat':sent_to_npflat,'sent_to_tags':sent_to_tags,'sent_to_ltags':sent_to_ltags,'np_to_sent':np_to_sent,'Conceptdata':Conceptdata}\n",
    "with open('../processed_data/'+filename +'concepts.pickle', 'rb') as f:\n",
    "    concepts = pickle.load(f)\n",
    "\n",
    "# Loading idf dictionary (see Build_IDF_dictionary.ipynb)\n",
    "with open('../processed_data/'+'idf_dict.pickle','rb') as f1:\n",
    "    idf_dict =pickle.load(f1)\n",
    "\n",
    "with open('../processed_data/'+filename+'conceptimp.pickle','rb') as f2:\n",
    "    dfConceptimp = pickle.load(f2)\n",
    "\n",
    "sents = concepts['sents']\n",
    "rawtxt = concepts['rawtxt']\n",
    "sent_to_npflat = concepts['sent_to_npflat']\n",
    "sent_to_tags= concepts['sent_to_tags']\n",
    "sent_to_ltags = concepts['sent_to_ltags']\n",
    "np_to_sent = concepts['np_to_sent']\n",
    "Conceptdata = concepts['Conceptdata']\n",
    "\n",
    "import math\n",
    "\n",
    "\n",
    "\n",
    "def get_idf(wrd,totaldocs=10788):\n",
    "    wrd = wrd.lower()\n",
    "    return idf_dict.get(wrd,math.log(totaldocs))\n"
   ]
  },
  {
   "cell_type": "code",
   "execution_count": 4,
   "metadata": {},
   "outputs": [],
   "source": [
    "import pandas as pd\n",
    "with open('../processed_data/'+filename+'conceptmap.pickle','rb') as f2:\n",
    "    df = pickle.load(f2)"
   ]
  },
  {
   "cell_type": "code",
   "execution_count": 5,
   "metadata": {},
   "outputs": [],
   "source": [
    "import networkx as nx\n",
    "import numpy as num"
   ]
  },
  {
   "cell_type": "code",
   "execution_count": 6,
   "metadata": {},
   "outputs": [
    {
     "name": "stdout",
     "output_type": "stream",
     "text": [
      "38969\n"
     ]
    }
   ],
   "source": [
    "bond_threshold=num.quantile(df['Bondstrength'],0.0)\n",
    "dfdir = df[(df['Direction']>=1) & (df['Bondstrength']>=bond_threshold)]\n",
    "print(len(dfdir))"
   ]
  },
  {
   "cell_type": "code",
   "execution_count": 7,
   "metadata": {},
   "outputs": [
    {
     "name": "stdout",
     "output_type": "stream",
     "text": [
      "0.25\n"
     ]
    }
   ],
   "source": [
    "# Make the graph and calculate paths\n",
    "\n",
    "print(bond_threshold)\n",
    "import networkx as nx\n",
    "import matplotlib.pyplot as plt\n",
    "G = nx.from_pandas_edgelist(dfdir,'Concept1','Concept2', create_using=nx.DiGraph())\n",
    "paths=dict(nx.all_pairs_shortest_path(G,cutoff=None))"
   ]
  }
 ],
 "metadata": {
  "kernelspec": {
   "display_name": "Python 3",
   "language": "python",
   "name": "python3"
  },
  "language_info": {
   "codemirror_mode": {
    "name": "ipython",
    "version": 3
   },
   "file_extension": ".py",
   "mimetype": "text/x-python",
   "name": "python",
   "nbconvert_exporter": "python",
   "pygments_lexer": "ipython3",
   "version": "3.7.1"
  }
 },
 "nbformat": 4,
 "nbformat_minor": 2
}
