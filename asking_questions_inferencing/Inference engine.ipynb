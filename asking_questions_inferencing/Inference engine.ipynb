{
 "cells": [
  {
   "cell_type": "code",
   "execution_count": 8,
   "metadata": {},
   "outputs": [],
   "source": [
    "import pandas as pd\n",
    "from termcolor import colored\n",
    "from IPython.core.interactiveshell import InteractiveShell\n",
    "InteractiveShell.ast_node_interactivity = \"all\""
   ]
  },
  {
   "cell_type": "code",
   "execution_count": 9,
   "metadata": {},
   "outputs": [],
   "source": [
    "## conceptset contains all concept names including synonyms\n",
    "concept_set = {'zeroconcept'}\n",
    "\n",
    "synonym_dict = {}\n",
    "\n",
    "def refer(name):\n",
    "    global synonym_dict\n",
    "    name1 = synonym_dict.get(name,name)\n",
    "    if name1!=name:\n",
    "        print(name+ ' is a synonym for '+name1)\n",
    "    return name1\n",
    "\n",
    "## Function to check if a concept exists\n",
    "\n",
    "def check_exists(conceptname):\n",
    "    conceptname=refer(conceptname)\n",
    "    if (conceptname in concept_set):\n",
    "        return True\n",
    "    else:\n",
    "        return False\n",
    "    \n",
    "\n",
    "def is_aka(setnames):\n",
    "    setnames = set(setnames)\n",
    "    global synonym_dict\n",
    "    ## check which of the names has attributes/states/ etc. associated with it.\n",
    "    ## print those out and ask to resolve.\n",
    "    ## none of these names exist, then add name0 as key andd others as synonyms\n",
    "    ## if non name0 name already has rules associated with it, and no other names including name0\n",
    "    ## maybe key is synonyms and value is real name.\n",
    "    ## in exists function, add to synonym table. \n",
    "    \n",
    "    \n",
    "    \n",
    "    count = []\n",
    "    infodict = {}\n",
    "    for item in setnames:\n",
    "        infodict[item] = findallinformation(item)\n",
    "        if len(infodict[item])>0:\n",
    "            count.append(item)\n",
    "    \n",
    "    if len(count)>1:\n",
    "        print('The following names have descriptions that already exist, please resolve')\n",
    "        print([key for (key,value) in infodict.items() if len(value)>0])\n",
    "    elif len(count)==1:\n",
    "        print('The name '+count[0]+' already has facts and rules associated with it, it will be name of record and others will act as synonyms' )\n",
    "        for item in setnames:\n",
    "            if item not in count:\n",
    "                synonym_dict[item]=count[0]\n",
    "    elif len(count)==0:\n",
    "        print('none of these names have descriptors yet, adding name '+list(setnames)[0]+' as name of record, rest will be synonyms')\n",
    "        exists(list(setnames)[0])\n",
    "        for item in setnames:\n",
    "            if item!=list(setnames)[0]:\n",
    "                synonym_dict[item]=list(setnames)[0]\n"
   ]
  },
  {
   "cell_type": "code",
   "execution_count": 14,
   "metadata": {},
   "outputs": [
    {
     "data": {
      "text/plain": [
       "True"
      ]
     },
     "execution_count": 14,
     "metadata": {},
     "output_type": "execute_result"
    },
    {
     "data": {
      "text/plain": [
       "False"
      ]
     },
     "execution_count": 14,
     "metadata": {},
     "output_type": "execute_result"
    }
   ],
   "source": [
    "check_exists('zeroconcept')\n",
    "\n",
    "check_exists('zeroconcept2')"
   ]
  },
  {
   "cell_type": "code",
   "execution_count": 16,
   "metadata": {},
   "outputs": [
    {
     "data": {
      "text/plain": [
       "{'zeroconcept1': 'zeroconcept2'}"
      ]
     },
     "execution_count": 16,
     "metadata": {},
     "output_type": "execute_result"
    }
   ],
   "source": []
  },
  {
   "cell_type": "code",
   "execution_count": null,
   "metadata": {},
   "outputs": [],
   "source": []
  }
 ],
 "metadata": {
  "kernelspec": {
   "display_name": "Python 3",
   "language": "python",
   "name": "python3"
  },
  "language_info": {
   "codemirror_mode": {
    "name": "ipython",
    "version": 3
   },
   "file_extension": ".py",
   "mimetype": "text/x-python",
   "name": "python",
   "nbconvert_exporter": "python",
   "pygments_lexer": "ipython3",
   "version": "3.7.1"
  }
 },
 "nbformat": 4,
 "nbformat_minor": 2
}
